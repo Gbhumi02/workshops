{
 "cells": [
  {
   "cell_type": "markdown",
   "id": "confidential-spider",
   "metadata": {
    "slideshow": {
     "slide_type": "slide"
    },
    "tags": []
   },
   "source": [
    "# Jina Workshop @ TUM.ai: Building a Neural Image Search Engine"
   ]
  },
  {
   "cell_type": "markdown",
   "id": "cheap-speech",
   "metadata": {
    "slideshow": {
     "slide_type": "slide"
    },
    "tags": []
   },
   "source": [
    "In this workshop we will build a neural search engine for images of Pokemons."
   ]
  },
  {
   "cell_type": "markdown",
   "id": "opposite-course",
   "metadata": {},
   "source": [
    "# Downloading data and model\n",
    "\n",
    "## Download and Extract Data\n",
    "\n",
    "For this example we're using Pokemon sprites from [veekun.com](https://veekun.com/dex/downloads). To download them run:\n",
    "\n",
    "```sh\n",
    "sh ./get_data.sh\n",
    "```\n",
    "\n",
    "## Download and Extract Pretrained Model\n",
    "\n",
    "In this example we use [BiT (Big Transfer) model](https://github.com/google-research/big_transfer), To download it:\n",
    "\n",
    "```sh\n",
    "sh ./download.sh\n",
    "```"
   ]
  },
  {
   "cell_type": "markdown",
   "id": "coated-tamil",
   "metadata": {},
   "source": [
    "# Code"
   ]
  },
  {
   "cell_type": "markdown",
   "id": "expected-grove",
   "metadata": {},
   "source": [
    "Required imports"
   ]
  },
  {
   "cell_type": "code",
   "execution_count": 1,
   "id": "incorporated-variable",
   "metadata": {},
   "outputs": [],
   "source": [
    "import os\n",
    "import sys\n",
    "\n",
    "from jina.flow import Flow\n",
    "from components import *"
   ]
  },
  {
   "cell_type": "markdown",
   "id": "modular-split",
   "metadata": {},
   "source": [
    "Some configuration options.\n",
    "\n",
    "- restrict the nr of docs we index\n",
    "- the path to the images"
   ]
  },
  {
   "cell_type": "code",
   "execution_count": 2,
   "id": "substantial-diamond",
   "metadata": {},
   "outputs": [],
   "source": [
    "num_docs = int(os.environ.get('JINA_MAX_DOCS', 50000))\n",
    "image_src = 'data/**/*.png'"
   ]
  },
  {
   "cell_type": "markdown",
   "id": "pretty-swimming",
   "metadata": {},
   "source": [
    "Environment variables\n",
    "\n",
    "- sharding\n",
    "- workspace (folder where the encoded data will be stored)\n",
    "- port we will listen on"
   ]
  },
  {
   "cell_type": "code",
   "execution_count": 3,
   "id": "serious-journalism",
   "metadata": {},
   "outputs": [],
   "source": [
    "def config():\n",
    "    num_encoders = 1 if sys.argv[1] == 'index' else 1\n",
    "    shards = 8\n",
    "\n",
    "    os.environ['JINA_SHARDS'] = str(num_encoders)\n",
    "    os.environ['JINA_SHARDS_INDEXERS'] = str(shards)\n",
    "    os.environ['JINA_WORKSPACE'] = './workspace'\n",
    "    os.environ['JINA_PORT'] = os.environ.get('JINA_PORT', str(45678))"
   ]
  },
  {
   "cell_type": "code",
   "execution_count": 4,
   "id": "constitutional-conducting",
   "metadata": {},
   "outputs": [],
   "source": [
    "config()"
   ]
  },
  {
   "cell_type": "code",
   "execution_count": 5,
   "id": "intimate-central",
   "metadata": {},
   "outputs": [],
   "source": [
    "workspace = os.environ['JINA_WORKSPACE']"
   ]
  },
  {
   "cell_type": "markdown",
   "id": "interim-capitol",
   "metadata": {},
   "source": [
    "We need to make sure to not index on top of an existing workspace. \n",
    "\n",
    "This can cause problems if you are using different configuration options between the two runs."
   ]
  },
  {
   "cell_type": "code",
   "execution_count": 6,
   "id": "banner-auction",
   "metadata": {
    "tags": []
   },
   "outputs": [
    {
     "name": "stdout",
     "output_type": "stream",
     "text": [
      "\n",
      " +---------------------------------------------------------------------------------+             \n",
      " |                                   🤖🤖🤖                                        |             \n",
      " | The directory ./workspace already exists. Please remove it before indexing again. |             \n",
      " |                                   🤖🤖🤖                                        |             \n",
      " +---------------------------------------------------------------------------------+\n"
     ]
    },
    {
     "ename": "SystemExit",
     "evalue": "",
     "output_type": "error",
     "traceback": [
      "An exception has occurred, use %tb to see the full traceback.\n",
      "\u001b[0;31mSystemExit\u001b[0m\n"
     ]
    },
    {
     "name": "stderr",
     "output_type": "stream",
     "text": [
      "/home/cristian/envs/tum-ws/lib/python3.7/site-packages/IPython/core/interactiveshell.py:3445: UserWarning: To exit: use 'exit', 'quit', or Ctrl-D.\n",
      "  warn(\"To exit: use 'exit', 'quit', or Ctrl-D.\", stacklevel=1)\n"
     ]
    }
   ],
   "source": [
    "if os.path.exists(workspace):\n",
    "    print(f'\\n +---------------------------------------------------------------------------------+ \\\n",
    "            \\n |                                   🤖🤖🤖                                        | \\\n",
    "            \\n | The directory {workspace} already exists. Please remove it before indexing again. | \\\n",
    "            \\n |                                   🤖🤖🤖                                        | \\\n",
    "            \\n +---------------------------------------------------------------------------------+')\n",
    "    sys.exit()"
   ]
  },
  {
   "cell_type": "markdown",
   "id": "extra-blade",
   "metadata": {},
   "source": [
    "# Flows"
   ]
  },
  {
   "cell_type": "markdown",
   "id": "supposed-order",
   "metadata": {},
   "source": [
    "The Flow is the main pipeline in Jina. It describes the way data should be loaded, processed, stored etc. within the system. \n",
    "\n",
    "It is made up of components (called Pods), which are the ones doing the specific task.\n",
    "\n",
    "Ex. we have an Encoder Pod, which loads the model and *encodes* that data"
   ]
  },
  {
   "cell_type": "markdown",
   "id": "peripheral-intelligence",
   "metadata": {},
   "source": [
    "## Index Flow\n",
    "\n",
    "Depending on your need the Flow can be configured in different ways. While indexing (storing) data, we can optimize the pipeline to process the data in parallel"
   ]
  },
  {
   "cell_type": "code",
   "execution_count": 9,
   "id": "agreed-mexico",
   "metadata": {},
   "outputs": [],
   "source": [
    "# for index\n",
    "f = Flow.load_config('flows/index.yml')"
   ]
  },
  {
   "cell_type": "code",
   "execution_count": 13,
   "id": "unlikely-poker",
   "metadata": {
    "collapsed": true,
    "jupyter": {
     "outputs_hidden": true
    },
    "tags": []
   },
   "outputs": [
    {
     "data": {
      "text/html": [
       "<img src=\"https://mermaid.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\"/>"
      ],
      "text/plain": [
       "<IPython.core.display.Image object>"
      ]
     },
     "metadata": {},
     "output_type": "display_data"
    },
    {
     "name": "stdout",
     "output_type": "stream",
     "text": [
      "           JINA@59807[E]:\u001b[31mcan not download image, please check your graph and the network connections\u001b[0m\n"
     ]
    },
    {
     "data": {
      "text/html": [
       "<img src=\"https://mermaid.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\"/>"
      ],
      "text/plain": [
       "<IPython.core.display.Image object>"
      ]
     },
     "metadata": {},
     "output_type": "display_data"
    }
   ],
   "source": [
    "f.plot('index.png', inline_display=True)"
   ]
  },
  {
   "cell_type": "markdown",
   "id": "vocal-hacker",
   "metadata": {},
   "source": [
    "The Flow is a context manager (like a file handler).\n",
    "\n",
    "We load data into the pipeline from the directory we provided above. \n",
    "\n",
    "`request_size` dictates how many images should be sent in one request (~batching)."
   ]
  },
  {
   "cell_type": "code",
   "execution_count": null,
   "id": "qualified-crime",
   "metadata": {},
   "outputs": [],
   "source": [
    "with f:\n",
    "    f.index_files(image_src, request_size=64, read_mode='rb', size=num_docs)"
   ]
  },
  {
   "cell_type": "markdown",
   "id": "southern-cleveland",
   "metadata": {},
   "source": [
    "# Searching"
   ]
  },
  {
   "cell_type": "markdown",
   "id": "monthly-field",
   "metadata": {},
   "source": [
    "When searching we need to make sure the data is processed in serial manner."
   ]
  },
  {
   "cell_type": "code",
   "execution_count": 14,
   "id": "progressive-gardening",
   "metadata": {},
   "outputs": [],
   "source": [
    "f = Flow.load_config('flows/query.yml')"
   ]
  },
  {
   "cell_type": "code",
   "execution_count": 16,
   "id": "boring-dominant",
   "metadata": {
    "slideshow": {
     "slide_type": "slide"
    },
    "tags": []
   },
   "outputs": [
    {
     "data": {
      "text/html": [
       "<img src=\"https://mermaid.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\"/>"
      ],
      "text/plain": [
       "<IPython.core.display.Image object>"
      ]
     },
     "metadata": {},
     "output_type": "display_data"
    }
   ],
   "source": [
    "f.plot('search.png')"
   ]
  },
  {
   "cell_type": "markdown",
   "id": "olympic-dodge",
   "metadata": {},
   "source": [
    "This will activate the REST API.\n",
    "\n",
    "We can then use the frontend interface provided in https://jina.ai/jinabox.js/\n",
    "\n",
    " - You can use [Jinabox.js](https://jina.ai/jinabox.js/) to find the Pokemon which matches most clearly. Just set the endpoint to `http://127.0.0.1:45678/api/search` and drag from the thumbnails on the left or from your file manager.\n",
    " - Or you can `curl`/query/js it via HTTP POST request. [Details here](#query-via-rest-api). "
   ]
  },
  {
   "cell_type": "code",
   "execution_count": 17,
   "id": "cross-relevance",
   "metadata": {
    "collapsed": true,
    "jupyter": {
     "outputs_hidden": true
    },
    "tags": []
   },
   "outputs": [
    {
     "name": "stdout",
     "output_type": "stream",
     "text": [
      "        crafter@60431[I]:starting jina.peapods.runtimes.zmq.zed.ZEDRuntime...\n",
      "        crafter@60431[I]:input \u001b[33mtcp://0.0.0.0:44617\u001b[0m (PULL_BIND) output \u001b[33mtcp://0.0.0.0:47577\u001b[0m (PUSH_CONNECT) control over \u001b[33mtcp://0.0.0.0:40513\u001b[0m (PAIR_BIND)\n",
      "      tf_encode@60440[I]:starting jina.peapods.runtimes.zmq.zed.ZEDRuntime...\n",
      "      tf_encode@60440[I]:input \u001b[33mtcp://0.0.0.0:47577\u001b[0m (PULL_BIND) output \u001b[33mtcp://0.0.0.0:57581\u001b[0m (PUSH_CONNECT) control over \u001b[33mtcp://0.0.0.0:57207\u001b[0m (PAIR_BIND)\n",
      "   vec_idx/head@60449[I]:starting jina.peapods.runtimes.zmq.zed.ZEDRuntime...\n",
      "   vec_idx/head@60449[I]:input \u001b[33mtcp://0.0.0.0:57581\u001b[0m (PULL_BIND) output \u001b[33mtcp://0.0.0.0:54213\u001b[0m (PUB_BIND) control over \u001b[33mtcp://0.0.0.0:35763\u001b[0m (PAIR_BIND)\n",
      "    ImageReader@60431[I]:post_init may take some time...\n",
      "BigTransferEncoder@60440[I]:post_init may take some time...\n",
      "   vec_idx/tail@60460[I]:starting jina.peapods.runtimes.zmq.zed.ZEDRuntime...\n",
      "    ImageReader@60431[I]:post_init may take some time takes 0 seconds (0.01s)\n",
      "   vec_idx/tail@60460[I]:input \u001b[33mtcp://0.0.0.0:50025\u001b[0m (PULL_BIND) output \u001b[33mtcp://0.0.0.0:53121\u001b[0m (PUSH_CONNECT) control over \u001b[33mtcp://0.0.0.0:33191\u001b[0m (PAIR_BIND)\n",
      "    ImageReader@60431[W]:\u001b[40m\u001b[33mThe arguments {'from_bytes'} defined in the YAML are not expected in the class ImageReader\u001b[0m\n",
      "   BaseExecutor@60449[I]:post_init may take some time...\n",
      "      vec_idx/1@60481[I]:starting jina.peapods.runtimes.zmq.zed.ZEDRuntime...\n",
      "    ImageReader@60431[S]:\u001b[32msuccessfully built ImageReader from a yaml config\u001b[0m\n",
      "   BaseExecutor@60449[I]:post_init may take some time takes 0 seconds (0.01s)\n",
      "      vec_idx/1@60481[I]:input \u001b[33mtcp://0.0.0.0:54213\u001b[0m (SUB_CONNECT) output \u001b[33mtcp://0.0.0.0:50025\u001b[0m (PUSH_CONNECT) control over \u001b[33mtcp://0.0.0.0:40243\u001b[0m (PAIR_BIND)\n",
      "ImageNormalizer@60431[I]:post_init may take some time...\n",
      "   BaseExecutor@60449[S]:\u001b[32msuccessfully built BaseExecutor from a yaml config\u001b[0m\n",
      "ImageNormalizer@60431[I]:post_init may take some time takes 0 seconds (0.01s)\n",
      "   BaseExecutor@60460[I]:post_init may take some time...\n",
      "ImageNormalizer@60431[S]:\u001b[32msuccessfully built ImageNormalizer from a yaml config\u001b[0m\n",
      "      vec_idx/2@60497[I]:starting jina.peapods.runtimes.zmq.zed.ZEDRuntime...\n",
      "   BaseExecutor@60460[I]:post_init may take some time takes 0 seconds (0.00s)\n",
      "      vec_idx/2@60497[I]:input \u001b[33mtcp://0.0.0.0:54213\u001b[0m (SUB_CONNECT) output \u001b[33mtcp://0.0.0.0:50025\u001b[0m (PUSH_CONNECT) control over \u001b[33mtcp://0.0.0.0:34601\u001b[0m (PAIR_BIND)\n",
      "      vec_idx/3@60520[I]:starting jina.peapods.runtimes.zmq.zed.ZEDRuntime...\n",
      "   BaseExecutor@60460[S]:\u001b[32msuccessfully built BaseExecutor from a yaml config\u001b[0m\n",
      "CompoundExecutor@60431[I]:post_init may take some time...\n",
      "CompoundExecutor@60431[I]:post_init may take some time takes 0 seconds (0.01s)\n",
      "CompoundExecutor@60431[S]:\u001b[32msuccessfully built CompoundExecutor from a yaml config\u001b[0m\n",
      "   NumpyIndexer@60481[I]:post_init may take some time...\n",
      "      vec_idx/3@60520[I]:input \u001b[33mtcp://0.0.0.0:54213\u001b[0m (SUB_CONNECT) output \u001b[33mtcp://0.0.0.0:50025\u001b[0m (PUSH_CONNECT) control over \u001b[33mtcp://0.0.0.0:34355\u001b[0m (PAIR_BIND)\n",
      "   NumpyIndexer@60481[I]:post_init may take some time takes 0 seconds (0.00s)\n",
      "   NumpyIndexer@60481[S]:\u001b[32msuccessfully built NumpyIndexer from a yaml config\u001b[0m\n",
      "      vec_idx/4@60541[I]:starting jina.peapods.runtimes.zmq.zed.ZEDRuntime...\n",
      "   NumpyIndexer@60497[I]:post_init may take some time...\n",
      "   NumpyIndexer@60497[I]:post_init may take some time takes 0 seconds (0.01s)\n",
      "   NumpyIndexer@60497[S]:\u001b[32msuccessfully built NumpyIndexer from a yaml config\u001b[0m\n",
      "      vec_idx/4@60541[I]:input \u001b[33mtcp://0.0.0.0:54213\u001b[0m (SUB_CONNECT) output \u001b[33mtcp://0.0.0.0:50025\u001b[0m (PUSH_CONNECT) control over \u001b[33mtcp://0.0.0.0:51575\u001b[0m (PAIR_BIND)\n",
      "      vec_idx/5@60557[I]:starting jina.peapods.runtimes.zmq.zed.ZEDRuntime...\n",
      "      vec_idx/5@60557[I]:input \u001b[33mtcp://0.0.0.0:54213\u001b[0m (SUB_CONNECT) output \u001b[33mtcp://0.0.0.0:50025\u001b[0m (PUSH_CONNECT) control over \u001b[33mtcp://0.0.0.0:56431\u001b[0m (PAIR_BIND)\n",
      "   NumpyIndexer@60520[I]:post_init may take some time...\n",
      "   NumpyIndexer@60520[I]:post_init may take some time takes 0 seconds (0.00s)\n",
      "   NumpyIndexer@60520[S]:\u001b[32msuccessfully built NumpyIndexer from a yaml config\u001b[0m\n",
      "      vec_idx/6@60573[I]:starting jina.peapods.runtimes.zmq.zed.ZEDRuntime...\n",
      "      vec_idx/6@60573[I]:input \u001b[33mtcp://0.0.0.0:54213\u001b[0m (SUB_CONNECT) output \u001b[33mtcp://0.0.0.0:50025\u001b[0m (PUSH_CONNECT) control over \u001b[33mtcp://0.0.0.0:58693\u001b[0m (PAIR_BIND)\n",
      "      vec_idx/7@60586[I]:starting jina.peapods.runtimes.zmq.zed.ZEDRuntime...\n",
      "   NumpyIndexer@60541[I]:post_init may take some time...\n",
      "      vec_idx/7@60586[I]:input \u001b[33mtcp://0.0.0.0:54213\u001b[0m (SUB_CONNECT) output \u001b[33mtcp://0.0.0.0:50025\u001b[0m (PUSH_CONNECT) control over \u001b[33mtcp://0.0.0.0:36197\u001b[0m (PAIR_BIND)\n",
      "   NumpyIndexer@60541[I]:post_init may take some time takes 0 seconds (0.02s)\n",
      "   NumpyIndexer@60557[I]:post_init may take some time...\n",
      "   NumpyIndexer@60541[S]:\u001b[32mrestore NumpyIndexer from ./workspace/vec_idx-4/vec_idx.bin\u001b[0m\n",
      "      vec_idx/8@60598[I]:starting jina.peapods.runtimes.zmq.zed.ZEDRuntime...\n",
      "   NumpyIndexer@60557[I]:post_init may take some time takes 0 seconds (0.03s)\n",
      "   NumpyIndexer@60557[S]:\u001b[32mrestore NumpyIndexer from ./workspace/vec_idx-5/vec_idx.bin\u001b[0m\n",
      "   doc_idx/head@60614[I]:starting jina.peapods.runtimes.zmq.zed.ZEDRuntime...\n",
      "   doc_idx/tail@60621[I]:starting jina.peapods.runtimes.zmq.zed.ZEDRuntime...\n",
      "   NumpyIndexer@60573[I]:post_init may take some time...\n",
      "   NumpyIndexer@60573[I]:post_init may take some time takes 0 seconds (0.04s)\n",
      "   NumpyIndexer@60586[I]:post_init may take some time...\n",
      "      vec_idx/8@60598[I]:input \u001b[33mtcp://0.0.0.0:54213\u001b[0m (SUB_CONNECT) output \u001b[33mtcp://0.0.0.0:50025\u001b[0m (PUSH_CONNECT) control over \u001b[33mtcp://0.0.0.0:60381\u001b[0m (PAIR_BIND)\n",
      "   NumpyIndexer@60573[S]:\u001b[32msuccessfully built NumpyIndexer from a yaml config\u001b[0m\n",
      "      doc_idx/1@60627[I]:starting jina.peapods.runtimes.zmq.zed.ZEDRuntime...\n",
      "   NumpyIndexer@60586[I]:post_init may take some time takes 0 seconds (0.03s)\n",
      "   NumpyIndexer@60586[S]:\u001b[32msuccessfully built NumpyIndexer from a yaml config\u001b[0m\n",
      "   doc_idx/head@60614[I]:input \u001b[33mtcp://0.0.0.0:53121\u001b[0m (PULL_BIND) output \u001b[33mtcp://0.0.0.0:59921\u001b[0m (PUB_BIND) control over \u001b[33mtcp://0.0.0.0:40447\u001b[0m (PAIR_BIND)\n",
      "   doc_idx/tail@60621[I]:input \u001b[33mtcp://0.0.0.0:59297\u001b[0m (PULL_BIND) output \u001b[33mtcp://0.0.0.0:36741\u001b[0m (PUSH_BIND) control over \u001b[33mtcp://0.0.0.0:51677\u001b[0m (PAIR_BIND)\n",
      "      doc_idx/2@60649[I]:starting jina.peapods.runtimes.zmq.zed.ZEDRuntime...\n",
      "   NumpyIndexer@60598[I]:post_init may take some time...\n",
      "   NumpyIndexer@60598[S]:\u001b[32msuccessfully built NumpyIndexer from a yaml config\u001b[0m\n",
      "   NumpyIndexer@60598[I]:post_init may take some time takes 0 seconds (0.00s)\n",
      "   BaseExecutor@60614[I]:post_init may take some time...\n",
      "   BaseExecutor@60614[I]:post_init may take some time takes 0 seconds (0.00s)\n",
      "   BaseExecutor@60614[S]:\u001b[32msuccessfully built BaseExecutor from a yaml config\u001b[0m\n",
      "   BaseExecutor@60621[I]:post_init may take some time...\n",
      "      doc_idx/1@60627[I]:input \u001b[33mtcp://0.0.0.0:59921\u001b[0m (SUB_CONNECT) output \u001b[33mtcp://0.0.0.0:59297\u001b[0m (PUSH_CONNECT) control over \u001b[33mtcp://0.0.0.0:57949\u001b[0m (PAIR_BIND)\n",
      "   BaseExecutor@60621[I]:post_init may take some time takes 0 seconds (0.00s)\n",
      "      doc_idx/2@60649[I]:input \u001b[33mtcp://0.0.0.0:59921\u001b[0m (SUB_CONNECT) output \u001b[33mtcp://0.0.0.0:59297\u001b[0m (PUSH_CONNECT) control over \u001b[33mtcp://0.0.0.0:52929\u001b[0m (PAIR_BIND)\n",
      "   BaseExecutor@60621[S]:\u001b[32msuccessfully built BaseExecutor from a yaml config\u001b[0m\n",
      "      doc_idx/3@60658[I]:starting jina.peapods.runtimes.zmq.zed.ZEDRuntime...\n",
      "      doc_idx/3@60658[I]:input \u001b[33mtcp://0.0.0.0:59921\u001b[0m (SUB_CONNECT) output \u001b[33mtcp://0.0.0.0:59297\u001b[0m (PUSH_CONNECT) control over \u001b[33mtcp://0.0.0.0:60877\u001b[0m (PAIR_BIND)\n",
      "      doc_idx/5@60688[I]:starting jina.peapods.runtimes.zmq.zed.ZEDRuntime...\n",
      "      doc_idx/5@60688[I]:input \u001b[33mtcp://0.0.0.0:59921\u001b[0m (SUB_CONNECT) output \u001b[33mtcp://0.0.0.0:59297\u001b[0m (PUSH_CONNECT) control over \u001b[33mtcp://0.0.0.0:55797\u001b[0m (PAIR_BIND)\n",
      "      doc_idx/4@60677[I]:input \u001b[33mtcp://0.0.0.0:59921\u001b[0m (SUB_CONNECT) output \u001b[33mtcp://0.0.0.0:59297\u001b[0m (PUSH_CONNECT) control over \u001b[33mtcp://0.0.0.0:45175\u001b[0m (PAIR_BIND)\n",
      "BinaryPbIndexer@60627[I]:post_init may take some time...\n",
      "      doc_idx/6@60699[I]:starting jina.peapods.runtimes.zmq.zed.ZEDRuntime...\n",
      "BinaryPbIndexer@60649[I]:post_init may take some time...\n",
      "BinaryPbIndexer@60658[I]:post_init may take some time...\n",
      "      doc_idx/4@60677[I]:starting jina.peapods.runtimes.zmq.zed.ZEDRuntime...\n",
      "BinaryPbIndexer@60658[I]:post_init may take some time takes 0 seconds (0.02s)\n",
      "      doc_idx/6@60699[I]:input \u001b[33mtcp://0.0.0.0:59921\u001b[0m (SUB_CONNECT) output \u001b[33mtcp://0.0.0.0:59297\u001b[0m (PUSH_CONNECT) control over \u001b[33mtcp://0.0.0.0:36349\u001b[0m (PAIR_BIND)\n",
      "BinaryPbIndexer@60649[I]:post_init may take some time takes 0 seconds (0.02s)\n",
      "BinaryPbIndexer@60658[S]:\u001b[32msuccessfully built BinaryPbIndexer from a yaml config\u001b[0m\n",
      "BinaryPbIndexer@60649[S]:\u001b[32msuccessfully built BinaryPbIndexer from a yaml config\u001b[0m\n",
      "      doc_idx/7@60742[I]:starting jina.peapods.runtimes.zmq.zed.ZEDRuntime...\n",
      "BinaryPbIndexer@60627[I]:post_init may take some time takes 0 seconds (0.03s)\n",
      "BinaryPbIndexer@60688[I]:post_init may take some time...\n",
      "BinaryPbIndexer@60688[I]:post_init may take some time takes 0 seconds (0.01s)\n",
      "BinaryPbIndexer@60627[S]:\u001b[32msuccessfully built BinaryPbIndexer from a yaml config\u001b[0m\n",
      "      doc_idx/7@60742[I]:input \u001b[33mtcp://0.0.0.0:59921\u001b[0m (SUB_CONNECT) output \u001b[33mtcp://0.0.0.0:59297\u001b[0m (PUSH_CONNECT) control over \u001b[33mtcp://0.0.0.0:40715\u001b[0m (PAIR_BIND)\n",
      "BinaryPbIndexer@60688[S]:\u001b[32msuccessfully built BinaryPbIndexer from a yaml config\u001b[0m\n",
      "BinaryPbIndexer@60699[I]:post_init may take some time...\n",
      "BinaryPbIndexer@60699[I]:post_init may take some time takes 0 seconds (0.00s)\n",
      "BinaryPbIndexer@60677[I]:post_init may take some time...\n",
      "BinaryPbIndexer@60699[S]:\u001b[32mrestore BinaryPbIndexer from ./workspace/doc_idx-6/doc_idx.bin\u001b[0m\n",
      "BinaryPbIndexer@60677[I]:post_init may take some time takes 0 seconds (0.00s)\n",
      "BinaryPbIndexer@60677[S]:\u001b[32msuccessfully built BinaryPbIndexer from a yaml config\u001b[0m\n",
      "      doc_idx/8@60757[I]:starting jina.peapods.runtimes.zmq.zed.ZEDRuntime...\n",
      "        crafter@59807[S]:\u001b[32mready and listening\u001b[0m\n",
      "      doc_idx/8@60757[I]:input \u001b[33mtcp://0.0.0.0:59921\u001b[0m (SUB_CONNECT) output \u001b[33mtcp://0.0.0.0:59297\u001b[0m (PUSH_CONNECT) control over \u001b[33mtcp://0.0.0.0:48721\u001b[0m (PAIR_BIND)\n",
      "        gateway@60775[I]:starting jina.peapods.runtimes.asyncio.rest.RESTRuntime...\n",
      "BinaryPbIndexer@60742[I]:post_init may take some time...\n",
      "BinaryPbIndexer@60742[I]:post_init may take some time takes 0 seconds (0.00s)\n",
      "BinaryPbIndexer@60742[S]:\u001b[32mrestore BinaryPbIndexer from ./workspace/doc_idx-7/doc_idx.bin\u001b[0m\n",
      "BinaryPbIndexer@60757[I]:post_init may take some time...\n",
      "BinaryPbIndexer@60757[I]:post_init may take some time takes 0 seconds (0.00s)\n",
      "BinaryPbIndexer@60757[S]:\u001b[32msuccessfully built BinaryPbIndexer from a yaml config\u001b[0m\n",
      "           JINA@60775[I]:input \u001b[33mtcp://0.0.0.0:36741\u001b[0m (PULL_CONNECT) output \u001b[33mtcp://0.0.0.0:44617\u001b[0m (PUSH_CONNECT) control over \u001b[33mipc:///tmp/tmpkn0bs5ac\u001b[0m (PAIR_BIND)\n",
      "           JINA@60775[I]:\n",
      "    Jina REST interface\n",
      "    💬 Swagger UI:\thttp://localhost:45678/docs\n",
      "    📚 Redoc     :\thttp://localhost:45678/redoc\n",
      "        \n",
      "           JINA@60775[S]:\u001b[32mready and listening\u001b[0m\n",
      "        gateway@60775[S]:\u001b[32mRESTRuntime is listening at: 0.0.0.0:45678\u001b[0m\n",
      "BigTransferEncoder@60440[I]:model_path: pretrained\n",
      "        gateway@60775[I]:prefetching 50 requests...\n",
      "        gateway@60775[W]:\u001b[40m\u001b[33mif this takes too long, you may want to take smaller \"--prefetch\" or ask client to reduce \"--request-size\"\u001b[0m\n",
      "        gateway@60775[I]:prefetching 50 requests takes 0 seconds (0.01s)\n",
      "        crafter@60431[I]:recv SearchRequest  from gateway\u001b[32m▸\u001b[0mcrafter/ZEDRuntime\u001b[32m▸\u001b[0m⚐\n",
      "        crafter@60431[I]:#sent: 0 #recv: 1 sent_size: 0 Bytes recv_size: 4.3 KB\n",
      "BigTransferEncoder@60440[I]:post_init may take some time takes 14 seconds (14.91s)\n",
      "BigTransferEncoder@60440[W]:\u001b[40m\u001b[33mThe arguments {'pool_strategy'} defined in the YAML are not expected in the class BigTransferEncoder\u001b[0m\n",
      "BigTransferEncoder@60440[S]:\u001b[32msuccessfully built BigTransferEncoder from a yaml config\u001b[0m\n",
      "      tf_encode@59807[S]:\u001b[32mready and listening\u001b[0m\n",
      "   vec_idx/head@59807[S]:\u001b[32mready and listening\u001b[0m\n",
      "      tf_encode@60440[I]:recv SearchRequest  from gateway\u001b[32m▸\u001b[0mcrafter/ZEDRuntime\u001b[32m▸\u001b[0mtf_encode/ZEDRuntime\u001b[32m▸\u001b[0m⚐\n",
      "   vec_idx/tail@59807[S]:\u001b[32mready and listening\u001b[0m\n",
      "      vec_idx/1@59807[S]:\u001b[32mready and listening\u001b[0m\n",
      "      vec_idx/2@59807[S]:\u001b[32mready and listening\u001b[0m\n",
      "      vec_idx/3@59807[S]:\u001b[32mready and listening\u001b[0m\n",
      "      vec_idx/4@59807[S]:\u001b[32mready and listening\u001b[0m\n",
      "      vec_idx/5@59807[S]:\u001b[32mready and listening\u001b[0m\n",
      "      vec_idx/6@59807[S]:\u001b[32mready and listening\u001b[0m\n",
      "      vec_idx/7@59807[S]:\u001b[32mready and listening\u001b[0m\n",
      "      vec_idx/8@59807[S]:\u001b[32mready and listening\u001b[0m\n",
      "   doc_idx/head@59807[S]:\u001b[32mready and listening\u001b[0m\n",
      "   doc_idx/tail@59807[S]:\u001b[32mready and listening\u001b[0m\n",
      "      doc_idx/1@59807[S]:\u001b[32mready and listening\u001b[0m\n",
      "      doc_idx/2@59807[S]:\u001b[32mready and listening\u001b[0m\n",
      "      doc_idx/3@59807[S]:\u001b[32mready and listening\u001b[0m\n",
      "      doc_idx/4@59807[S]:\u001b[32mready and listening\u001b[0m\n",
      "      doc_idx/5@59807[S]:\u001b[32mready and listening\u001b[0m\n",
      "      doc_idx/6@59807[S]:\u001b[32mready and listening\u001b[0m\n",
      "      doc_idx/7@59807[S]:\u001b[32mready and listening\u001b[0m\n",
      "      doc_idx/8@59807[S]:\u001b[32mready and listening\u001b[0m\n",
      "        gateway@59807[S]:\u001b[32mready and listening\u001b[0m\n",
      "           Flow@59807[I]:5 Pods (i.e. 23 Peas) are running in this Flow\n",
      "           Flow@59807[S]:\u001b[32m🎉 Flow is ready to use, accepting \u001b[1mREST request\u001b[0m\u001b[0m\n",
      "           Flow@59807[I]:\n",
      "\t🖥️ Local access:\t\u001b[4m\u001b[36mhttp://0.0.0.0:45678\u001b[0m\n",
      "\t🔒 Private network:\t\u001b[4m\u001b[36mhttp://192.168.178.144:45678\u001b[0m\n",
      "\t🌐 Public address:\t\u001b[4m\u001b[36mhttp://87.123.193.212:45678\u001b[0m\n",
      "      tf_encode@60440[I]:#sent: 0 #recv: 1 sent_size: 0 Bytes recv_size: 112.4 KB\n",
      "   vec_idx/head@60449[I]:recv SearchRequest  from gateway\u001b[32m▸\u001b[0mcrafter/ZEDRuntime\u001b[32m▸\u001b[0mtf_encode/ZEDRuntime\u001b[32m▸\u001b[0mvec_idx/head/ZEDRuntime\u001b[32m▸\u001b[0m⚐\n",
      "   vec_idx/head@60449[I]:#sent: 0 #recv: 1 sent_size: 0 Bytes recv_size: 120.6 KB\n",
      "      vec_idx/4@60541[I]:recv SearchRequest  from gateway\u001b[32m▸\u001b[0mcrafter/ZEDRuntime\u001b[32m▸\u001b[0mtf_encode/ZEDRuntime\u001b[32m▸\u001b[0mvec_idx/head/ZEDRuntime\u001b[32m▸\u001b[0mvec_idx/4/ZEDRuntime\u001b[32m▸\u001b[0m⚐\n",
      "      vec_idx/1@60481[I]:recv SearchRequest  from gateway\u001b[32m▸\u001b[0mcrafter/ZEDRuntime\u001b[32m▸\u001b[0mtf_encode/ZEDRuntime\u001b[32m▸\u001b[0mvec_idx/head/ZEDRuntime\u001b[32m▸\u001b[0mvec_idx/1/ZEDRuntime\u001b[32m▸\u001b[0m⚐\n",
      "      vec_idx/8@60598[I]:recv SearchRequest  from gateway\u001b[32m▸\u001b[0mcrafter/ZEDRuntime\u001b[32m▸\u001b[0mtf_encode/ZEDRuntime\u001b[32m▸\u001b[0mvec_idx/head/ZEDRuntime\u001b[32m▸\u001b[0mvec_idx/8/ZEDRuntime\u001b[32m▸\u001b[0m⚐\n",
      "      vec_idx/5@60557[I]:recv SearchRequest  from gateway\u001b[32m▸\u001b[0mcrafter/ZEDRuntime\u001b[32m▸\u001b[0mtf_encode/ZEDRuntime\u001b[32m▸\u001b[0mvec_idx/head/ZEDRuntime\u001b[32m▸\u001b[0mvec_idx/5/ZEDRuntime\u001b[32m▸\u001b[0m⚐\n",
      "      vec_idx/3@60520[I]:recv SearchRequest  from gateway\u001b[32m▸\u001b[0mcrafter/ZEDRuntime\u001b[32m▸\u001b[0mtf_encode/ZEDRuntime\u001b[32m▸\u001b[0mvec_idx/head/ZEDRuntime\u001b[32m▸\u001b[0mvec_idx/3/ZEDRuntime\u001b[32m▸\u001b[0m⚐\n",
      "      vec_idx/7@60586[I]:recv SearchRequest  from gateway\u001b[32m▸\u001b[0mcrafter/ZEDRuntime\u001b[32m▸\u001b[0mtf_encode/ZEDRuntime\u001b[32m▸\u001b[0mvec_idx/head/ZEDRuntime\u001b[32m▸\u001b[0mvec_idx/7/ZEDRuntime\u001b[32m▸\u001b[0m⚐\n",
      "      vec_idx/8@60598[I]:#sent: 0 #recv: 1 sent_size: 0 Bytes recv_size: 120.6 KB\n",
      "      vec_idx/1@60481[I]:#sent: 0 #recv: 1 sent_size: 0 Bytes recv_size: 120.6 KB\n",
      "      vec_idx/3@60520[I]:#sent: 0 #recv: 1 sent_size: 0 Bytes recv_size: 120.6 KB\n",
      "      vec_idx/7@60586[I]:#sent: 0 #recv: 1 sent_size: 0 Bytes recv_size: 120.6 KB\n",
      "      vec_idx/4@60541[S]:\u001b[32mmemmap is enabled for ./workspace/vec_idx-4/vec.gz\u001b[0m\n",
      "      vec_idx/4@60541[I]:indexer size: 64\n",
      "   vec_idx/tail@60460[I]:recv SearchRequest (1/8 parts) from gateway\u001b[32m▸\u001b[0mcrafter/ZEDRuntime\u001b[32m▸\u001b[0mtf_encode/ZEDRuntime\u001b[32m▸\u001b[0mvec_idx/head/ZEDRuntime\u001b[32m▸\u001b[0mvec_idx/7/ZEDRuntime\u001b[32m▸\u001b[0mvec_idx/tail/ZEDRuntime\u001b[32m▸\u001b[0m⚐\n",
      "      vec_idx/6@60573[I]:recv SearchRequest  from gateway\u001b[32m▸\u001b[0mcrafter/ZEDRuntime\u001b[32m▸\u001b[0mtf_encode/ZEDRuntime\u001b[32m▸\u001b[0mvec_idx/head/ZEDRuntime\u001b[32m▸\u001b[0mvec_idx/6/ZEDRuntime\u001b[32m▸\u001b[0m⚐\n",
      "      vec_idx/5@60557[S]:\u001b[32mmemmap is enabled for ./workspace/vec_idx-5/vec.gz\u001b[0m\n",
      "   vec_idx/tail@60460[I]:recv SearchRequest (2/8 parts) from gateway\u001b[32m▸\u001b[0mcrafter/ZEDRuntime\u001b[32m▸\u001b[0mtf_encode/ZEDRuntime\u001b[32m▸\u001b[0mvec_idx/head/ZEDRuntime\u001b[32m▸\u001b[0mvec_idx/1/ZEDRuntime\u001b[32m▸\u001b[0mvec_idx/tail/ZEDRuntime\u001b[32m▸\u001b[0m⚐\n",
      "      vec_idx/5@60557[I]:indexer size: 30\n",
      "   vec_idx/tail@60460[I]:recv SearchRequest (3/8 parts) from gateway\u001b[32m▸\u001b[0mcrafter/ZEDRuntime\u001b[32m▸\u001b[0mtf_encode/ZEDRuntime\u001b[32m▸\u001b[0mvec_idx/head/ZEDRuntime\u001b[32m▸\u001b[0mvec_idx/3/ZEDRuntime\u001b[32m▸\u001b[0mvec_idx/tail/ZEDRuntime\u001b[32m▸\u001b[0m⚐\n",
      "      vec_idx/2@60497[I]:recv SearchRequest  from gateway\u001b[32m▸\u001b[0mcrafter/ZEDRuntime\u001b[32m▸\u001b[0mtf_encode/ZEDRuntime\u001b[32m▸\u001b[0mvec_idx/head/ZEDRuntime\u001b[32m▸\u001b[0mvec_idx/2/ZEDRuntime\u001b[32m▸\u001b[0m⚐\n",
      "      vec_idx/2@60497[I]:#sent: 0 #recv: 1 sent_size: 0 Bytes recv_size: 120.6 KB\n",
      "      vec_idx/6@60573[I]:#sent: 0 #recv: 1 sent_size: 0 Bytes recv_size: 120.6 KB\n",
      "      vec_idx/4@60541[I]:#sent: 0 #recv: 1 sent_size: 0 Bytes recv_size: 120.6 KB\n",
      "   vec_idx/tail@60460[I]:recv SearchRequest (4/8 parts) from gateway\u001b[32m▸\u001b[0mcrafter/ZEDRuntime\u001b[32m▸\u001b[0mtf_encode/ZEDRuntime\u001b[32m▸\u001b[0mvec_idx/head/ZEDRuntime\u001b[32m▸\u001b[0mvec_idx/8/ZEDRuntime\u001b[32m▸\u001b[0mvec_idx/tail/ZEDRuntime\u001b[32m▸\u001b[0m⚐\n",
      "   vec_idx/tail@60460[I]:recv SearchRequest (5/8 parts) from gateway\u001b[32m▸\u001b[0mcrafter/ZEDRuntime\u001b[32m▸\u001b[0mtf_encode/ZEDRuntime\u001b[32m▸\u001b[0mvec_idx/head/ZEDRuntime\u001b[32m▸\u001b[0mvec_idx/6/ZEDRuntime\u001b[32m▸\u001b[0mvec_idx/tail/ZEDRuntime\u001b[32m▸\u001b[0m⚐\n",
      "      vec_idx/5@60557[I]:#sent: 0 #recv: 1 sent_size: 0 Bytes recv_size: 120.6 KB\n",
      "   vec_idx/tail@60460[I]:recv SearchRequest (6/8 parts) from gateway\u001b[32m▸\u001b[0mcrafter/ZEDRuntime\u001b[32m▸\u001b[0mtf_encode/ZEDRuntime\u001b[32m▸\u001b[0mvec_idx/head/ZEDRuntime\u001b[32m▸\u001b[0mvec_idx/4/ZEDRuntime\u001b[32m▸\u001b[0mvec_idx/tail/ZEDRuntime\u001b[32m▸\u001b[0m⚐\n",
      "   vec_idx/tail@60460[I]:recv SearchRequest (7/8 parts) from gateway\u001b[32m▸\u001b[0mcrafter/ZEDRuntime\u001b[32m▸\u001b[0mtf_encode/ZEDRuntime\u001b[32m▸\u001b[0mvec_idx/head/ZEDRuntime\u001b[32m▸\u001b[0mvec_idx/2/ZEDRuntime\u001b[32m▸\u001b[0mvec_idx/tail/ZEDRuntime\u001b[32m▸\u001b[0m⚐\n",
      "   vec_idx/tail@60460[I]:recv SearchRequest (8/8 parts) from gateway\u001b[32m▸\u001b[0mcrafter/ZEDRuntime\u001b[32m▸\u001b[0mtf_encode/ZEDRuntime\u001b[32m▸\u001b[0mvec_idx/head/ZEDRuntime\u001b[32m▸\u001b[0mvec_idx/5/ZEDRuntime\u001b[32m▸\u001b[0mvec_idx/tail/ZEDRuntime\u001b[32m▸\u001b[0m⚐\n",
      "   vec_idx/tail@60460[I]:#sent: 0 #recv: 8 sent_size: 0 Bytes recv_size: 966.3 KB\n",
      "   doc_idx/head@60614[I]:recv SearchRequest  from gateway\u001b[32m▸\u001b[0mcrafter/ZEDRuntime\u001b[32m▸\u001b[0mtf_encode/ZEDRuntime\u001b[32m▸\u001b[0mvec_idx/head/ZEDRuntime\u001b[32m▸\u001b[0mvec_idx/2/ZEDRuntime\u001b[32m▸\u001b[0mvec_idx/1/ZEDRuntime\u001b[32m▸\u001b[0mvec_idx/3/ZEDRuntime\u001b[32m▸\u001b[0mvec_idx/4/ZEDRuntime\u001b[32m▸\u001b[0mvec_idx/5/ZEDRuntime\u001b[32m▸\u001b[0mvec_idx/7/ZEDRuntime\u001b[32m▸\u001b[0mvec_idx/8/ZEDRuntime\u001b[32m▸\u001b[0mvec_idx/6/ZEDRuntime\u001b[32m▸\u001b[0mvec_idx/tail/ZEDRuntime\u001b[32m▸\u001b[0mdoc_idx/head/ZEDRuntime\u001b[32m▸\u001b[0m⚐\n",
      "   doc_idx/head@60614[I]:#sent: 0 #recv: 1 sent_size: 0 Bytes recv_size: 121.9 KB\n",
      "      doc_idx/2@60649[I]:recv SearchRequest  from gateway\u001b[32m▸\u001b[0mcrafter/ZEDRuntime\u001b[32m▸\u001b[0mtf_encode/ZEDRuntime\u001b[32m▸\u001b[0mvec_idx/head/ZEDRuntime\u001b[32m▸\u001b[0mvec_idx/2/ZEDRuntime\u001b[32m▸\u001b[0mvec_idx/1/ZEDRuntime\u001b[32m▸\u001b[0mvec_idx/3/ZEDRuntime\u001b[32m▸\u001b[0mvec_idx/4/ZEDRuntime\u001b[32m▸\u001b[0mvec_idx/5/ZEDRuntime\u001b[32m▸\u001b[0mvec_idx/7/ZEDRuntime\u001b[32m▸\u001b[0mvec_idx/8/ZEDRuntime\u001b[32m▸\u001b[0mvec_idx/6/ZEDRuntime\u001b[32m▸\u001b[0mvec_idx/tail/ZEDRuntime\u001b[32m▸\u001b[0mdoc_idx/head/ZEDRuntime\u001b[32m▸\u001b[0mdoc_idx/2/ZEDRuntime\u001b[32m▸\u001b[0m⚐\n",
      "      doc_idx/5@60688[I]:recv SearchRequest  from gateway\u001b[32m▸\u001b[0mcrafter/ZEDRuntime\u001b[32m▸\u001b[0mtf_encode/ZEDRuntime\u001b[32m▸\u001b[0mvec_idx/head/ZEDRuntime\u001b[32m▸\u001b[0mvec_idx/2/ZEDRuntime\u001b[32m▸\u001b[0mvec_idx/1/ZEDRuntime\u001b[32m▸\u001b[0mvec_idx/3/ZEDRuntime\u001b[32m▸\u001b[0mvec_idx/4/ZEDRuntime\u001b[32m▸\u001b[0mvec_idx/5/ZEDRuntime\u001b[32m▸\u001b[0mvec_idx/7/ZEDRuntime\u001b[32m▸\u001b[0mvec_idx/8/ZEDRuntime\u001b[32m▸\u001b[0mvec_idx/6/ZEDRuntime\u001b[32m▸\u001b[0mvec_idx/tail/ZEDRuntime\u001b[32m▸\u001b[0mdoc_idx/head/ZEDRuntime\u001b[32m▸\u001b[0mdoc_idx/5/ZEDRuntime\u001b[32m▸\u001b[0m⚐\n",
      "      doc_idx/5@60688[I]:indexer size: 0\n",
      "      doc_idx/3@60658[I]:recv SearchRequest  from gateway\u001b[32m▸\u001b[0mcrafter/ZEDRuntime\u001b[32m▸\u001b[0mtf_encode/ZEDRuntime\u001b[32m▸\u001b[0mvec_idx/head/ZEDRuntime\u001b[32m▸\u001b[0mvec_idx/2/ZEDRuntime\u001b[32m▸\u001b[0mvec_idx/1/ZEDRuntime\u001b[32m▸\u001b[0mvec_idx/3/ZEDRuntime\u001b[32m▸\u001b[0mvec_idx/4/ZEDRuntime\u001b[32m▸\u001b[0mvec_idx/5/ZEDRuntime\u001b[32m▸\u001b[0mvec_idx/7/ZEDRuntime\u001b[32m▸\u001b[0mvec_idx/8/ZEDRuntime\u001b[32m▸\u001b[0mvec_idx/6/ZEDRuntime\u001b[32m▸\u001b[0mvec_idx/tail/ZEDRuntime\u001b[32m▸\u001b[0mdoc_idx/head/ZEDRuntime\u001b[32m▸\u001b[0mdoc_idx/3/ZEDRuntime\u001b[32m▸\u001b[0m⚐\n",
      "      doc_idx/6@60699[I]:recv SearchRequest  from gateway\u001b[32m▸\u001b[0mcrafter/ZEDRuntime\u001b[32m▸\u001b[0mtf_encode/ZEDRuntime\u001b[32m▸\u001b[0mvec_idx/head/ZEDRuntime\u001b[32m▸\u001b[0mvec_idx/2/ZEDRuntime\u001b[32m▸\u001b[0mvec_idx/1/ZEDRuntime\u001b[32m▸\u001b[0mvec_idx/3/ZEDRuntime\u001b[32m▸\u001b[0mvec_idx/4/ZEDRuntime\u001b[32m▸\u001b[0mvec_idx/5/ZEDRuntime\u001b[32m▸\u001b[0mvec_idx/7/ZEDRuntime\u001b[32m▸\u001b[0mvec_idx/8/ZEDRuntime\u001b[32m▸\u001b[0mvec_idx/6/ZEDRuntime\u001b[32m▸\u001b[0mvec_idx/tail/ZEDRuntime\u001b[32m▸\u001b[0mdoc_idx/head/ZEDRuntime\u001b[32m▸\u001b[0mdoc_idx/6/ZEDRuntime\u001b[32m▸\u001b[0m⚐\n",
      "      doc_idx/1@60627[I]:recv SearchRequest  from gateway\u001b[32m▸\u001b[0mcrafter/ZEDRuntime\u001b[32m▸\u001b[0mtf_encode/ZEDRuntime\u001b[32m▸\u001b[0mvec_idx/head/ZEDRuntime\u001b[32m▸\u001b[0mvec_idx/2/ZEDRuntime\u001b[32m▸\u001b[0mvec_idx/1/ZEDRuntime\u001b[32m▸\u001b[0mvec_idx/3/ZEDRuntime\u001b[32m▸\u001b[0mvec_idx/4/ZEDRuntime\u001b[32m▸\u001b[0mvec_idx/5/ZEDRuntime\u001b[32m▸\u001b[0mvec_idx/7/ZEDRuntime\u001b[32m▸\u001b[0mvec_idx/8/ZEDRuntime\u001b[32m▸\u001b[0mvec_idx/6/ZEDRuntime\u001b[32m▸\u001b[0mvec_idx/tail/ZEDRuntime\u001b[32m▸\u001b[0mdoc_idx/head/ZEDRuntime\u001b[32m▸\u001b[0mdoc_idx/1/ZEDRuntime\u001b[32m▸\u001b[0m⚐\n",
      "      doc_idx/7@60742[I]:recv SearchRequest  from gateway\u001b[32m▸\u001b[0mcrafter/ZEDRuntime\u001b[32m▸\u001b[0mtf_encode/ZEDRuntime\u001b[32m▸\u001b[0mvec_idx/head/ZEDRuntime\u001b[32m▸\u001b[0mvec_idx/2/ZEDRuntime\u001b[32m▸\u001b[0mvec_idx/1/ZEDRuntime\u001b[32m▸\u001b[0mvec_idx/3/ZEDRuntime\u001b[32m▸\u001b[0mvec_idx/4/ZEDRuntime\u001b[32m▸\u001b[0mvec_idx/5/ZEDRuntime\u001b[32m▸\u001b[0mvec_idx/7/ZEDRuntime\u001b[32m▸\u001b[0mvec_idx/8/ZEDRuntime\u001b[32m▸\u001b[0mvec_idx/6/ZEDRuntime\u001b[32m▸\u001b[0mvec_idx/tail/ZEDRuntime\u001b[32m▸\u001b[0mdoc_idx/head/ZEDRuntime\u001b[32m▸\u001b[0mdoc_idx/7/ZEDRuntime\u001b[32m▸\u001b[0m⚐\n",
      "      doc_idx/3@60658[I]:indexer size: 0\n",
      "      doc_idx/4@60677[I]:recv SearchRequest  from gateway\u001b[32m▸\u001b[0mcrafter/ZEDRuntime\u001b[32m▸\u001b[0mtf_encode/ZEDRuntime\u001b[32m▸\u001b[0mvec_idx/head/ZEDRuntime\u001b[32m▸\u001b[0mvec_idx/2/ZEDRuntime\u001b[32m▸\u001b[0mvec_idx/1/ZEDRuntime\u001b[32m▸\u001b[0mvec_idx/3/ZEDRuntime\u001b[32m▸\u001b[0mvec_idx/4/ZEDRuntime\u001b[32m▸\u001b[0mvec_idx/5/ZEDRuntime\u001b[32m▸\u001b[0mvec_idx/7/ZEDRuntime\u001b[32m▸\u001b[0mvec_idx/8/ZEDRuntime\u001b[32m▸\u001b[0mvec_idx/6/ZEDRuntime\u001b[32m▸\u001b[0mvec_idx/tail/ZEDRuntime\u001b[32m▸\u001b[0mdoc_idx/head/ZEDRuntime\u001b[32m▸\u001b[0mdoc_idx/4/ZEDRuntime\u001b[32m▸\u001b[0m⚐\n",
      "      doc_idx/7@60742[I]:indexer size: 64\n",
      "      doc_idx/3@60658[I]:#sent: 0 #recv: 1 sent_size: 0 Bytes recv_size: 122.0 KB\n",
      "   doc_idx/tail@60621[I]:recv SearchRequest (1/8 parts) from gateway\u001b[32m▸\u001b[0mcrafter/ZEDRuntime\u001b[32m▸\u001b[0mtf_encode/ZEDRuntime\u001b[32m▸\u001b[0mvec_idx/head/ZEDRuntime\u001b[32m▸\u001b[0mvec_idx/2/ZEDRuntime\u001b[32m▸\u001b[0mvec_idx/1/ZEDRuntime\u001b[32m▸\u001b[0mvec_idx/3/ZEDRuntime\u001b[32m▸\u001b[0mvec_idx/4/ZEDRuntime\u001b[32m▸\u001b[0mvec_idx/5/ZEDRuntime\u001b[32m▸\u001b[0mvec_idx/7/ZEDRuntime\u001b[32m▸\u001b[0mvec_idx/8/ZEDRuntime\u001b[32m▸\u001b[0mvec_idx/6/ZEDRuntime\u001b[32m▸\u001b[0mvec_idx/tail/ZEDRuntime\u001b[32m▸\u001b[0mdoc_idx/head/ZEDRuntime\u001b[32m▸\u001b[0mdoc_idx/3/ZEDRuntime\u001b[32m▸\u001b[0mdoc_idx/tail/ZEDRuntime\u001b[32m▸\u001b[0m⚐\n",
      "      doc_idx/4@60677[I]:indexer size: 0\n",
      "      doc_idx/2@60649[I]:indexer size: 0\n",
      "      doc_idx/8@60757[I]:recv SearchRequest  from gateway\u001b[32m▸\u001b[0mcrafter/ZEDRuntime\u001b[32m▸\u001b[0mtf_encode/ZEDRuntime\u001b[32m▸\u001b[0mvec_idx/head/ZEDRuntime\u001b[32m▸\u001b[0mvec_idx/2/ZEDRuntime\u001b[32m▸\u001b[0mvec_idx/1/ZEDRuntime\u001b[32m▸\u001b[0mvec_idx/3/ZEDRuntime\u001b[32m▸\u001b[0mvec_idx/4/ZEDRuntime\u001b[32m▸\u001b[0mvec_idx/5/ZEDRuntime\u001b[32m▸\u001b[0mvec_idx/7/ZEDRuntime\u001b[32m▸\u001b[0mvec_idx/8/ZEDRuntime\u001b[32m▸\u001b[0mvec_idx/6/ZEDRuntime\u001b[32m▸\u001b[0mvec_idx/tail/ZEDRuntime\u001b[32m▸\u001b[0mdoc_idx/head/ZEDRuntime\u001b[32m▸\u001b[0mdoc_idx/8/ZEDRuntime\u001b[32m▸\u001b[0m⚐\n",
      "      doc_idx/4@60677[I]:#sent: 0 #recv: 1 sent_size: 0 Bytes recv_size: 122.0 KB\n",
      "      doc_idx/6@60699[I]:indexer size: 30\n",
      "      doc_idx/1@60627[I]:indexer size: 0\n",
      "      doc_idx/1@60627[I]:#sent: 0 #recv: 1 sent_size: 0 Bytes recv_size: 122.0 KB\n",
      "      doc_idx/5@60688[I]:#sent: 0 #recv: 1 sent_size: 0 Bytes recv_size: 122.0 KB\n",
      "      doc_idx/8@60757[I]:indexer size: 0\n",
      "      doc_idx/2@60649[I]:#sent: 0 #recv: 1 sent_size: 0 Bytes recv_size: 122.0 KB\n",
      "      doc_idx/7@60742[I]:#sent: 0 #recv: 1 sent_size: 0 Bytes recv_size: 122.0 KB\n",
      "      doc_idx/8@60757[I]:#sent: 0 #recv: 1 sent_size: 0 Bytes recv_size: 122.0 KB\n",
      "   doc_idx/tail@60621[I]:recv SearchRequest (2/8 parts) from gateway\u001b[32m▸\u001b[0mcrafter/ZEDRuntime\u001b[32m▸\u001b[0mtf_encode/ZEDRuntime\u001b[32m▸\u001b[0mvec_idx/head/ZEDRuntime\u001b[32m▸\u001b[0mvec_idx/2/ZEDRuntime\u001b[32m▸\u001b[0mvec_idx/1/ZEDRuntime\u001b[32m▸\u001b[0mvec_idx/3/ZEDRuntime\u001b[32m▸\u001b[0mvec_idx/4/ZEDRuntime\u001b[32m▸\u001b[0mvec_idx/5/ZEDRuntime\u001b[32m▸\u001b[0mvec_idx/7/ZEDRuntime\u001b[32m▸\u001b[0mvec_idx/8/ZEDRuntime\u001b[32m▸\u001b[0mvec_idx/6/ZEDRuntime\u001b[32m▸\u001b[0mvec_idx/tail/ZEDRuntime\u001b[32m▸\u001b[0mdoc_idx/head/ZEDRuntime\u001b[32m▸\u001b[0mdoc_idx/4/ZEDRuntime\u001b[32m▸\u001b[0mdoc_idx/tail/ZEDRuntime\u001b[32m▸\u001b[0m⚐\n",
      "      doc_idx/6@60699[I]:#sent: 0 #recv: 1 sent_size: 0 Bytes recv_size: 122.0 KB\n",
      "   doc_idx/tail@60621[I]:recv SearchRequest (3/8 parts) from gateway\u001b[32m▸\u001b[0mcrafter/ZEDRuntime\u001b[32m▸\u001b[0mtf_encode/ZEDRuntime\u001b[32m▸\u001b[0mvec_idx/head/ZEDRuntime\u001b[32m▸\u001b[0mvec_idx/2/ZEDRuntime\u001b[32m▸\u001b[0mvec_idx/1/ZEDRuntime\u001b[32m▸\u001b[0mvec_idx/3/ZEDRuntime\u001b[32m▸\u001b[0mvec_idx/4/ZEDRuntime\u001b[32m▸\u001b[0mvec_idx/5/ZEDRuntime\u001b[32m▸\u001b[0mvec_idx/7/ZEDRuntime\u001b[32m▸\u001b[0mvec_idx/8/ZEDRuntime\u001b[32m▸\u001b[0mvec_idx/6/ZEDRuntime\u001b[32m▸\u001b[0mvec_idx/tail/ZEDRuntime\u001b[32m▸\u001b[0mdoc_idx/head/ZEDRuntime\u001b[32m▸\u001b[0mdoc_idx/7/ZEDRuntime\u001b[32m▸\u001b[0mdoc_idx/tail/ZEDRuntime\u001b[32m▸\u001b[0m⚐\n",
      "   doc_idx/tail@60621[I]:recv SearchRequest (4/8 parts) from gateway\u001b[32m▸\u001b[0mcrafter/ZEDRuntime\u001b[32m▸\u001b[0mtf_encode/ZEDRuntime\u001b[32m▸\u001b[0mvec_idx/head/ZEDRuntime\u001b[32m▸\u001b[0mvec_idx/2/ZEDRuntime\u001b[32m▸\u001b[0mvec_idx/1/ZEDRuntime\u001b[32m▸\u001b[0mvec_idx/3/ZEDRuntime\u001b[32m▸\u001b[0mvec_idx/4/ZEDRuntime\u001b[32m▸\u001b[0mvec_idx/5/ZEDRuntime\u001b[32m▸\u001b[0mvec_idx/7/ZEDRuntime\u001b[32m▸\u001b[0mvec_idx/8/ZEDRuntime\u001b[32m▸\u001b[0mvec_idx/6/ZEDRuntime\u001b[32m▸\u001b[0mvec_idx/tail/ZEDRuntime\u001b[32m▸\u001b[0mdoc_idx/head/ZEDRuntime\u001b[32m▸\u001b[0mdoc_idx/5/ZEDRuntime\u001b[32m▸\u001b[0mdoc_idx/tail/ZEDRuntime\u001b[32m▸\u001b[0m⚐\n",
      "   doc_idx/tail@60621[I]:recv SearchRequest (5/8 parts) from gateway\u001b[32m▸\u001b[0mcrafter/ZEDRuntime\u001b[32m▸\u001b[0mtf_encode/ZEDRuntime\u001b[32m▸\u001b[0mvec_idx/head/ZEDRuntime\u001b[32m▸\u001b[0mvec_idx/2/ZEDRuntime\u001b[32m▸\u001b[0mvec_idx/1/ZEDRuntime\u001b[32m▸\u001b[0mvec_idx/3/ZEDRuntime\u001b[32m▸\u001b[0mvec_idx/4/ZEDRuntime\u001b[32m▸\u001b[0mvec_idx/5/ZEDRuntime\u001b[32m▸\u001b[0mvec_idx/7/ZEDRuntime\u001b[32m▸\u001b[0mvec_idx/8/ZEDRuntime\u001b[32m▸\u001b[0mvec_idx/6/ZEDRuntime\u001b[32m▸\u001b[0mvec_idx/tail/ZEDRuntime\u001b[32m▸\u001b[0mdoc_idx/head/ZEDRuntime\u001b[32m▸\u001b[0mdoc_idx/2/ZEDRuntime\u001b[32m▸\u001b[0mdoc_idx/tail/ZEDRuntime\u001b[32m▸\u001b[0m⚐\n",
      "   doc_idx/tail@60621[I]:recv SearchRequest (6/8 parts) from gateway\u001b[32m▸\u001b[0mcrafter/ZEDRuntime\u001b[32m▸\u001b[0mtf_encode/ZEDRuntime\u001b[32m▸\u001b[0mvec_idx/head/ZEDRuntime\u001b[32m▸\u001b[0mvec_idx/2/ZEDRuntime\u001b[32m▸\u001b[0mvec_idx/1/ZEDRuntime\u001b[32m▸\u001b[0mvec_idx/3/ZEDRuntime\u001b[32m▸\u001b[0mvec_idx/4/ZEDRuntime\u001b[32m▸\u001b[0mvec_idx/5/ZEDRuntime\u001b[32m▸\u001b[0mvec_idx/7/ZEDRuntime\u001b[32m▸\u001b[0mvec_idx/8/ZEDRuntime\u001b[32m▸\u001b[0mvec_idx/6/ZEDRuntime\u001b[32m▸\u001b[0mvec_idx/tail/ZEDRuntime\u001b[32m▸\u001b[0mdoc_idx/head/ZEDRuntime\u001b[32m▸\u001b[0mdoc_idx/6/ZEDRuntime\u001b[32m▸\u001b[0mdoc_idx/tail/ZEDRuntime\u001b[32m▸\u001b[0m⚐\n",
      "   doc_idx/tail@60621[I]:recv SearchRequest (7/8 parts) from gateway\u001b[32m▸\u001b[0mcrafter/ZEDRuntime\u001b[32m▸\u001b[0mtf_encode/ZEDRuntime\u001b[32m▸\u001b[0mvec_idx/head/ZEDRuntime\u001b[32m▸\u001b[0mvec_idx/2/ZEDRuntime\u001b[32m▸\u001b[0mvec_idx/1/ZEDRuntime\u001b[32m▸\u001b[0mvec_idx/3/ZEDRuntime\u001b[32m▸\u001b[0mvec_idx/4/ZEDRuntime\u001b[32m▸\u001b[0mvec_idx/5/ZEDRuntime\u001b[32m▸\u001b[0mvec_idx/7/ZEDRuntime\u001b[32m▸\u001b[0mvec_idx/8/ZEDRuntime\u001b[32m▸\u001b[0mvec_idx/6/ZEDRuntime\u001b[32m▸\u001b[0mvec_idx/tail/ZEDRuntime\u001b[32m▸\u001b[0mdoc_idx/head/ZEDRuntime\u001b[32m▸\u001b[0mdoc_idx/8/ZEDRuntime\u001b[32m▸\u001b[0mdoc_idx/tail/ZEDRuntime\u001b[32m▸\u001b[0m⚐\n",
      "   doc_idx/tail@60621[I]:recv SearchRequest (8/8 parts) from gateway\u001b[32m▸\u001b[0mcrafter/ZEDRuntime\u001b[32m▸\u001b[0mtf_encode/ZEDRuntime\u001b[32m▸\u001b[0mvec_idx/head/ZEDRuntime\u001b[32m▸\u001b[0mvec_idx/2/ZEDRuntime\u001b[32m▸\u001b[0mvec_idx/1/ZEDRuntime\u001b[32m▸\u001b[0mvec_idx/3/ZEDRuntime\u001b[32m▸\u001b[0mvec_idx/4/ZEDRuntime\u001b[32m▸\u001b[0mvec_idx/5/ZEDRuntime\u001b[32m▸\u001b[0mvec_idx/7/ZEDRuntime\u001b[32m▸\u001b[0mvec_idx/8/ZEDRuntime\u001b[32m▸\u001b[0mvec_idx/6/ZEDRuntime\u001b[32m▸\u001b[0mvec_idx/tail/ZEDRuntime\u001b[32m▸\u001b[0mdoc_idx/head/ZEDRuntime\u001b[32m▸\u001b[0mdoc_idx/1/ZEDRuntime\u001b[32m▸\u001b[0mdoc_idx/tail/ZEDRuntime\u001b[32m▸\u001b[0m⚐\n",
      "   doc_idx/tail@60621[I]:#sent: 0 #recv: 8 sent_size: 0 Bytes recv_size: 979.9 KB\n",
      "      doc_idx/7@60742[I]:<jina.peapods.runtimes.zmq.zed.ZEDRuntime object at 0x7f7fe8c7fc50> is interrupted by user\n",
      "      doc_idx/3@60658[I]:<jina.peapods.runtimes.zmq.zed.ZEDRuntime object at 0x7f7fe8c73a90> is interrupted by user\n",
      "      doc_idx/2@60649[I]:<jina.peapods.runtimes.zmq.zed.ZEDRuntime object at 0x7f7fe8c71910> is interrupted by user\n",
      "      tf_encode@60440[I]:<jina.peapods.runtimes.zmq.zed.ZEDRuntime object at 0x7f7fe89e4910> is interrupted by user\n",
      "   doc_idx/head@60614[I]:<jina.peapods.runtimes.zmq.zed.ZEDRuntime object at 0x7f7fe8c5b650> is interrupted by user\n",
      "      vec_idx/7@60586[I]:<jina.peapods.runtimes.zmq.zed.ZEDRuntime object at 0x7f7fe8c61150> is interrupted by user\n",
      "      doc_idx/5@60688[I]:<jina.peapods.runtimes.zmq.zed.ZEDRuntime object at 0x7f7fe8c53310> is interrupted by user\n",
      "   vec_idx/tail@60460[I]:<jina.peapods.runtimes.zmq.zed.ZEDRuntime object at 0x7f7fe8a07bd0> is interrupted by user\n",
      "      doc_idx/8@60757[I]:<jina.peapods.runtimes.zmq.zed.ZEDRuntime object at 0x7f7fe8c89e50> is interrupted by user\n",
      "      vec_idx/2@60497[I]:<jina.peapods.runtimes.zmq.zed.ZEDRuntime object at 0x7f7fe8a09dd0> is interrupted by user\n",
      "   vec_idx/head@60449[I]:<jina.peapods.runtimes.zmq.zed.ZEDRuntime object at 0x7f7fe8a20190> is interrupted by user\n",
      "   doc_idx/tail@60621[I]:<jina.peapods.runtimes.zmq.zed.ZEDRuntime object at 0x7f7fe8c6f890> is interrupted by user\n",
      "      doc_idx/1@60627[I]:<jina.peapods.runtimes.zmq.zed.ZEDRuntime object at 0x7f7fe8c58950> is interrupted by user\n",
      "      vec_idx/1@60481[I]:<jina.peapods.runtimes.zmq.zed.ZEDRuntime object at 0x7f7fe89ef490> is interrupted by user\n",
      "      vec_idx/5@60557[I]:<jina.peapods.runtimes.zmq.zed.ZEDRuntime object at 0x7f7fe89d9dd0> is interrupted by user\n",
      "      vec_idx/4@60541[I]:<jina.peapods.runtimes.zmq.zed.ZEDRuntime object at 0x7f7fe89d9050> is interrupted by user\n",
      "      vec_idx/6@60573[I]:<jina.peapods.runtimes.zmq.zed.ZEDRuntime object at 0x7f7fe89f16d0> is interrupted by user\n",
      "      doc_idx/6@60699[I]:<jina.peapods.runtimes.zmq.zed.ZEDRuntime object at 0x7f7fe8c7b710> is interrupted by user\n",
      "      vec_idx/8@60598[I]:<jina.peapods.runtimes.zmq.zed.ZEDRuntime object at 0x7f7fe89f6390> is interrupted by user\n",
      "        crafter@60431[I]:<jina.peapods.runtimes.zmq.zed.ZEDRuntime object at 0x7f7fe89f0e90> is interrupted by user\n",
      "      vec_idx/3@60520[I]:<jina.peapods.runtimes.zmq.zed.ZEDRuntime object at 0x7f7fe89e2690> is interrupted by user\n",
      "      doc_idx/4@60677[I]:<jina.peapods.runtimes.zmq.zed.ZEDRuntime object at 0x7f7fe8c7bd10> is interrupted by user\n",
      "      doc_idx/3@60658[I]:#sent: 1 #recv: 1 sent_size: 121.7 KB recv_size: 122.0 KB\n",
      "      doc_idx/7@60742[I]:#sent: 1 #recv: 1 sent_size: 125.4 KB recv_size: 122.0 KB\n",
      "   vec_idx/tail@60460[I]:#sent: 1 #recv: 8 sent_size: 121.9 KB recv_size: 966.3 KB\n",
      "      tf_encode@60440[I]:#sent: 1 #recv: 1 sent_size: 120.6 KB recv_size: 112.4 KB\n",
      "      doc_idx/7@60742[I]:indexer size: 64 physical size: 131.3 KB\n",
      "      tf_encode@60440[I]:no update since 2021-03-03 12:20:54, will not save. If you really want to save it, call \"touch()\" before \"save()\" to force saving\n",
      "   doc_idx/tail@60621[I]:#sent: 1 #recv: 8 sent_size: 125.7 KB recv_size: 979.9 KB\n",
      "      vec_idx/2@60497[I]:#sent: 1 #recv: 1 sent_size: 120.8 KB recv_size: 120.6 KB\n",
      "      doc_idx/6@60699[I]:#sent: 1 #recv: 1 sent_size: 125.1 KB recv_size: 122.0 KB\n",
      "      vec_idx/6@60573[I]:#sent: 1 #recv: 1 sent_size: 120.8 KB recv_size: 120.6 KB\n",
      "        crafter@60431[I]:#sent: 1 #recv: 1 sent_size: 112.5 KB recv_size: 4.3 KB\n",
      "      vec_idx/7@60586[I]:#sent: 1 #recv: 1 sent_size: 120.8 KB recv_size: 120.6 KB\n",
      "      vec_idx/1@60481[I]:#sent: 1 #recv: 1 sent_size: 120.8 KB recv_size: 120.6 KB\n",
      "      doc_idx/1@60627[I]:#sent: 1 #recv: 1 sent_size: 121.7 KB recv_size: 122.0 KB\n",
      "   doc_idx/head@60614[I]:#sent: 1 #recv: 1 sent_size: 122.0 KB recv_size: 121.9 KB\n",
      "      vec_idx/5@60557[I]:#sent: 1 #recv: 1 sent_size: 121.0 KB recv_size: 120.6 KB\n",
      "      vec_idx/3@60520[I]:#sent: 1 #recv: 1 sent_size: 120.8 KB recv_size: 120.6 KB\n",
      "      doc_idx/4@60677[I]:#sent: 1 #recv: 1 sent_size: 121.7 KB recv_size: 122.0 KB\n",
      "      doc_idx/8@60757[I]:#sent: 1 #recv: 1 sent_size: 121.7 KB recv_size: 122.0 KB\n",
      "      doc_idx/3@60658[I]:indexer size: 0 physical size: 0 Bytes\n",
      "   vec_idx/tail@60460[I]:no update since 2021-03-03 12:20:55, will not save. If you really want to save it, call \"touch()\" before \"save()\" to force saving\n",
      "   vec_idx/head@60449[I]:#sent: 1 #recv: 1 sent_size: 120.7 KB recv_size: 120.6 KB\n",
      "      vec_idx/6@60573[I]:indexer size: 0 physical size: 0 Bytes\n",
      "      vec_idx/4@60541[I]:#sent: 1 #recv: 1 sent_size: 121.0 KB recv_size: 120.6 KB\n",
      "      vec_idx/8@60598[I]:#sent: 1 #recv: 1 sent_size: 120.8 KB recv_size: 120.6 KB\n",
      "      doc_idx/6@60699[I]:no update since 2021-03-03 12:08:10, will not save. If you really want to save it, call \"touch()\" before \"save()\" to force saving\n",
      "      vec_idx/1@60481[I]:no update since 2021-03-03 12:20:55, will not save. If you really want to save it, call \"touch()\" before \"save()\" to force saving\n",
      "      vec_idx/4@60541[I]:indexer size: 64 physical size: 522.8 KB\n",
      "      doc_idx/4@60677[I]:indexer size: 0 physical size: 0 Bytes\n",
      "      doc_idx/8@60757[I]:no update since 2021-03-03 12:20:55, will not save. If you really want to save it, call \"touch()\" before \"save()\" to force saving\n",
      "      doc_idx/6@60699[I]:indexer size: 30 physical size: 65.7 KB\n",
      "   doc_idx/head@60614[I]:no update since 2021-03-03 12:20:55, will not save. If you really want to save it, call \"touch()\" before \"save()\" to force saving\n",
      "      doc_idx/1@60627[I]:indexer size: 0 physical size: 0 Bytes\n",
      "      doc_idx/3@60658[I]:no update since 2021-03-03 12:20:55, will not save. If you really want to save it, call \"touch()\" before \"save()\" to force saving\n",
      "      vec_idx/2@60497[I]:indexer size: 0 physical size: 0 Bytes\n",
      "      doc_idx/5@60688[I]:#sent: 1 #recv: 1 sent_size: 121.7 KB recv_size: 122.0 KB\n",
      "      vec_idx/6@60573[I]:no update since 2021-03-03 12:20:55, will not save. If you really want to save it, call \"touch()\" before \"save()\" to force saving\n",
      "      doc_idx/8@60757[I]:indexer size: 0 physical size: 0 Bytes\n",
      "    ImageReader@60431[I]:no update since 2021-03-03 12:20:54, will not save. If you really want to save it, call \"touch()\" before \"save()\" to force saving\n",
      "      doc_idx/1@60627[I]:no update since 2021-03-03 12:20:55, will not save. If you really want to save it, call \"touch()\" before \"save()\" to force saving\n",
      "      vec_idx/1@60481[I]:indexer size: 0 physical size: 0 Bytes\n",
      "   vec_idx/head@60449[I]:no update since 2021-03-03 12:20:54, will not save. If you really want to save it, call \"touch()\" before \"save()\" to force saving\n",
      "      vec_idx/5@60557[I]:indexer size: 30 physical size: 246.0 KB\n",
      "      doc_idx/2@60649[I]:#sent: 1 #recv: 1 sent_size: 121.7 KB recv_size: 122.0 KB\n",
      "      vec_idx/7@60586[I]:indexer size: 0 physical size: 0 Bytes\n",
      "      doc_idx/7@60742[I]:no update since 2021-03-03 12:08:10, will not save. If you really want to save it, call \"touch()\" before \"save()\" to force saving\n",
      "      doc_idx/5@60688[I]:indexer size: 0 physical size: 0 Bytes\n",
      "      doc_idx/4@60677[I]:no update since 2021-03-03 12:20:55, will not save. If you really want to save it, call \"touch()\" before \"save()\" to force saving\n",
      "      vec_idx/8@60598[I]:indexer size: 0 physical size: 0 Bytes\n",
      "      vec_idx/4@60541[I]:no update since 2021-03-03 12:08:10, will not save. If you really want to save it, call \"touch()\" before \"save()\" to force saving\n",
      "      vec_idx/7@60586[I]:no update since 2021-03-03 12:20:55, will not save. If you really want to save it, call \"touch()\" before \"save()\" to force saving\n",
      "      doc_idx/2@60649[I]:indexer size: 0 physical size: 0 Bytes\n",
      "      vec_idx/3@60520[I]:indexer size: 0 physical size: 0 Bytes\n",
      "      vec_idx/5@60557[I]:no update since 2021-03-03 12:08:10, will not save. If you really want to save it, call \"touch()\" before \"save()\" to force saving\n",
      "      vec_idx/2@60497[I]:no update since 2021-03-03 12:20:55, will not save. If you really want to save it, call \"touch()\" before \"save()\" to force saving\n",
      "      doc_idx/5@60688[I]:no update since 2021-03-03 12:20:55, will not save. If you really want to save it, call \"touch()\" before \"save()\" to force saving\n",
      "   doc_idx/tail@60621[I]:no update since 2021-03-03 12:20:55, will not save. If you really want to save it, call \"touch()\" before \"save()\" to force saving\n",
      "      doc_idx/2@60649[I]:no update since 2021-03-03 12:20:55, will not save. If you really want to save it, call \"touch()\" before \"save()\" to force saving\n",
      "ImageNormalizer@60431[I]:no update since 2021-03-03 12:20:55, will not save. If you really want to save it, call \"touch()\" before \"save()\" to force saving\n",
      "    ImageReader@60431[I]:no update since 2021-03-03 12:20:54, will not save. If you really want to save it, call \"touch()\" before \"save()\" to force saving\n",
      "      vec_idx/8@60598[I]:no update since 2021-03-03 12:20:55, will not save. If you really want to save it, call \"touch()\" before \"save()\" to force saving\n",
      "ImageNormalizer@60431[I]:no update since 2021-03-03 12:20:55, will not save. If you really want to save it, call \"touch()\" before \"save()\" to force saving\n",
      "        crafter@60431[I]:no update since 2021-03-03 12:20:55, will not save. If you really want to save it, call \"touch()\" before \"save()\" to force saving\n",
      "      vec_idx/3@60520[I]:no update since 2021-03-03 12:20:55, will not save. If you really want to save it, call \"touch()\" before \"save()\" to force saving\n",
      "           JINA@60775[I]:#sent: 1 #recv: 1 sent_size: 4.4 KB recv_size: 125.6 KB\n",
      "        gateway@59807[S]:\u001b[32mterminated\u001b[0m\n",
      "      doc_idx/8@59807[S]:\u001b[32mterminated\u001b[0m\n",
      "      doc_idx/7@59807[S]:\u001b[32mterminated\u001b[0m\n",
      "      doc_idx/6@59807[S]:\u001b[32mterminated\u001b[0m\n",
      "      doc_idx/5@59807[S]:\u001b[32mterminated\u001b[0m\n",
      "      doc_idx/4@59807[S]:\u001b[32mterminated\u001b[0m\n",
      "      doc_idx/3@59807[S]:\u001b[32mterminated\u001b[0m\n",
      "      doc_idx/2@59807[S]:\u001b[32mterminated\u001b[0m\n",
      "      doc_idx/1@59807[S]:\u001b[32mterminated\u001b[0m\n",
      "   doc_idx/tail@59807[S]:\u001b[32mterminated\u001b[0m\n",
      "   doc_idx/head@59807[S]:\u001b[32mterminated\u001b[0m\n",
      "      vec_idx/8@59807[S]:\u001b[32mterminated\u001b[0m\n",
      "      vec_idx/7@59807[S]:\u001b[32mterminated\u001b[0m\n",
      "      vec_idx/6@59807[S]:\u001b[32mterminated\u001b[0m\n",
      "      vec_idx/5@59807[S]:\u001b[32mterminated\u001b[0m\n",
      "      vec_idx/4@59807[S]:\u001b[32mterminated\u001b[0m\n",
      "      vec_idx/3@59807[S]:\u001b[32mterminated\u001b[0m\n",
      "      vec_idx/2@59807[S]:\u001b[32mterminated\u001b[0m\n",
      "      vec_idx/1@59807[S]:\u001b[32mterminated\u001b[0m\n",
      "   vec_idx/tail@59807[S]:\u001b[32mterminated\u001b[0m\n",
      "   vec_idx/head@59807[S]:\u001b[32mterminated\u001b[0m\n",
      "      tf_encode@59807[S]:\u001b[32mterminated\u001b[0m\n",
      "        crafter@59807[S]:\u001b[32mterminated\u001b[0m\n",
      "           Flow@59807[S]:\u001b[32mflow is closed and all resources are released, current build level is 0\u001b[0m\n"
     ]
    }
   ],
   "source": [
    "with f:\n",
    "    f.block()"
   ]
  },
  {
   "cell_type": "markdown",
   "id": "lovely-steal",
   "metadata": {},
   "source": [
    "# Advanced Topics\n",
    "\n",
    "\n",
    "After configuring these, you will need to re-index your data and search again. \n",
    "\n",
    "## Changing Encoders\n",
    "\n",
    "We can switch the `Encoder` easily.\n",
    "\n",
    "`pods/encode.yml`:\n",
    "\n",
    "```yaml\n",
    "!ImageKerasEncoder\n",
    "with:\n",
    "  model_name: ResNet50V2 # any model could go here\n",
    "  pool_strategy: avg\n",
    "  channel_axis: -1\n",
    "```\n",
    "\n",
    "## Changing Crafters\n",
    "\n",
    "In `pods/craft.yml`:\n",
    "\n",
    "- remove `target_size: 96` from `ImageNormalizer`\n",
    "\n",
    "```yaml\n",
    "- !CenterImageCropper\n",
    "with:\n",
    "  target_size: 96\n",
    "  channel_axis: -1\n",
    "metas:\n",
    "  name: img_cropper\n",
    "```\n",
    "\n",
    "We also need to specify the request paths, both for `IndexRequest` and for `SearchRequest`:\n",
    "\n",
    "```yaml\n",
    "      - !CraftDriver\n",
    "        with:\n",
    "          traversal_paths: ['r']\n",
    "          executor: img_cropper\n",
    "```\n",
    "\n",
    "We can save an intermediary file to examine the cropped image to see if everything looks as expected. Add this to the `IndexRequest`:\n",
    "\n",
    "```yaml\n",
    "      - !PngToDiskDriver\n",
    "        with:\n",
    "          prefix: 'crop'\n",
    "```\n",
    "\n",
    "Now you can find the intermediary forms of the file in `workspace/`, under the folders with the given prefix.\n"
   ]
  },
  {
   "cell_type": "code",
   "execution_count": null,
   "id": "fossil-hunter",
   "metadata": {},
   "outputs": [],
   "source": []
  }
 ],
 "metadata": {
  "kernelspec": {
   "display_name": "Python 3",
   "language": "python",
   "name": "python3"
  },
  "language_info": {
   "codemirror_mode": {
    "name": "ipython",
    "version": 3
   },
   "file_extension": ".py",
   "mimetype": "text/x-python",
   "name": "python",
   "nbconvert_exporter": "python",
   "pygments_lexer": "ipython3",
   "version": "3.7.10"
  }
 },
 "nbformat": 4,
 "nbformat_minor": 5
}
