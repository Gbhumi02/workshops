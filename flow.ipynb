{
 "cells": [
  {
   "cell_type": "markdown",
   "id": "lovely-packet",
   "metadata": {
    "slideshow": {
     "slide_type": "slide"
    },
    "tags": []
   },
   "source": [
    "# Jina Workshop @ TUM.ai: Building a Neural Image Search Engine"
   ]
  },
  {
   "cell_type": "markdown",
   "id": "surrounded-virginia",
   "metadata": {
    "slideshow": {
     "slide_type": "slide"
    },
    "tags": []
   },
   "source": [
    "In this workshop we will build a neural search engine for images of Pokemons."
   ]
  },
  {
   "cell_type": "markdown",
   "id": "excellent-faculty",
   "metadata": {},
   "source": [
    "# Downloading data and model\n",
    "\n",
    "Skip this if you've already downloaded them.\n",
    "\n",
    "## Download and Extract Data\n",
    "\n",
    "For this example we're using Pokemon sprites from [veekun.com](https://veekun.com/dex/downloads). To download them run:\n",
    "\n",
    "```sh\n",
    "sh ./get_data.sh\n",
    "```\n",
    "\n",
    "## Download and Extract Pretrained Model\n",
    "\n",
    "In this example we use [BiT (Big Transfer) model](https://github.com/google-research/big_transfer), To download it:\n",
    "\n",
    "```sh\n",
    "sh ./download.sh\n",
    "```"
   ]
  },
  {
   "cell_type": "markdown",
   "id": "twelve-homeless",
   "metadata": {},
   "source": [
    "# Code"
   ]
  },
  {
   "cell_type": "markdown",
   "id": "exceptional-turkish",
   "metadata": {},
   "source": [
    "Required imports"
   ]
  },
  {
   "cell_type": "code",
   "execution_count": 2,
   "id": "fallen-costa",
   "metadata": {},
   "outputs": [],
   "source": [
    "import os\n",
    "import sys\n",
    "from shutil import rmtree\n",
    "\n",
    "from jina.flow import Flow\n",
    "from components import *"
   ]
  },
  {
   "cell_type": "markdown",
   "id": "dynamic-criterion",
   "metadata": {},
   "source": [
    "Some configuration options.\n",
    "\n",
    "- restrict the nr of docs we index\n",
    "- the path to the images"
   ]
  },
  {
   "cell_type": "code",
   "execution_count": 3,
   "id": "missing-douglas",
   "metadata": {},
   "outputs": [],
   "source": [
    "num_docs = int(os.environ.get('JINA_MAX_DOCS', 50000))\n",
    "image_src = 'data/**/*.png'"
   ]
  },
  {
   "cell_type": "markdown",
   "id": "juvenile-christianity",
   "metadata": {},
   "source": [
    "Environment variables\n",
    "\n",
    "- workspace (folder where the encoded data will be stored)\n",
    "- port we will listen on"
   ]
  },
  {
   "cell_type": "code",
   "execution_count": 4,
   "id": "faced-toner",
   "metadata": {},
   "outputs": [],
   "source": [
    "workspace = './workspace'\n",
    "os.environ['JINA_WORKSPACE'] = workspace\n",
    "os.environ['JINA_PORT'] = os.environ.get('JINA_PORT', str(45678))"
   ]
  },
  {
   "cell_type": "markdown",
   "id": "respected-heart",
   "metadata": {},
   "source": [
    "We need to make sure to not index on top of an existing workspace. \n",
    "\n",
    "This can cause problems if you are using different configuration options between the two runs."
   ]
  },
  {
   "cell_type": "code",
   "execution_count": 10,
   "id": "incorporate-hours",
   "metadata": {
    "tags": []
   },
   "outputs": [],
   "source": [
    "if os.path.exists(workspace):\n",
    "    print(f'Workspace at {workspace} exists. Will delete')\n",
    "    rmtree(workspace)"
   ]
  },
  {
   "cell_type": "markdown",
   "id": "structured-violence",
   "metadata": {},
   "source": [
    "# Flows"
   ]
  },
  {
   "cell_type": "markdown",
   "id": "extended-lancaster",
   "metadata": {},
   "source": [
    "The Flow is the main pipeline in Jina. It describes the way data should be loaded, processed, stored etc. within the system. \n",
    "\n",
    "It is made up of components (called Pods), which are the ones doing the specific task.\n",
    "\n",
    "Ex. we have an Encoder Pod, which loads the model and *encodes* that data; crafter Pod; segmenter Pod etc."
   ]
  },
  {
   "cell_type": "markdown",
   "id": "specified-output",
   "metadata": {},
   "source": [
    "## Index Flow\n",
    "\n",
    "Depending on your need the Flow can be configured in different ways. \n",
    "\n",
    "While indexing (storing) data, we can optimize the pipeline to process the data in parallel"
   ]
  },
  {
   "cell_type": "code",
   "execution_count": 30,
   "id": "lightweight-rebecca",
   "metadata": {},
   "outputs": [],
   "source": [
    "f = Flow.load_config('flows/index.yml')"
   ]
  },
  {
   "cell_type": "code",
   "execution_count": 31,
   "id": "august-liberty",
   "metadata": {
    "tags": []
   },
   "outputs": [
    {
     "data": {
      "text/html": [
       "<img src=\"https://mermaid.ink/svg/JSV7aW5pdDogeyd0aGVtZSc6ICdiYXNlJywgJ3RoZW1lVmFyaWFibGVzJzogeyAncHJpbWFyeUNvbG9yJzogJyMzMkM4Q0QnLCAnZWRnZUxhYmVsQmFja2dyb3VuZCc6JyNmZmYnLCAnY2x1c3RlckJrZyc6ICcjRkZDQzY2J319fSUlCmdyYXBoIExSCmdhdGV3YXkoZ2F0ZXdheSk6OjpHQVRFV0FZIC0tPiB8UFVCLVNVQnxjcmFmdGVyKGNyYWZ0ZXIpOjo6UE9ECmNyYWZ0ZXIoY3JhZnRlcik6OjpQT0QgLS0+IHxQVVNILVBVTEx8ZW5jb2RlcihlbmNvZGVyKTo6OlBPRAplbmNvZGVyKGVuY29kZXIpOjo6UE9EIC0tPiB8UFVTSC1QVUxMfGVtYmVkZGluZ19pZHgoZW1iZWRkaW5nX2lkeCk6OjpQT0QKZ2F0ZXdheShnYXRld2F5KTo6OkdBVEVXQVkgLS0+IHxQVUItU1VCfG1ldGFkYXRhX2lkeChtZXRhZGF0YV9pZHgpOjo6UE9ECmVtYmVkZGluZ19pZHgoZW1iZWRkaW5nX2lkeCk6OjpQT0QgLS0+IHxQVVNILVBVTEx8am9pbl9hbGwoam9pbl9hbGwpOjo6UE9ECm1ldGFkYXRhX2lkeChtZXRhZGF0YV9pZHgpOjo6UE9EIC0tPiB8UFVTSC1QVUxMfGpvaW5fYWxsKGpvaW5fYWxsKTo6OlBPRApqb2luX2FsbChqb2luX2FsbCk6OjpQT0QgLS0+IHxQVVNILVBVTEx8Z2F0ZXdheV9FTkQoZ2F0ZXdheSk6OjpHQVRFV0FZCmNsYXNzRGVmIFBPRCBmaWxsOiMzMkM4Q0Qsc3Ryb2tlOiMwMDk5OTkKY2xhc3NEZWYgSU5TUEVDVCBmaWxsOiNmZjY2NjYsY29sb3I6I2ZmZgpjbGFzc0RlZiBKT0lOX0lOU1BFQ1QgZmlsbDojZmY2NjY2LGNvbG9yOiNmZmYKY2xhc3NEZWYgR0FURVdBWSBmaWxsOiM2RTcyNzgsY29sb3I6I2ZmZgpjbGFzc0RlZiBJTlNQRUNUX0FVWF9QQVNTIGZpbGw6I2ZmZixjb2xvcjojMDAwLHN0cm9rZS1kYXNoYXJyYXk6IDUgNQpjbGFzc0RlZiBwZWEgZmlsbDojMDA5OTk5LHN0cm9rZTojMUU2RTcz\"/>"
      ],
      "text/plain": [
       "<IPython.core.display.Image object>"
      ]
     },
     "metadata": {},
     "output_type": "display_data"
    }
   ],
   "source": [
    "f.plot('index.png')"
   ]
  },
  {
   "cell_type": "markdown",
   "id": "efficient-making",
   "metadata": {},
   "source": [
    "The Flow is a context manager (like a file handler).\n",
    "\n",
    "We load data into the pipeline from the directory we provided above. \n",
    "\n",
    "`request_size` dictates how many images should be sent in one request (~batching)."
   ]
  },
  {
   "cell_type": "code",
   "execution_count": 16,
   "id": "soviet-beginning",
   "metadata": {
    "collapsed": true,
    "jupyter": {
     "outputs_hidden": true
    },
    "tags": []
   },
   "outputs": [
    {
     "name": "stdout",
     "output_type": "stream",
     "text": [
      "        crafter@120786[I]:starting jina.peapods.runtimes.zmq.zed.ZEDRuntime...\n",
      "        crafter@120786[I]:input \u001b[33mtcp://0.0.0.0:46857\u001b[0m (SUB_CONNECT) output \u001b[33mtcp://0.0.0.0:44729\u001b[0m (PUSH_CONNECT) control over \u001b[33mtcp://0.0.0.0:58003\u001b[0m (PAIR_BIND)\n",
      "        encoder@120795[I]:starting jina.peapods.runtimes.zmq.zed.ZEDRuntime...\n",
      "        encoder@120795[I]:input \u001b[33mtcp://0.0.0.0:44729\u001b[0m (PULL_BIND) output \u001b[33mtcp://0.0.0.0:35963\u001b[0m (PUSH_CONNECT) control over \u001b[33mtcp://0.0.0.0:57231\u001b[0m (PAIR_BIND)\n",
      "        vec_idx@120804[I]:starting jina.peapods.runtimes.zmq.zed.ZEDRuntime...\n",
      "        vec_idx@120804[I]:input \u001b[33mtcp://0.0.0.0:35963\u001b[0m (PULL_BIND) output \u001b[33mtcp://0.0.0.0:44061\u001b[0m (PUSH_CONNECT) control over \u001b[33mtcp://0.0.0.0:44019\u001b[0m (PAIR_BIND)\n",
      "BigTransferEncoder@120795[I]:post_init may take some time...\n",
      "        doc_idx@120816[I]:starting jina.peapods.runtimes.zmq.zed.ZEDRuntime...\n",
      "    ImageReader@120786[I]:post_init may take some time...\n",
      "        doc_idx@120816[I]:input \u001b[33mtcp://0.0.0.0:46857\u001b[0m (SUB_CONNECT) output \u001b[33mtcp://0.0.0.0:44061\u001b[0m (PUSH_CONNECT) control over \u001b[33mtcp://0.0.0.0:51767\u001b[0m (PAIR_BIND)\n",
      "   NumpyIndexer@120804[I]:post_init may take some time...\n",
      "    ImageReader@120786[I]:post_init may take some time takes 0 seconds (0.01s)\n",
      "   NumpyIndexer@120804[I]:post_init may take some time takes 0 seconds (0.00s)\n",
      "    ImageReader@120786[S]:\u001b[32msuccessfully built ImageReader from a yaml config\u001b[0m\n",
      "       join_all@120830[I]:starting jina.peapods.runtimes.zmq.zed.ZEDRuntime...\n",
      "   NumpyIndexer@120804[S]:\u001b[32msuccessfully built NumpyIndexer from a yaml config\u001b[0m\n",
      "ImageNormalizer@120786[I]:post_init may take some time...\n",
      "       join_all@120830[I]:input \u001b[33mtcp://0.0.0.0:44061\u001b[0m (PULL_BIND) output \u001b[33mtcp://0.0.0.0:53599\u001b[0m (PUSH_BIND) control over \u001b[33mtcp://0.0.0.0:36141\u001b[0m (PAIR_BIND)\n",
      "        gateway@120850[I]:starting jina.peapods.runtimes.asyncio.grpc.GRPCRuntime...\n",
      "BinaryPbIndexer@120816[I]:post_init may take some time...\n",
      "ImageNormalizer@120786[I]:post_init may take some time takes 0 seconds (0.01s)\n",
      "BinaryPbIndexer@120816[I]:post_init may take some time takes 0 seconds (0.01s)\n",
      "ImageNormalizer@120786[S]:\u001b[32msuccessfully built ImageNormalizer from a yaml config\u001b[0m\n",
      "        gateway@120850[I]:input \u001b[33mtcp://0.0.0.0:53599\u001b[0m (PULL_CONNECT) output \u001b[33mtcp://0.0.0.0:46857\u001b[0m (PUB_BIND) control over \u001b[33mipc:///tmp/tmplkbnb87h\u001b[0m (PAIR_BIND)\n",
      "BinaryPbIndexer@120816[S]:\u001b[32msuccessfully built BinaryPbIndexer from a yaml config\u001b[0m\n",
      "        gateway@120850[S]:\u001b[32mGRPCRuntime is listening at: 0.0.0.0:43059\u001b[0m\n",
      "CompoundExecutor@120786[I]:post_init may take some time...\n",
      "   BaseExecutor@120830[I]:post_init may take some time...\n",
      "CompoundExecutor@120786[I]:post_init may take some time takes 0 seconds (0.01s)\n",
      "   BaseExecutor@120830[I]:post_init may take some time takes 0 seconds (0.00s)\n",
      "CompoundExecutor@120786[S]:\u001b[32msuccessfully built CompoundExecutor from a yaml config\u001b[0m\n",
      "        crafter@119538[S]:\u001b[32mready and listening\u001b[0m\n",
      "   BaseExecutor@120830[S]:\u001b[32msuccessfully built BaseExecutor from a yaml config\u001b[0m\n",
      "BigTransferEncoder@120795[I]:model_path: pretrained\n",
      "BigTransferEncoder@120795[I]:post_init may take some time takes 23 seconds (23.46s)\n",
      "BigTransferEncoder@120795[W]:\u001b[40m\u001b[33mThe arguments {'pool_strategy'} defined in the YAML are not expected in the class BigTransferEncoder\u001b[0m\n",
      "BigTransferEncoder@120795[S]:\u001b[32msuccessfully built BigTransferEncoder from a yaml config\u001b[0m\n",
      "        encoder@119538[S]:\u001b[32mready and listening\u001b[0m\n",
      "        vec_idx@119538[S]:\u001b[32mready and listening\u001b[0m\n",
      "        doc_idx@119538[S]:\u001b[32mready and listening\u001b[0m\n",
      "       join_all@119538[S]:\u001b[32mready and listening\u001b[0m\n",
      "        gateway@119538[S]:\u001b[32mready and listening\u001b[0m\n",
      "           Flow@119538[I]:6 Pods (i.e. 6 Peas) are running in this Flow\n",
      "           Flow@119538[S]:\u001b[32m🎉 Flow is ready to use, accepting \u001b[1mgRPC request\u001b[0m\u001b[0m\n",
      "           Flow@119538[I]:\n",
      "\t🖥️ Local access:\t\u001b[4m\u001b[36mtcp://0.0.0.0:43059\u001b[0m\n",
      "\t🔒 Private network:\t\u001b[4m\u001b[36mtcp://192.168.178.144:43059\u001b[0m\n",
      "\t🌐 Public address:\t\u001b[4m\u001b[36mtcp://2001:16b8:46bc:eb00:8a60:e351:7b0e:61e9:43059\u001b[0m\n",
      "         Client@119538[S]:\u001b[32mconnected to the gateway at 0.0.0.0:43059!\u001b[0m\n",
      "\u001b[36mindex\u001b[0m |\u001b[32m█\u001b[0m                   | 📃      0 ⏱️ 0.0s 🐎 0.0/s      0      batchindex ...\t        gateway@120850[I]:prefetching 50 requests...\n",
      "        gateway@120850[W]:\u001b[40m\u001b[33mif this takes too long, you may want to take smaller \"--prefetch\" or ask client to reduce \"--request-size\"\u001b[0m\n",
      "        doc_idx@120816[I]:recv IndexRequest  from gateway\u001b[32m▸\u001b[0mdoc_idx/ZEDRuntime\u001b[32m▸\u001b[0m⚐\n",
      "        crafter@120786[I]:recv IndexRequest  from gateway\u001b[32m▸\u001b[0mcrafter/ZEDRuntime\u001b[32m▸\u001b[0m⚐\n",
      "        gateway@120850[I]:prefetching 50 requests takes 0 seconds (0.04s)\n",
      "        doc_idx@120816[I]:#sent: 0 #recv: 1 sent_size: 0 Bytes recv_size: 42.9 KB\n",
      "        doc_idx@120816[I]:recv IndexRequest  from gateway\u001b[32m▸\u001b[0mdoc_idx/ZEDRuntime\u001b[32m▸\u001b[0m⚐\n",
      "       join_all@120830[I]:recv IndexRequest (1/2 parts) from gateway\u001b[32m▸\u001b[0mdoc_idx/ZEDRuntime\u001b[32m▸\u001b[0mjoin_all/ZEDRuntime\u001b[32m▸\u001b[0m⚐\n",
      "        doc_idx@120816[I]:#sent: 1 #recv: 2 sent_size: 87.6 KB recv_size: 64.5 KB\n",
      "       join_all@120830[I]:recv IndexRequest (1/2 parts) from gateway\u001b[32m▸\u001b[0mdoc_idx/ZEDRuntime\u001b[32m▸\u001b[0mjoin_all/ZEDRuntime\u001b[32m▸\u001b[0m⚐\n",
      "        crafter@120786[I]:#sent: 0 #recv: 1 sent_size: 0 Bytes recv_size: 42.9 KB\n",
      "        crafter@120786[I]:recv IndexRequest  from gateway\u001b[32m▸\u001b[0mcrafter/ZEDRuntime\u001b[32m▸\u001b[0m⚐\n",
      "        encoder@120795[I]:recv IndexRequest  from gateway\u001b[32m▸\u001b[0mcrafter/ZEDRuntime\u001b[32m▸\u001b[0mencoder/ZEDRuntime\u001b[32m▸\u001b[0m⚐\n",
      "        crafter@120786[I]:#sent: 1 #recv: 2 sent_size: 3.7 MB recv_size: 64.5 KB\n",
      "        encoder@120795[I]:#sent: 0 #recv: 1 sent_size: 0 Bytes recv_size: 3.7 MB\n",
      "        encoder@120795[I]:recv IndexRequest  from gateway\u001b[32m▸\u001b[0mcrafter/ZEDRuntime\u001b[32m▸\u001b[0mencoder/ZEDRuntime\u001b[32m▸\u001b[0m⚐\n",
      "        vec_idx@120804[I]:recv IndexRequest  from gateway\u001b[32m▸\u001b[0mcrafter/ZEDRuntime\u001b[32m▸\u001b[0mencoder/ZEDRuntime\u001b[32m▸\u001b[0mvec_idx/ZEDRuntime\u001b[32m▸\u001b[0m⚐\n",
      "        vec_idx@120804[I]:#sent: 0 #recv: 1 sent_size: 0 Bytes recv_size: 4.1 MB\n",
      "       join_all@120830[I]:recv IndexRequest (2/2 parts) from gateway\u001b[32m▸\u001b[0mcrafter/ZEDRuntime\u001b[32m▸\u001b[0mencoder/ZEDRuntime\u001b[32m▸\u001b[0mvec_idx/ZEDRuntime\u001b[32m▸\u001b[0mjoin_all/ZEDRuntime\u001b[32m▸\u001b[0m⚐\n",
      "       join_all@120830[I]:#sent: 0 #recv: 3 sent_size: 0 Bytes recv_size: 4.2 MB\n",
      "\u001b[36mindex\u001b[0m |\u001b[32m█\u001b[0m                   | 📃     64 ⏱️ 4.7s 🐎 13.6/s      1      batch        encoder@120795[I]:#sent: 1 #recv: 2 sent_size: 4.1 MB recv_size: 5.5 MB\n",
      "        vec_idx@120804[I]:recv IndexRequest  from gateway\u001b[32m▸\u001b[0mcrafter/ZEDRuntime\u001b[32m▸\u001b[0mencoder/ZEDRuntime\u001b[32m▸\u001b[0mvec_idx/ZEDRuntime\u001b[32m▸\u001b[0m⚐\n",
      "        vec_idx@120804[I]:#sent: 1 #recv: 2 sent_size: 4.1 MB recv_size: 6.1 MB\n",
      "       join_all@120830[I]:recv IndexRequest (2/2 parts) from gateway\u001b[32m▸\u001b[0mcrafter/ZEDRuntime\u001b[32m▸\u001b[0mencoder/ZEDRuntime\u001b[32m▸\u001b[0mvec_idx/ZEDRuntime\u001b[32m▸\u001b[0mjoin_all/ZEDRuntime\u001b[32m▸\u001b[0m⚐\n",
      "       join_all@120830[I]:#sent: 1 #recv: 4 sent_size: 4.1 MB recv_size: 6.2 MB\n",
      "\u001b[36mindex\u001b[0m |\u001b[32m██\u001b[0m                  | 📃    128 ⏱️ 5.5s 🐎 23.2/s      2      batch\u001b[32m    5 seconds (5.52s)\u001b[0m\n",
      "        gateway@120850[I]:#sent: 2 #recv: 2 sent_size: 64.6 KB recv_size: 6.1 MB\n",
      "\t\u001b[32m✅ done in ⏱ 5 seconds 🐎 23.2/s\u001b[0m\n",
      "        gateway@119538[S]:\u001b[32mterminated\u001b[0m\n",
      "       join_all@120830[I]:recv ControlRequest  from ctl\u001b[32m▸\u001b[0mjoin_all/ZEDRuntime\u001b[32m▸\u001b[0m⚐\n",
      "       join_all@120830[I]:#sent: 3 #recv: 5 sent_size: 6.1 MB recv_size: 6.2 MB\n",
      "       join_all@120830[I]:no update since 2021-03-04 14:41:55, will not save. If you really want to save it, call \"touch()\" before \"save()\" to force saving\n",
      "       join_all@119538[S]:\u001b[32mterminated\u001b[0m\n",
      "        doc_idx@120816[I]:recv ControlRequest  from ctl\u001b[32m▸\u001b[0mdoc_idx/ZEDRuntime\u001b[32m▸\u001b[0m⚐\n",
      "        doc_idx@120816[I]:#sent: 3 #recv: 3 sent_size: 129.0 KB recv_size: 64.6 KB\n",
      "        doc_idx@120816[I]:indexer size: 94 physical size: 945.6 KB\n",
      "        doc_idx@120816[S]:\u001b[32martifacts of this executor (doc_idx) is persisted to ./workspace/doc_idx.bin\u001b[0m\n",
      "        doc_idx@119538[S]:\u001b[32mterminated\u001b[0m\n",
      "        vec_idx@120804[I]:recv ControlRequest  from ctl\u001b[32m▸\u001b[0mvec_idx/ZEDRuntime\u001b[32m▸\u001b[0m⚐\n",
      "        vec_idx@120804[I]:#sent: 3 #recv: 3 sent_size: 6.1 MB recv_size: 6.1 MB\n",
      "        vec_idx@120804[I]:indexer size: 94 physical size: 947.3 KB\n",
      "        vec_idx@120804[S]:\u001b[32martifacts of this executor (vec_idx) is persisted to ./workspace/vec_idx.bin\u001b[0m\n",
      "        vec_idx@119538[S]:\u001b[32mterminated\u001b[0m\n",
      "        encoder@120795[I]:recv ControlRequest  from ctl\u001b[32m▸\u001b[0mencoder/ZEDRuntime\u001b[32m▸\u001b[0m⚐\n",
      "        encoder@120795[I]:#sent: 3 #recv: 3 sent_size: 6.1 MB recv_size: 5.5 MB\n",
      "        encoder@120795[I]:no update since 2021-03-04 14:41:55, will not save. If you really want to save it, call \"touch()\" before \"save()\" to force saving\n",
      "        encoder@119538[S]:\u001b[32mterminated\u001b[0m\n",
      "        crafter@120786[I]:recv ControlRequest  from ctl\u001b[32m▸\u001b[0mcrafter/ZEDRuntime\u001b[32m▸\u001b[0m⚐\n",
      "        crafter@120786[I]:#sent: 3 #recv: 3 sent_size: 5.5 MB recv_size: 64.6 KB\n",
      "    ImageReader@120786[I]:no update since 2021-03-04 14:41:55, will not save. If you really want to save it, call \"touch()\" before \"save()\" to force saving\n",
      "ImageNormalizer@120786[I]:no update since 2021-03-04 14:41:55, will not save. If you really want to save it, call \"touch()\" before \"save()\" to force saving\n",
      "    ImageReader@120786[I]:no update since 2021-03-04 14:41:55, will not save. If you really want to save it, call \"touch()\" before \"save()\" to force saving\n",
      "ImageNormalizer@120786[I]:no update since 2021-03-04 14:41:55, will not save. If you really want to save it, call \"touch()\" before \"save()\" to force saving\n",
      "        crafter@120786[I]:no update since 2021-03-04 14:41:55, will not save. If you really want to save it, call \"touch()\" before \"save()\" to force saving\n",
      "        crafter@119538[S]:\u001b[32mterminated\u001b[0m\n",
      "           Flow@119538[S]:\u001b[32mflow is closed and all resources are released, current build level is 0\u001b[0m\n"
     ]
    }
   ],
   "source": [
    "with f:\n",
    "    f.index_files(image_src, request_size=64, read_mode='rb', size=num_docs)"
   ]
  },
  {
   "cell_type": "markdown",
   "id": "fifth-tablet",
   "metadata": {},
   "source": [
    "# Searching"
   ]
  },
  {
   "cell_type": "markdown",
   "id": "treated-whale",
   "metadata": {},
   "source": [
    "When searching we need to make sure the data is processed in serial manner."
   ]
  },
  {
   "cell_type": "code",
   "execution_count": 32,
   "id": "athletic-twelve",
   "metadata": {},
   "outputs": [],
   "source": [
    "f = Flow.load_config('flows/query.yml')"
   ]
  },
  {
   "cell_type": "code",
   "execution_count": 33,
   "id": "durable-excitement",
   "metadata": {
    "slideshow": {
     "slide_type": "slide"
    },
    "tags": []
   },
   "outputs": [
    {
     "data": {
      "text/html": [
       "<img src=\"https://mermaid.ink/svg/JSV7aW5pdDogeyd0aGVtZSc6ICdiYXNlJywgJ3RoZW1lVmFyaWFibGVzJzogeyAncHJpbWFyeUNvbG9yJzogJyMzMkM4Q0QnLCAnZWRnZUxhYmVsQmFja2dyb3VuZCc6JyNmZmYnLCAnY2x1c3RlckJrZyc6ICcjRkZDQzY2J319fSUlCmdyYXBoIExSCnN1YmdyYXBoIHN1Yl9lbWJlZGRpbmdfaWR4IFsiZW1iZWRkaW5nX2lkeCAoMSkiXQoJZW1iZWRkaW5nX2lkeFtbZW1iZWRkaW5nX2lkeF1dOjo6cGVhLS0+ZW1iZWRkaW5nX2lkeF9UQUlMKCh0YWlsKSk6OjpwZWEKZW5kCnN1YmdyYXBoIHN1Yl9tZXRhZGF0YV9pZHggWyJtZXRhZGF0YV9pZHggKDEpIl0KCW1ldGFkYXRhX2lkeFtbbWV0YWRhdGFfaWR4XV06OjpwZWEtLT5tZXRhZGF0YV9pZHhfVEFJTCgodGFpbCkpOjo6cGVhCmVuZApnYXRld2F5KGdhdGV3YXkpOjo6R0FURVdBWSAtLT4gfFBVU0gtUFVMTHxjcmFmdGVyKGNyYWZ0ZXIpOjo6UE9ECmNyYWZ0ZXIoY3JhZnRlcik6OjpQT0QgLS0+IHxQVVNILVBVTEx8ZW5jb2RlcihlbmNvZGVyKTo6OlBPRAplbmNvZGVyKGVuY29kZXIpOjo6UE9EIC0tPiB8UFVTSC1QVUxMfGVtYmVkZGluZ19pZHgoZW1iZWRkaW5nX2lkeCk6OjpQT0QKZW1iZWRkaW5nX2lkeF9UQUlMKChmYTpmYS1yYW5kb20pKTo6OlBPRCAtLT4gfFBVU0gtUFVMTHxtZXRhZGF0YV9pZHgobWV0YWRhdGFfaWR4KTo6OlBPRAptZXRhZGF0YV9pZHhfVEFJTCgoZmE6ZmEtcmFuZG9tKSk6OjpQT0QgLS0+IHxQVVNILVBVTEx8Z2F0ZXdheV9FTkQoZ2F0ZXdheSk6OjpHQVRFV0FZCmNsYXNzRGVmIFBPRCBmaWxsOiMzMkM4Q0Qsc3Ryb2tlOiMwMDk5OTkKY2xhc3NEZWYgSU5TUEVDVCBmaWxsOiNmZjY2NjYsY29sb3I6I2ZmZgpjbGFzc0RlZiBKT0lOX0lOU1BFQ1QgZmlsbDojZmY2NjY2LGNvbG9yOiNmZmYKY2xhc3NEZWYgR0FURVdBWSBmaWxsOiM2RTcyNzgsY29sb3I6I2ZmZgpjbGFzc0RlZiBJTlNQRUNUX0FVWF9QQVNTIGZpbGw6I2ZmZixjb2xvcjojMDAwLHN0cm9rZS1kYXNoYXJyYXk6IDUgNQpjbGFzc0RlZiBwZWEgZmlsbDojMDA5OTk5LHN0cm9rZTojMUU2RTcz\"/>"
      ],
      "text/plain": [
       "<IPython.core.display.Image object>"
      ]
     },
     "metadata": {},
     "output_type": "display_data"
    }
   ],
   "source": [
    "f.plot('search.png')"
   ]
  },
  {
   "cell_type": "markdown",
   "id": "textile-shelter",
   "metadata": {},
   "source": [
    "This will activate the REST API.\n",
    "\n",
    "You can use [Jinabox.js](https://jina.ai/jinabox.js/) to find the Pokemon which matches most clearly. Just set the endpoint to `http://127.0.0.1:45678/api/search` and drag from the thumbnails on the left or from your file manager."
   ]
  },
  {
   "cell_type": "code",
   "execution_count": 21,
   "id": "sought-equivalent",
   "metadata": {
    "collapsed": true,
    "jupyter": {
     "outputs_hidden": true
    },
    "tags": []
   },
   "outputs": [
    {
     "name": "stdout",
     "output_type": "stream",
     "text": [
      "        crafter@121602[I]:starting jina.peapods.runtimes.zmq.zed.ZEDRuntime...\n",
      "        crafter@121602[I]:input \u001b[33mtcp://0.0.0.0:50975\u001b[0m (PULL_BIND) output \u001b[33mtcp://0.0.0.0:60921\u001b[0m (PUSH_CONNECT) control over \u001b[33mtcp://0.0.0.0:33117\u001b[0m (PAIR_BIND)\n",
      "        encoder@121611[I]:starting jina.peapods.runtimes.zmq.zed.ZEDRuntime...\n",
      "        encoder@121611[I]:input \u001b[33mtcp://0.0.0.0:60921\u001b[0m (PULL_BIND) output \u001b[33mtcp://0.0.0.0:47887\u001b[0m (PUSH_CONNECT) control over \u001b[33mtcp://0.0.0.0:34797\u001b[0m (PAIR_BIND)\n",
      "   vec_idx/tail@121620[I]:starting jina.peapods.runtimes.zmq.zed.ZEDRuntime...\n",
      "   vec_idx/tail@121620[I]:input \u001b[33mtcp://0.0.0.0:50897\u001b[0m (PULL_BIND) output \u001b[33mtcp://0.0.0.0:51633\u001b[0m (PUSH_CONNECT) control over \u001b[33mtcp://0.0.0.0:33365\u001b[0m (PAIR_BIND)\n",
      "    ImageReader@121602[I]:post_init may take some time...\n",
      "BigTransferEncoder@121611[I]:post_init may take some time...\n",
      "        vec_idx@121629[I]:starting jina.peapods.runtimes.zmq.zed.ZEDRuntime...\n",
      "        vec_idx@121629[I]:input \u001b[33mtcp://0.0.0.0:47887\u001b[0m (PULL_BIND) output \u001b[33mtcp://0.0.0.0:50897\u001b[0m (PUSH_CONNECT) control over \u001b[33mtcp://0.0.0.0:57789\u001b[0m (PAIR_BIND)\n",
      "    ImageReader@121602[I]:post_init may take some time takes 0 seconds (0.01s)\n",
      "   doc_idx/tail@121646[I]:starting jina.peapods.runtimes.zmq.zed.ZEDRuntime...\n",
      "    ImageReader@121602[S]:\u001b[32msuccessfully built ImageReader from a yaml config\u001b[0m\n",
      "   NumpyIndexer@121629[I]:post_init may take some time...\n",
      "   BaseExecutor@121620[I]:post_init may take some time...\n",
      "   doc_idx/tail@121646[I]:input \u001b[33mtcp://0.0.0.0:43661\u001b[0m (PULL_BIND) output \u001b[33mtcp://0.0.0.0:42203\u001b[0m (PUSH_BIND) control over \u001b[33mtcp://0.0.0.0:50287\u001b[0m (PAIR_BIND)\n",
      "ImageNormalizer@121602[I]:post_init may take some time...\n",
      "        doc_idx@121660[I]:starting jina.peapods.runtimes.zmq.zed.ZEDRuntime...\n",
      "   BaseExecutor@121620[I]:post_init may take some time takes 0 seconds (0.03s)\n",
      "ImageNormalizer@121602[I]:post_init may take some time takes 0 seconds (0.03s)\n",
      "ImageNormalizer@121602[S]:\u001b[32msuccessfully built ImageNormalizer from a yaml config\u001b[0m\n",
      "   NumpyIndexer@121629[I]:post_init may take some time takes 0 seconds (0.02s)\n",
      "   NumpyIndexer@121629[S]:\u001b[32mrestore NumpyIndexer from ./workspace/vec_idx.bin\u001b[0m\n",
      "        doc_idx@121660[I]:input \u001b[33mtcp://0.0.0.0:51633\u001b[0m (PULL_BIND) output \u001b[33mtcp://0.0.0.0:43661\u001b[0m (PUSH_CONNECT) control over \u001b[33mtcp://0.0.0.0:43921\u001b[0m (PAIR_BIND)\n",
      "   BaseExecutor@121620[S]:\u001b[32msuccessfully built BaseExecutor from a yaml config\u001b[0m\n",
      "        gateway@121684[I]:starting jina.peapods.runtimes.asyncio.rest.RESTRuntime...\n",
      "CompoundExecutor@121602[I]:post_init may take some time...\n",
      "CompoundExecutor@121602[I]:post_init may take some time takes 0 seconds (0.02s)\n",
      "CompoundExecutor@121602[S]:\u001b[32msuccessfully built CompoundExecutor from a yaml config\u001b[0m\n",
      "        crafter@119538[S]:\u001b[32mready and listening\u001b[0m\n",
      "   BaseExecutor@121646[I]:post_init may take some time...\n",
      "BinaryPbIndexer@121660[I]:post_init may take some time...\n",
      "BinaryPbIndexer@121660[I]:post_init may take some time takes 0 seconds (0.00s)\n",
      "   BaseExecutor@121646[I]:post_init may take some time takes 0 seconds (0.01s)\n",
      "BinaryPbIndexer@121660[S]:\u001b[32mrestore BinaryPbIndexer from ./workspace/doc_idx.bin\u001b[0m\n",
      "   BaseExecutor@121646[S]:\u001b[32msuccessfully built BaseExecutor from a yaml config\u001b[0m\n",
      "           JINA@121684[I]:input \u001b[33mtcp://0.0.0.0:42203\u001b[0m (PULL_CONNECT) output \u001b[33mtcp://0.0.0.0:50975\u001b[0m (PUSH_CONNECT) control over \u001b[33mipc:///tmp/tmploozwt1m\u001b[0m (PAIR_BIND)\n",
      "           JINA@121684[I]:\n",
      "    Jina REST interface\n",
      "    💬 Swagger UI:\thttp://localhost:45678/docs\n",
      "    📚 Redoc     :\thttp://localhost:45678/redoc\n",
      "        \n",
      "           JINA@121684[S]:\u001b[32mready and listening\u001b[0m\n",
      "        gateway@121684[S]:\u001b[32mRESTRuntime is listening at: 0.0.0.0:45678\u001b[0m\n",
      "BigTransferEncoder@121611[I]:model_path: pretrained\n",
      "BigTransferEncoder@121611[I]:post_init may take some time takes 24 seconds (24.01s)\n",
      "BigTransferEncoder@121611[W]:\u001b[40m\u001b[33mThe arguments {'pool_strategy'} defined in the YAML are not expected in the class BigTransferEncoder\u001b[0m\n",
      "BigTransferEncoder@121611[S]:\u001b[32msuccessfully built BigTransferEncoder from a yaml config\u001b[0m\n",
      "        encoder@119538[S]:\u001b[32mready and listening\u001b[0m\n",
      "   vec_idx/tail@119538[S]:\u001b[32mready and listening\u001b[0m\n",
      "        vec_idx@119538[S]:\u001b[32mready and listening\u001b[0m\n",
      "   doc_idx/tail@119538[S]:\u001b[32mready and listening\u001b[0m\n",
      "        doc_idx@119538[S]:\u001b[32mready and listening\u001b[0m\n",
      "        gateway@119538[S]:\u001b[32mready and listening\u001b[0m\n",
      "           Flow@119538[I]:5 Pods (i.e. 7 Peas) are running in this Flow\n",
      "           Flow@119538[S]:\u001b[32m🎉 Flow is ready to use, accepting \u001b[1mREST request\u001b[0m\u001b[0m\n",
      "           Flow@119538[I]:\n",
      "\t🖥️ Local access:\t\u001b[4m\u001b[36mhttp://0.0.0.0:45678\u001b[0m\n",
      "\t🔒 Private network:\t\u001b[4m\u001b[36mhttp://192.168.178.144:45678\u001b[0m\n",
      "\t🌐 Public address:\t\u001b[4m\u001b[36mhttp://2001:16b8:46bc:eb00:8a60:e351:7b0e:61e9:45678\u001b[0m\n",
      "        gateway@121684[I]:prefetching 50 requests...\n",
      "        gateway@121684[W]:\u001b[40m\u001b[33mif this takes too long, you may want to take smaller \"--prefetch\" or ask client to reduce \"--request-size\"\u001b[0m\n",
      "        gateway@121684[I]:prefetching 50 requests takes 0 seconds (0.02s)\n",
      "        crafter@121602[I]:recv SearchRequest  from gateway\u001b[32m▸\u001b[0mcrafter/ZEDRuntime\u001b[32m▸\u001b[0m⚐\n",
      "        crafter@121602[I]:#sent: 0 #recv: 1 sent_size: 0 Bytes recv_size: 2.0 KB\n",
      "        encoder@121611[I]:recv SearchRequest  from gateway\u001b[32m▸\u001b[0mcrafter/ZEDRuntime\u001b[32m▸\u001b[0mencoder/ZEDRuntime\u001b[32m▸\u001b[0m⚐\n",
      "        encoder@121611[I]:#sent: 0 #recv: 1 sent_size: 0 Bytes recv_size: 110.1 KB\n",
      "        vec_idx@121629[I]:recv SearchRequest  from gateway\u001b[32m▸\u001b[0mcrafter/ZEDRuntime\u001b[32m▸\u001b[0mencoder/ZEDRuntime\u001b[32m▸\u001b[0mvec_idx/ZEDRuntime\u001b[32m▸\u001b[0m⚐\n",
      "        vec_idx@121629[S]:\u001b[32mmemmap is enabled for ./workspace/vec.gz\u001b[0m\n",
      "        vec_idx@121629[I]:indexer size: 94\n",
      "        vec_idx@121629[I]:#sent: 0 #recv: 1 sent_size: 0 Bytes recv_size: 118.2 KB\n",
      "   vec_idx/tail@121620[I]:recv SearchRequest  from gateway\u001b[32m▸\u001b[0mcrafter/ZEDRuntime\u001b[32m▸\u001b[0mencoder/ZEDRuntime\u001b[32m▸\u001b[0mvec_idx/ZEDRuntime\u001b[32m▸\u001b[0mvec_idx/tail/ZEDRuntime\u001b[32m▸\u001b[0m⚐\n",
      "   vec_idx/tail@121620[I]:#sent: 0 #recv: 1 sent_size: 0 Bytes recv_size: 118.5 KB\n",
      "        doc_idx@121660[I]:recv SearchRequest  from gateway\u001b[32m▸\u001b[0mcrafter/ZEDRuntime\u001b[32m▸\u001b[0mencoder/ZEDRuntime\u001b[32m▸\u001b[0mvec_idx/ZEDRuntime\u001b[32m▸\u001b[0mvec_idx/tail/ZEDRuntime\u001b[32m▸\u001b[0mdoc_idx/ZEDRuntime\u001b[32m▸\u001b[0m⚐\n",
      "        doc_idx@121660[I]:indexer size: 94\n",
      "        doc_idx@121660[I]:#sent: 0 #recv: 1 sent_size: 0 Bytes recv_size: 118.6 KB\n",
      "   doc_idx/tail@121646[I]:recv SearchRequest  from gateway\u001b[32m▸\u001b[0mcrafter/ZEDRuntime\u001b[32m▸\u001b[0mencoder/ZEDRuntime\u001b[32m▸\u001b[0mvec_idx/ZEDRuntime\u001b[32m▸\u001b[0mvec_idx/tail/ZEDRuntime\u001b[32m▸\u001b[0mdoc_idx/ZEDRuntime\u001b[32m▸\u001b[0mdoc_idx/tail/ZEDRuntime\u001b[32m▸\u001b[0m⚐\n",
      "   doc_idx/tail@121646[I]:#sent: 0 #recv: 1 sent_size: 0 Bytes recv_size: 122.6 KB\n",
      "        vec_idx@121629[I]:<jina.peapods.runtimes.zmq.zed.ZEDRuntime object at 0x7f3fdf209610> is interrupted by user\n",
      "   vec_idx/tail@121620[I]:<jina.peapods.runtimes.zmq.zed.ZEDRuntime object at 0x7f3ffbc8db90> is interrupted by user\n",
      "        doc_idx@121660[I]:<jina.peapods.runtimes.zmq.zed.ZEDRuntime object at 0x7f3fdd137210> is interrupted by user\n",
      "   doc_idx/tail@121646[I]:<jina.peapods.runtimes.zmq.zed.ZEDRuntime object at 0x7f3fdd136610> is interrupted by user\n",
      "        encoder@121611[I]:<jina.peapods.runtimes.zmq.zed.ZEDRuntime object at 0x7f3fdf245fd0> is interrupted by user\n",
      "        vec_idx@121629[I]:#sent: 1 #recv: 1 sent_size: 118.6 KB recv_size: 118.2 KB\n",
      "   vec_idx/tail@121620[I]:#sent: 1 #recv: 1 sent_size: 118.7 KB recv_size: 118.5 KB\n",
      "        crafter@121602[I]:<jina.peapods.runtimes.zmq.zed.ZEDRuntime object at 0x7f3fdd13a150> is interrupted by user\n",
      "        doc_idx@121660[I]:#sent: 1 #recv: 1 sent_size: 122.7 KB recv_size: 118.6 KB\n",
      "   vec_idx/tail@121620[I]:no update since 2021-03-04 14:44:04, will not save. If you really want to save it, call \"touch()\" before \"save()\" to force saving\n",
      "        doc_idx@121660[I]:indexer size: 94 physical size: 962.3 KB\n",
      "        encoder@121611[I]:#sent: 1 #recv: 1 sent_size: 118.3 KB recv_size: 110.1 KB\n",
      "        doc_idx@121660[I]:no update since 2021-03-04 14:41:55, will not save. If you really want to save it, call \"touch()\" before \"save()\" to force saving\n",
      "   doc_idx/tail@121646[I]:#sent: 1 #recv: 1 sent_size: 122.8 KB recv_size: 122.6 KB\n",
      "        vec_idx@121629[I]:indexer size: 94 physical size: 962.3 KB\n",
      "        encoder@121611[I]:no update since 2021-03-04 14:44:04, will not save. If you really want to save it, call \"touch()\" before \"save()\" to force saving\n",
      "        crafter@121602[I]:#sent: 1 #recv: 1 sent_size: 110.2 KB recv_size: 2.0 KB\n",
      "        vec_idx@121629[I]:no update since 2021-03-04 14:41:55, will not save. If you really want to save it, call \"touch()\" before \"save()\" to force saving\n",
      "   doc_idx/tail@121646[I]:no update since 2021-03-04 14:44:04, will not save. If you really want to save it, call \"touch()\" before \"save()\" to force saving\n",
      "    ImageReader@121602[I]:no update since 2021-03-04 14:44:04, will not save. If you really want to save it, call \"touch()\" before \"save()\" to force saving\n",
      "ImageNormalizer@121602[I]:no update since 2021-03-04 14:44:04, will not save. If you really want to save it, call \"touch()\" before \"save()\" to force saving\n",
      "    ImageReader@121602[I]:no update since 2021-03-04 14:44:04, will not save. If you really want to save it, call \"touch()\" before \"save()\" to force saving\n",
      "ImageNormalizer@121602[I]:no update since 2021-03-04 14:44:04, will not save. If you really want to save it, call \"touch()\" before \"save()\" to force saving\n",
      "        crafter@121602[I]:no update since 2021-03-04 14:44:04, will not save. If you really want to save it, call \"touch()\" before \"save()\" to force saving\n",
      "           JINA@121684[I]:#sent: 1 #recv: 1 sent_size: 2.1 KB recv_size: 122.7 KB\n",
      "        gateway@119538[S]:\u001b[32mterminated\u001b[0m\n",
      "        doc_idx@119538[S]:\u001b[32mterminated\u001b[0m\n",
      "   doc_idx/tail@119538[S]:\u001b[32mterminated\u001b[0m\n",
      "        vec_idx@119538[S]:\u001b[32mterminated\u001b[0m\n",
      "   vec_idx/tail@119538[S]:\u001b[32mterminated\u001b[0m\n",
      "        encoder@119538[S]:\u001b[32mterminated\u001b[0m\n",
      "        crafter@119538[S]:\u001b[32mterminated\u001b[0m\n",
      "           Flow@119538[S]:\u001b[32mflow is closed and all resources are released, current build level is 0\u001b[0m\n"
     ]
    }
   ],
   "source": [
    "with f:\n",
    "    f.block()"
   ]
  },
  {
   "cell_type": "markdown",
   "id": "intellectual-voluntary",
   "metadata": {},
   "source": [
    "# Advanced Topics\n",
    "\n",
    "\n",
    "**NOTE**: After configuring these, you will need to re-index your data and search again. \n",
    "\n",
    "## 1. Changing Encoders\n",
    "\n",
    "We can switch the `Encoder` easily.\n",
    "\n",
    "This is the component that is the actual **model**. This encodes the images into a vector space upon which you can perform cosine similarity (or other linear algebra operations).\n",
    "\n",
    "\n",
    "`pods/encode.yml`:\n",
    "\n",
    "```yaml\n",
    "!ImageKerasEncoder\n",
    "with:\n",
    "  model_name: ResNet50V2 # any model could go here\n",
    "  pool_strategy: avg\n",
    "  channel_axis: -1\n",
    "```\n",
    "\n",
    "## 2. Changing Crafters\n",
    "\n",
    "These are the components that transform your data. In this case, we crop and resize the image. You can try out other alterations to the images and see if you get better results.\n",
    "\n",
    "In `pods/craft.yml`:\n",
    "\n",
    "- remove `target_size: 96` from `ImageNormalizer`\n",
    "\n",
    "```yaml\n",
    "- !CenterImageCropper\n",
    "with:\n",
    "  target_size: 96\n",
    "  channel_axis: -1\n",
    "metas:\n",
    "  name: img_cropper\n",
    "```\n",
    "\n",
    "We also need to specify the request paths, both for `IndexRequest` and for `SearchRequest`:\n",
    "\n",
    "```yaml\n",
    "      - !CraftDriver\n",
    "        with:\n",
    "          traversal_paths: ['r']\n",
    "          executor: img_cropper\n",
    "```\n",
    "\n",
    "We can save an intermediary file to examine the cropped image to see if everything looks as expected. Add this to the `IndexRequest`:\n",
    "\n",
    "```yaml\n",
    "      - !PngToDiskDriver\n",
    "        with:\n",
    "          prefix: 'crop'\n",
    "```\n",
    "\n",
    "Now you can find the intermediary forms of the file in `workspace/`, under the folders with the given prefix.\n",
    "\n",
    "## 3. Optimization\n",
    "\n",
    "Explain what the end goal is.\n",
    "\n",
    "Two parameters.yml files: one with a smaller subset of models and one with many options."
   ]
  },
  {
   "cell_type": "code",
   "execution_count": null,
   "id": "roman-requirement",
   "metadata": {},
   "outputs": [],
   "source": []
  }
 ],
 "metadata": {
  "kernelspec": {
   "display_name": "Python 3",
   "language": "python",
   "name": "python3"
  },
  "language_info": {
   "codemirror_mode": {
    "name": "ipython",
    "version": 3
   },
   "file_extension": ".py",
   "mimetype": "text/x-python",
   "name": "python",
   "nbconvert_exporter": "python",
   "pygments_lexer": "ipython3",
   "version": "3.7.10"
  }
 },
 "nbformat": 4,
 "nbformat_minor": 5
}
