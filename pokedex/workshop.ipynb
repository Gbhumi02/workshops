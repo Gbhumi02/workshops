{
 "cells": [
  {
   "cell_type": "markdown",
   "id": "organized-oxygen",
   "metadata": {
    "slideshow": {
     "slide_type": "slide"
    },
    "tags": []
   },
   "source": [
    "# Jina Workshop @ EuroPython: Building a Neural Image Search Engine"
   ]
  },
  {
   "cell_type": "markdown",
   "id": "civic-makeup",
   "metadata": {
    "slideshow": {
     "slide_type": "slide"
    },
    "tags": []
   },
   "source": [
    "In this workshop we will build a neural search engine for images of Pokemons."
   ]
  },
  {
   "cell_type": "markdown",
   "id": "4cbcfb36-6c1a-4fc2-a397-d28a0b5e2b89",
   "metadata": {},
   "source": [
    "---\n",
    "\n",
    "# TABLE OF CONTENTS\n",
    "\n",
    "## 1. Document - the data\n",
    "## 2. Flow - the pipeline\n",
    "### 2.1 Indexing \n",
    "### 2.2 Searching\n",
    "## 3. The Executor - the pipeline hops\n",
    "### 3.1 Replacing\n",
    "### 3.2 Creating\n",
    "## 4. Optimizing the pipeline\n",
    "\n"
   ]
  },
  {
   "cell_type": "markdown",
   "id": "orange-compression",
   "metadata": {},
   "source": [
    "---\n",
    "\n",
    "## Pre-requisites\n",
    "\n",
    "Skip this if you've already downloaded them.\n",
    "\n",
    "### Download and Extract Data\n",
    "\n",
    "For this example we're using Pokemon sprites from [veekun.com](https://veekun.com/dex/downloads). To download them run:\n",
    "\n",
    "```sh\n",
    "sh ./get_data.sh\n",
    "```\n",
    "\n",
    "### Download and Extract Pretrained Model\n",
    "\n",
    "In this example we will first the use [BiT (Big Transfer) model](https://github.com/google-research/big_transfer), To download it:\n",
    "\n",
    "```sh\n",
    "sh ./download.sh\n",
    "```"
   ]
  },
  {
   "attachments": {
    "07a57670-02d0-4b37-89d4-e40fa91fe617.png": {
     "image/png": "[encoded data removed]"
    },
    "4fdcaf41-1adb-4eef-9770-94a112369dfe.png": {
     "image/png": "[encoded data removed]"
    },
    "dd9fe45f-6be4-4822-ae92-2d281b56c0ff.png": {
     "image/png": "[encoded data removed]"
    }
   },
   "cell_type": "markdown",
   "id": "steady-singapore",
   "metadata": {},
   "source": [
    "---\n",
    "\n",
    "# The problem\n",
    "\n",
    "We want to search Pokemon by pictures! For example \n",
    "\n",
    "![1.png](attachment:07a57670-02d0-4b37-89d4-e40fa91fe617.png)\n",
    "\n",
    "May return\n",
    "\n",
    "![2.png](attachment:4fdcaf41-1adb-4eef-9770-94a112369dfe.png) ![3.png](attachment:dd9fe45f-6be4-4822-ae92-2d281b56c0ff.png)"
   ]
  },
  {
   "cell_type": "markdown",
   "id": "minimal-badge",
   "metadata": {},
   "source": [
    "---\n",
    "\n",
    "# Code"
   ]
  },
  {
   "cell_type": "markdown",
   "id": "16633ae0-807e-43e4-b661-c19e785aefca",
   "metadata": {},
   "source": [
    "Automatically reload changed files when running code."
   ]
  },
  {
   "cell_type": "code",
   "execution_count": null,
   "id": "e7d3c463-54a0-4a4d-9f7f-c80315a5ad49",
   "metadata": {},
   "outputs": [],
   "source": [
    "%load_ext autoreload\n",
    "%autoreload 2"
   ]
  },
  {
   "cell_type": "markdown",
   "id": "7eb0ffd6-d445-4bb0-8524-6d45c986195c",
   "metadata": {},
   "source": [
    "Remove (some) warnings from TF and Torch"
   ]
  },
  {
   "cell_type": "code",
   "execution_count": null,
   "id": "c9eb2af7-8924-442a-ac6a-1db4124706a2",
   "metadata": {},
   "outputs": [],
   "source": [
    "import warnings\n",
    "warnings.filterwarnings(\"ignore\")"
   ]
  },
  {
   "cell_type": "markdown",
   "id": "1d4864ed-c1ea-47c3-a16b-b95d7eb2411a",
   "metadata": {},
   "source": [
    "Required imports"
   ]
  },
  {
   "cell_type": "code",
   "execution_count": null,
   "id": "1a0a1e19-f923-446f-be1b-8e21e67b88b6",
   "metadata": {},
   "outputs": [],
   "source": [
    "import os\n",
    "import sys\n",
    "from shutil import rmtree\n",
    "from glob import glob\n",
    "import numpy as np\n",
    "from matplotlib import pyplot as plt\n",
    "from matplotlib.pyplot import imshow\n",
    "from PIL import Image\n",
    "\n",
    "from jina import Flow, DocumentArray, Document\n",
    "\n",
    "from jinahub.image.normalizer import ImageNormalizer\n",
    "from jinahub.image.encoder.big_transfer import BigTransferEncoder\n",
    "from jinahub.image.encoder.torch_encoder import ImageTorchEncoder\n",
    "\n",
    "from components import MemMapIndexer"
   ]
  },
  {
   "cell_type": "markdown",
   "id": "126b317e-59fb-4360-87be-61939c82c469",
   "metadata": {},
   "source": [
    "# Document\n",
    "\n",
    "Here we prepare the data we want to search through.\n",
    "\n",
    "Jina provides two abstractions:\n",
    "\n",
    "- `Document`\n",
    "- `DocumentArray`"
   ]
  },
  {
   "cell_type": "markdown",
   "id": "bff8f114-2cda-40b7-a361-c8b00230d11c",
   "metadata": {},
   "source": [
    "Some configuration options.\n",
    "\n",
    "- restrict the nr of docs we index\n",
    "- the path to the images"
   ]
  },
  {
   "cell_type": "code",
   "execution_count": null,
   "id": "71dae908-4628-4806-9ae0-0b993be3b2a4",
   "metadata": {},
   "outputs": [],
   "source": [
    "# TODO adapt nr of image. pre-index dataset before workshop\n",
    "num_docs = int(os.environ.get('JINA_MAX_DOCS', 100))\n",
    "image_src = sorted(list(glob('data/pokemon/main-sprites/red-blue/*.png')))"
   ]
  },
  {
   "cell_type": "code",
   "execution_count": null,
   "id": "a7d7c993-e3a2-4ee6-8c9e-8fbb35d09c6d",
   "metadata": {},
   "outputs": [],
   "source": [
    "for img_path in image_src[:5]:\n",
    "    img = Image.open(img_path)\n",
    "    imshow(img)\n",
    "    plt.title(img_path)\n",
    "    plt.show()"
   ]
  },
  {
   "cell_type": "code",
   "execution_count": null,
   "id": "bcc1c26b-f875-4b70-80e2-0a5ffcc80fdd",
   "metadata": {},
   "outputs": [],
   "source": [
    "def get_docs(image_src, num_docs):\n",
    "    docs = DocumentArray()\n",
    "\n",
    "    for file in image_src:\n",
    "        # Uniform Resource Identifier\n",
    "        doc = Document(uri=file)\n",
    "        doc.convert_image_uri_to_blob()\n",
    "        doc.tags['filename'] = file\n",
    "        docs.append(doc)\n",
    "        if len(docs) == num_docs:\n",
    "            break\n",
    "            \n",
    "    return docs"
   ]
  },
  {
   "cell_type": "code",
   "execution_count": null,
   "id": "f768ff37-d723-45dc-a48a-759132843caa",
   "metadata": {
    "tags": []
   },
   "outputs": [],
   "source": [
    "docs = get_docs(image_src, num_docs)"
   ]
  },
  {
   "cell_type": "code",
   "execution_count": null,
   "id": "1432dde0-a54a-46e1-b7d0-273032351de4",
   "metadata": {},
   "outputs": [],
   "source": [
    "len(docs)"
   ]
  },
  {
   "cell_type": "markdown",
   "id": "rough-conspiracy",
   "metadata": {},
   "source": [
    "# Flows"
   ]
  },
  {
   "cell_type": "markdown",
   "id": "3b45fcf2-2a41-4264-88e3-bc35c279af42",
   "metadata": {},
   "source": [
    "Environment variables\n",
    "\n",
    "- workspace (folder where the encoded data will be stored)\n",
    "- port we will listen on"
   ]
  },
  {
   "cell_type": "code",
   "execution_count": null,
   "id": "225b73d4-8a3f-4065-8391-9da5a2823350",
   "metadata": {},
   "outputs": [],
   "source": [
    "workspace = './workspace'\n",
    "os.environ['JINA_WORKSPACE'] = workspace\n",
    "os.environ['JINA_PORT'] = os.environ.get('JINA_PORT', str(45678))"
   ]
  },
  {
   "cell_type": "markdown",
   "id": "fbda8c29-5eae-4e8a-899b-d7a2178b54d4",
   "metadata": {},
   "source": [
    "We need to make sure to not index on top of an existing workspace. \n",
    "\n",
    "This can cause problems if you are using different configuration options between the two runs."
   ]
  },
  {
   "cell_type": "markdown",
   "id": "statistical-thomson",
   "metadata": {},
   "source": [
    "## Index\n",
    "\n",
    "This is the Flow we use to perform operations on our data."
   ]
  },
  {
   "cell_type": "code",
   "execution_count": null,
   "id": "central-stupid",
   "metadata": {},
   "outputs": [],
   "source": [
    "f = Flow.load_config('flows/flow-torch-logger.yml')"
   ]
  },
  {
   "cell_type": "code",
   "execution_count": null,
   "id": "343c9d5d-3589-4ea3-9bb5-b7e3940ce2eb",
   "metadata": {
    "tags": []
   },
   "outputs": [],
   "source": [
    "if os.path.exists(workspace):\n",
    "    print(f'Workspace at {workspace} exists. Will delete')\n",
    "    rmtree(workspace)"
   ]
  },
  {
   "cell_type": "markdown",
   "id": "578e6b0e-26ac-41bb-8223-c788ac74676a",
   "metadata": {},
   "source": [
    "We can plot it."
   ]
  },
  {
   "cell_type": "code",
   "execution_count": null,
   "id": "correct-giant",
   "metadata": {
    "tags": []
   },
   "outputs": [],
   "source": [
    "f.plot('index.png')"
   ]
  },
  {
   "cell_type": "markdown",
   "id": "910c317c-0f0a-4755-a54d-0b24a4f37577",
   "metadata": {},
   "source": [
    "The Flow is the main pipeline in Jina. It describes the way data should be loaded, processed, stored etc. within the system. \n",
    "\n",
    "It is made up of components (called Executors), which are the ones doing the specific task.\n",
    "\n",
    "Ex. we have a crafter Executor, which preprocesses the data; an Encoder Executor, which loads the model and *encodes* that data;  Indexer Executor, which stores and retrieves the data etc."
   ]
  },
  {
   "cell_type": "markdown",
   "id": "considerable-details",
   "metadata": {},
   "source": [
    "The Flow is a context manager (like a file handler). Within the context, it starts all the Executors within their processes / threads.\n",
    "\n",
    "We load data into the pipeline from the directory we provided above. \n",
    "\n",
    "`request_size` dictates how many images should be sent in one request (~batching)."
   ]
  },
  {
   "cell_type": "code",
   "execution_count": null,
   "id": "47ca4748-fda2-4e49-be5f-a517bc3e33b9",
   "metadata": {
    "tags": []
   },
   "outputs": [],
   "source": [
    "with f:\n",
    "    f.post(\n",
    "        on='/index',\n",
    "        inputs=docs,\n",
    "        request_size=64,\n",
    "    )"
   ]
  },
  {
   "cell_type": "markdown",
   "id": "1da2fb59-f0e3-4d7f-9593-2e204830c586",
   "metadata": {},
   "source": [
    "# Questions?\n",
    "\n",
    "---"
   ]
  },
  {
   "cell_type": "markdown",
   "id": "static-moderator",
   "metadata": {},
   "source": [
    "## Searching"
   ]
  },
  {
   "cell_type": "markdown",
   "id": "be61c13a-1593-49fc-95c7-7ca6dee606ec",
   "metadata": {},
   "source": [
    "We load the first image in the dataset"
   ]
  },
  {
   "cell_type": "code",
   "execution_count": null,
   "id": "6d11b3fc-6755-453a-8e82-29f9388d5dfc",
   "metadata": {},
   "outputs": [],
   "source": [
    "red_green = sorted(list(glob('data/pokemon/main-sprites/red-green/*.png', recursive=False)))"
   ]
  },
  {
   "cell_type": "code",
   "execution_count": null,
   "id": "258a1b30-b8ba-4635-bf84-44d5c93092fd",
   "metadata": {},
   "outputs": [],
   "source": [
    "search_image = red_green[0]\n",
    "\n",
    "# Let's plot the image\n",
    "\n",
    "pil_im = Image.open(search_image)\n",
    "imshow(pil_im)"
   ]
  },
  {
   "cell_type": "markdown",
   "id": "61831869-c4a3-43f8-a24b-97a40221700b",
   "metadata": {},
   "source": [
    "We build a Document with that image"
   ]
  },
  {
   "cell_type": "code",
   "execution_count": null,
   "id": "1f068941-159d-470e-a7ef-82d80dc42a33",
   "metadata": {},
   "outputs": [],
   "source": [
    "query_docs = get_docs(red_green, 1)"
   ]
  },
  {
   "cell_type": "markdown",
   "id": "cc666686-fe4e-495c-b418-c7d11dc38ec6",
   "metadata": {},
   "source": [
    "Let's examine the tags"
   ]
  },
  {
   "cell_type": "code",
   "execution_count": null,
   "id": "f807c080-0798-47b0-bdd8-8bb6e7084050",
   "metadata": {},
   "outputs": [],
   "source": [
    "query_docs[0].tags"
   ]
  },
  {
   "cell_type": "markdown",
   "id": "aaf3e3f1-42b8-4bc5-a486-e28cfebf510f",
   "metadata": {},
   "source": [
    "Tags can store any relevant meta-data about the Document (ex. price, URL, category, etc.)"
   ]
  },
  {
   "cell_type": "code",
   "execution_count": null,
   "id": "convinced-reliance",
   "metadata": {
    "tags": []
   },
   "outputs": [],
   "source": [
    "# searching\n",
    "with f:\n",
    "    return_docs = f.post(\n",
    "        on='/search',\n",
    "        inputs=query_docs,\n",
    "        parameters={'top_k': 5},\n",
    "        return_results=True\n",
    "    )"
   ]
  },
  {
   "cell_type": "markdown",
   "id": "7dbd61ee-ec07-4e37-a434-d00f4ef1c15e",
   "metadata": {},
   "source": [
    "Retrieving tags (image path)"
   ]
  },
  {
   "cell_type": "markdown",
   "id": "585fa9cc-ae7f-4f20-ab68-6d14f8dec1b9",
   "metadata": {},
   "source": [
    "**Results**\n",
    "\n",
    "Top match should be the corresponding Pokemon in the other edition."
   ]
  },
  {
   "cell_type": "code",
   "execution_count": null,
   "id": "48d2eb8b-4cce-420a-aba9-08fdfd3e7a83",
   "metadata": {},
   "outputs": [],
   "source": [
    "return_docs[0].docs[0].matches[0].tags['filename'], return_docs[0].docs[0].tags['filename']"
   ]
  },
  {
   "cell_type": "markdown",
   "id": "4e156b9b-4a67-4a11-bd13-88c4bac34928",
   "metadata": {},
   "source": [
    "Reconstructing the original image from the Document content"
   ]
  },
  {
   "cell_type": "code",
   "execution_count": null,
   "id": "e3f6b1ff-0fb3-4385-9e5c-12f790a3b6ae",
   "metadata": {},
   "outputs": [],
   "source": [
    "for match in return_docs[0].docs[0].matches:\n",
    "    filename = match.tags['filename']\n",
    "    img = Image.open(filename)\n",
    "    imshow(img)\n",
    "    plt.title(match.tags['filename'])\n",
    "    plt.show()"
   ]
  },
  {
   "cell_type": "markdown",
   "id": "virtual-think",
   "metadata": {},
   "source": [
    "# Questions?\n",
    "\n",
    "---"
   ]
  },
  {
   "cell_type": "markdown",
   "id": "848fd1d2-f13a-4683-a044-17e5795ba316",
   "metadata": {},
   "source": [
    "# Advanced Topics\n",
    "\n",
    "\n",
    "**NOTE**: After configuring these, you will need to re-index your data and search again. "
   ]
  },
  {
   "cell_type": "markdown",
   "id": "f45c02a2-382d-499f-a183-923039a4e9c8",
   "metadata": {},
   "source": [
    "## 1. Changing Encoders\n",
    "\n",
    "We can switch the `Encoder` easily.\n",
    "\n",
    "This is the component that is the actual **model**. This encodes the images into a vector space upon which you can perform cosine similarity (or other linear algebra operations).\n",
    "\n",
    "\n",
    "`flows/flow.yml`:\n",
    "\n",
    "```yaml\n",
    "...\n",
    "  - name: encoder\n",
    "    timeout_ready: 600000\n",
    "    uses:\n",
    "        jtype: ImageTorchEncoder\n",
    "...\n",
    "```\n",
    "\n",
    "We also need to make sure the class is discoverable in the current runtime:\n",
    "\n",
    "By default it uses `resnet18`. We can change this with\n",
    "\n",
    "```yaml\n",
    "...\n",
    "  - name: encoder\n",
    "    timeout_ready: 600000\n",
    "    uses:\n",
    "        jtype: ImageTorchEncoder\n",
    "        with:\n",
    "            model_name: resnet101\n",
    "...\n",
    "```\n"
   ]
  },
  {
   "cell_type": "code",
   "execution_count": null,
   "id": "0a4c2aae-7341-4a2d-bc2c-c949c4e28311",
   "metadata": {},
   "outputs": [],
   "source": [
    "from jinahub.image.encoder.torch_encoder import ImageTorchEncoder"
   ]
  },
  {
   "cell_type": "markdown",
   "id": "99dd3646-cdbb-448c-a4c2-07c98d1b2945",
   "metadata": {},
   "source": [
    "Now we re-run the cells above with the new Flow. Make sure to **delete the workspace**."
   ]
  },
  {
   "cell_type": "markdown",
   "id": "98afa8f0-f815-4dc3-a137-d83eabe5174b",
   "metadata": {},
   "source": [
    "**RESULTS** Notice that TorchEncoder returns the most similar postion."
   ]
  },
  {
   "cell_type": "markdown",
   "id": "3bbbdeb3-d77e-4efc-a222-bbb2531de02f",
   "metadata": {},
   "source": [
    "# Questions?\n",
    "\n",
    "---"
   ]
  },
  {
   "cell_type": "markdown",
   "id": "ea9f4771-956f-463a-9666-9a1120abe180",
   "metadata": {},
   "source": [
    "## 2. Your own custom Executor\n",
    "\n",
    "Next let's delve one level deeper into Jina.\n",
    "\n",
    "So far we have looked at the Flow (top level) and the Document (one element of data).\n",
    "\n",
    "The intermediate level is the Executor (which is a component in the pipeline of the Flow).\n",
    "\n",
    "Let's create an Executor which \"logs\" the query results.\n",
    "\n",
    "OPTIONAL It's parallel.\n",
    "\n",
    "OPTIONAL It's hanging."
   ]
  },
  {
   "cell_type": "code",
   "execution_count": null,
   "id": "e56c4acb-4d46-4dd2-95f9-97fc7ea011fa",
   "metadata": {},
   "outputs": [],
   "source": [
    "from components import RequestLogger"
   ]
  },
  {
   "cell_type": "markdown",
   "id": "charming-imagination",
   "metadata": {},
   "source": [
    "# Questions?\n",
    "\n",
    "---"
   ]
  },
  {
   "attachments": {
    "1a98c688-569b-4b08-aa1d-3dbb7fadd38f.png": {
     "image/png": "[encoded data removed]"
    },
    "cb8f8cf6-92f7-4b7f-9a75-43029261979b.png": {
     "image/png": "[encoded data removed]"
    }
   },
   "cell_type": "markdown",
   "id": "supported-martin",
   "metadata": {},
   "source": [
    "## 3. Optimization\n",
    "\n",
    "In every Flow that is build with Jina, there are quite some parameters to set.\n",
    "For example, if you use a pre-trained model for encoding, there is no obvious best choice for a given dataset.\n",
    "Jina allows you to try out a lot of different parameters automatically in order to get the best results.\n",
    "\n",
    "Therefor, you need to provide Jina some sort of evaluation metric.\n",
    "In the pokemon dataset, there are two edition with the same pokemon, but different images: `red-blue` and `red-green`.\n",
    "\n",
    "![1.png](attachment:cb8f8cf6-92f7-4b7f-9a75-43029261979b.png)![1.png](attachment:1a98c688-569b-4b08-aa1d-3dbb7fadd38f.png)\n",
    "\n",
    "Thus, we will setup the following evaluation metric:\n",
    "Index one edition and search with the other edition.\n",
    "We have a success, if the right pokemon is at the first place in the search results.\n",
    "\n",
    "We need to do the following steps:\n",
    "\n",
    "- A) build an `index` and a `search` Flow, which are repeaditly runnable\n",
    "- B) use the `red-blue` dataset for `index` and the `red-green` for `search`\n",
    "- C) implement an `EvaluationCallback` which will calculate, if the right pokemon is in the first place\n",
    "- D) set the needed `OptimizationParameter` via a `parameter.yml` file\n",
    "- E) setup the optimization process itself\n",
    "\n",
    "**NOTE**: Under the hood, we use [optuna](https://optuna.readthedocs.io/en/stable/) for hyperparameter optimization.\n",
    "\n",
    "### Do the imports"
   ]
  },
  {
   "cell_type": "code",
   "execution_count": null,
   "id": "cooperative-realtor",
   "metadata": {},
   "outputs": [],
   "source": [
    "from glob import iglob\n",
    "from jina import Document\n",
    "from jina.optimizers.flow_runner import SingleFlowRunner, MultiFlowRunner\n",
    "from jina.optimizers import FlowOptimizer, EvaluationCallback"
   ]
  },
  {
   "cell_type": "markdown",
   "id": "alien-fossil",
   "metadata": {},
   "source": [
    "### A) & B)\n",
    "\n",
    "Jina provides the \n",
    "- `SingleFlowRunner` for making a Flow repeaditly runnable and the \n",
    "- `MultiFlowRunner` to chain multiple `SingleFlowRunner` for the `FlowOptimizer`\n",
    "\n",
    "For setup you need:\n",
    "- `flow_yaml`: the definition of a Flow\n",
    "- `documents`: the Documents, which are send to the Flow in each optimization step\n",
    "- `execution_method`: tell the Flow, whether `index` or `search` should be used\n",
    "\n",
    "Beware, that we introduce `JINA_MODEL_NAME_VAR: ${{JINA_MODEL_NAME}}` in the two new Flow definition.\n",
    "This variable will allow us to change the model in the Flow in each optimization step."
   ]
  },
  {
   "cell_type": "code",
   "execution_count": null,
   "id": "italic-mounting",
   "metadata": {},
   "outputs": [],
   "source": [
    "def get_input_iterator(edition, full_document):\n",
    "    image_src = f'data/pokemon/main-sprites/{edition}/*.png'\n",
    "    for filename in iglob(image_src, recursive=True):\n",
    "        doc = Document(uri=filename)\n",
    "        doc.convert_image_uri_to_blob()\n",
    "\n",
    "        doc.blob = doc.blob.astype(np.uint8)\n",
    "        doc.tags['filename'] = filename\n",
    "        yield doc\n",
    "\n",
    "def get_flows():\n",
    "    index_flow = SingleFlowRunner(\n",
    "        flow_yaml='flows/flow_opt.yml',\n",
    "        documents=get_input_iterator('red-blue', True),\n",
    "        request_size=64,\n",
    "        execution_endpoint='/index',\n",
    "        overwrite_workspace=True\n",
    "    )\n",
    "\n",
    "    search_flow = SingleFlowRunner(\n",
    "        flow_yaml='flows/flow_opt.yml',\n",
    "        documents=get_input_iterator('red-green', False),\n",
    "        request_size=64,\n",
    "        execution_endpoint='/search'\n",
    "    )\n",
    "\n",
    "    multi_flow = MultiFlowRunner([index_flow, search_flow])\n",
    "    return multi_flow\n"
   ]
  },
  {
   "cell_type": "markdown",
   "id": "global-database",
   "metadata": {},
   "source": [
    "### C) implement an `EvaluationCallback` which will calculate, if the right pokemon is in the first place\n",
    "\n",
    "Since the files are named the same for both editions, we use the filename as an identifier, whether we found the right pokemon.\n",
    "The `PokemonCallback` checks for each Document, whether the correct result is in the first position."
   ]
  },
  {
   "cell_type": "code",
   "execution_count": null,
   "id": "technical-airfare",
   "metadata": {},
   "outputs": [],
   "source": [
    "def get_id(filename):\n",
    "    return filename.split('/')[-1].split('.')[0]\n",
    "\n",
    "class PokemonCallback(EvaluationCallback):\n",
    "\n",
    "    def __init__(self, *args, **kwargs):\n",
    "        super().__init__(*args, **kwargs)\n",
    "        self._eval_name = \"pokedex_eval\"\n",
    "\n",
    "    def get_empty_copy(self):\n",
    "        return PokemonCallback(self._eval_name)\n",
    "    \n",
    "    def __call__(self, response):\n",
    "        self._n_docs += len(response.data.docs)\n",
    "        for doc in response.data.docs:\n",
    "            if doc.matches:\n",
    "                document_id = get_id(str(doc.tags.fields['filename']))\n",
    "                first_match_id = get_id(str(doc.matches[0].tags.fields['filename']))\n",
    "                if document_id == first_match_id:\n",
    "                    self._evaluation_values[self._eval_name].append(1)\n",
    "                else:\n",
    "                    self._evaluation_values[self._eval_name].append(0)\n",
    "                    "
   ]
  },
  {
   "cell_type": "markdown",
   "id": "bridal-dispatch",
   "metadata": {},
   "source": [
    "### D) set the needed `OptimizationParameter` via a `parameter.yml` file\n",
    "\n",
    "We defined in the `parameter_few.yml` the models, that the optimizer should try out.\n",
    "For demonstation purpose, we just added three models, in order to make the optimizer run rather short.\n",
    "If you want to try mode models, please use the `parameter.yml` file and increase `n_trials` parameter in the `FlowOptimizer` below"
   ]
  },
  {
   "cell_type": "markdown",
   "id": "christian-brooklyn",
   "metadata": {},
   "source": [
    "### E) setup the optimization process itself\n",
    "\n",
    "Finally, we build the `FlowOptimizer` object.\n",
    "It needs:\n",
    "- `flow_runner`: the repeaditly runnable Flow object\n",
    "- `parameter_yaml`: the parameters which the optimizer can change\n",
    "- `evaluation_callback`: our previously defined evaluation function\n",
    "- `workspace_base_dir`: A directory for temporary data\n",
    "- `n_trials`: The amount of optimization steps, that should be performed\n",
    "- `sampler`: the way, the `FlowOptimizer` should sample new values in each step. For more info please look at the [optuna docs](https://optuna.readthedocs.io/en/stable/reference/generated/optuna.samplers.RandomSampler.html#optuna.samplers.RandomSampler)."
   ]
  },
  {
   "cell_type": "code",
   "execution_count": null,
   "id": "623308f2-a996-43ad-953f-c50ae21da496",
   "metadata": {
    "tags": []
   },
   "outputs": [],
   "source": [
    "def optimize(flows):\n",
    "    optimizer = FlowOptimizer(\n",
    "        flow_runner=flows,\n",
    "        parameter_yaml='optimize/parameters_few.yml',\n",
    "        evaluation_callback=PokemonCallback(eval_name='correct'),\n",
    "        workspace_base_dir='workspace',\n",
    "        n_trials=3,\n",
    "        sampler='RandomSampler',\n",
    "        # to guarantee reproducibility in the sampling\n",
    "        seed=1\n",
    "    )\n",
    "    result = optimizer.optimize_flow()\n",
    "    result.save_parameters('optimize/best_config.yml')"
   ]
  },
  {
   "cell_type": "code",
   "execution_count": null,
   "id": "c1e46b5f-af02-4973-a817-49206185e221",
   "metadata": {
    "tags": []
   },
   "outputs": [],
   "source": [
    "flows = get_flows()\n",
    "optimize(flows)"
   ]
  },
  {
   "cell_type": "markdown",
   "id": "e53cc612-e292-4e70-a0d4-d367175fe241",
   "metadata": {},
   "source": [
    "We can now check `optimize/best_config.yml` to see our best configuration."
   ]
  },
  {
   "cell_type": "code",
   "execution_count": null,
   "id": "acknowledged-student",
   "metadata": {},
   "outputs": [],
   "source": []
  }
 ],
 "metadata": {
  "kernelspec": {
   "display_name": "Python 3",
   "language": "python",
   "name": "python3"
  },
  "language_info": {
   "codemirror_mode": {
    "name": "ipython",
    "version": 3
   },
   "file_extension": ".py",
   "mimetype": "text/x-python",
   "name": "python",
   "nbconvert_exporter": "python",
   "pygments_lexer": "ipython3",
   "version": "3.7.11"
  }
 },
 "nbformat": 4,
 "nbformat_minor": 5
}
