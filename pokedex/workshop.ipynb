{
 "cells": [
  {
   "cell_type": "markdown",
   "id": "endless-ordinary",
   "metadata": {
    "slideshow": {
     "slide_type": "slide"
    },
    "tags": []
   },
   "source": [
    "# Jina Workshop @ TUM.ai: Building a Neural Image Search Engine"
   ]
  },
  {
   "cell_type": "markdown",
   "id": "continental-smith",
   "metadata": {
    "slideshow": {
     "slide_type": "slide"
    },
    "tags": []
   },
   "source": [
    "In this workshop we will build a neural search engine for images of Pokemons."
   ]
  },
  {
   "cell_type": "markdown",
   "id": "roman-thanksgiving",
   "metadata": {},
   "source": [
    "# Downloading data and model\n",
    "\n",
    "Skip this if you've already downloaded them.\n",
    "\n",
    "## Download and Extract Data\n",
    "\n",
    "For this example we're using Pokemon sprites from [veekun.com](https://veekun.com/dex/downloads). To download them run:\n",
    "\n",
    "```sh\n",
    "sh ./get_data.sh\n",
    "```\n",
    "\n",
    "## Download and Extract Pretrained Model\n",
    "\n",
    "In this example we use [BiT (Big Transfer) model](https://github.com/google-research/big_transfer), To download it:\n",
    "\n",
    "```sh\n",
    "sh ./download.sh\n",
    "```"
   ]
  },
  {
   "attachments": {
    "07a57670-02d0-4b37-89d4-e40fa91fe617.png": {
     "image/png": "[encoded data removed]"
    },
    "4fdcaf41-1adb-4eef-9770-94a112369dfe.png": {
     "image/png": "[encoded data removed]"
    },
    "dd9fe45f-6be4-4822-ae92-2d281b56c0ff.png": {
     "image/png": "[encoded data removed]"
    }
   },
   "cell_type": "markdown",
   "id": "isolated-oregon",
   "metadata": {},
   "source": [
    "# The problem\n",
    "\n",
    "We want to search Pokemon by pictures! For example \n",
    "\n",
    "![1.png](attachment:07a57670-02d0-4b37-89d4-e40fa91fe617.png)\n",
    "\n",
    "May return\n",
    "\n",
    "![2.png](attachment:4fdcaf41-1adb-4eef-9770-94a112369dfe.png) ![3.png](attachment:dd9fe45f-6be4-4822-ae92-2d281b56c0ff.png)"
   ]
  },
  {
   "cell_type": "markdown",
   "id": "physical-dayton",
   "metadata": {},
   "source": [
    "# Code"
   ]
  },
  {
   "cell_type": "markdown",
   "id": "amino-partition",
   "metadata": {},
   "source": [
    "Required imports"
   ]
  },
  {
   "cell_type": "code",
   "execution_count": null,
   "id": "comprehensive-puzzle",
   "metadata": {},
   "outputs": [],
   "source": [
    "import os\n",
    "import sys\n",
    "from shutil import rmtree\n",
    "\n",
    "from jina.flow import Flow\n",
    "from components import *"
   ]
  },
  {
   "cell_type": "markdown",
   "id": "proved-compilation",
   "metadata": {},
   "source": [
    "Some configuration options.\n",
    "\n",
    "- restrict the nr of docs we index\n",
    "- the path to the images"
   ]
  },
  {
   "cell_type": "code",
   "execution_count": null,
   "id": "funny-tissue",
   "metadata": {},
   "outputs": [],
   "source": [
    "num_docs = int(os.environ.get('JINA_MAX_DOCS', 500))\n",
    "image_src = 'data/**/*.png'"
   ]
  },
  {
   "cell_type": "markdown",
   "id": "fantastic-court",
   "metadata": {},
   "source": [
    "Environment variables\n",
    "\n",
    "- workspace (folder where the encoded data will be stored)\n",
    "- port we will listen on"
   ]
  },
  {
   "cell_type": "code",
   "execution_count": null,
   "id": "fiscal-subject",
   "metadata": {},
   "outputs": [],
   "source": [
    "workspace = './workspace'\n",
    "os.environ['JINA_WORKSPACE'] = workspace\n",
    "os.environ['JINA_PORT'] = os.environ.get('JINA_PORT', str(45678))"
   ]
  },
  {
   "cell_type": "markdown",
   "id": "applicable-helena",
   "metadata": {},
   "source": [
    "We need to make sure to not index on top of an existing workspace. \n",
    "\n",
    "This can cause problems if you are using different configuration options between the two runs."
   ]
  },
  {
   "cell_type": "code",
   "execution_count": null,
   "id": "willing-lindsay",
   "metadata": {
    "tags": []
   },
   "outputs": [],
   "source": [
    "if os.path.exists(workspace):\n",
    "    print(f'Workspace at {workspace} exists. Will delete')\n",
    "    rmtree(workspace)"
   ]
  },
  {
   "cell_type": "markdown",
   "id": "collective-norman",
   "metadata": {},
   "source": [
    "# Flows"
   ]
  },
  {
   "cell_type": "markdown",
   "id": "little-light",
   "metadata": {},
   "source": [
    "The Flow is the main pipeline in Jina. It describes the way data should be loaded, processed, stored etc. within the system. \n",
    "\n",
    "It is made up of components (called Pods), which are the ones doing the specific task.\n",
    "\n",
    "Ex. we have an Encoder Pod, which loads the model and *encodes* that data; crafter Pod; segmenter Pod etc."
   ]
  },
  {
   "cell_type": "markdown",
   "id": "incomplete-celebrity",
   "metadata": {},
   "source": [
    "## Index Flow\n",
    "\n",
    "Depending on your need the Flow can be configured in different ways. \n",
    "\n",
    "While indexing (storing) data, we can optimize the pipeline to process the data in parallel"
   ]
  },
  {
   "cell_type": "code",
   "execution_count": null,
   "id": "athletic-reunion",
   "metadata": {},
   "outputs": [],
   "source": [
    "f = Flow.load_config('flows/index.yml')"
   ]
  },
  {
   "cell_type": "code",
   "execution_count": null,
   "id": "separated-amateur",
   "metadata": {
    "tags": []
   },
   "outputs": [],
   "source": [
    "f.plot('index.png')"
   ]
  },
  {
   "cell_type": "markdown",
   "id": "outstanding-titanium",
   "metadata": {},
   "source": [
    "The Flow is a context manager (like a file handler).\n",
    "\n",
    "We load data into the pipeline from the directory we provided above. \n",
    "\n",
    "`request_size` dictates how many images should be sent in one request (~batching)."
   ]
  },
  {
   "cell_type": "code",
   "execution_count": null,
   "id": "lined-grant",
   "metadata": {
    "tags": []
   },
   "outputs": [],
   "source": [
    "with f:\n",
    "    f.index_files(image_src, request_size=64, read_mode='rb', size=num_docs)"
   ]
  },
  {
   "cell_type": "markdown",
   "id": "compact-anger",
   "metadata": {},
   "source": [
    "# Searching"
   ]
  },
  {
   "cell_type": "markdown",
   "id": "confused-excuse",
   "metadata": {},
   "source": [
    "When searching we need to make sure the data is processed in serial manner."
   ]
  },
  {
   "cell_type": "code",
   "execution_count": null,
   "id": "diagnostic-maintenance",
   "metadata": {},
   "outputs": [],
   "source": [
    "f = Flow.load_config('flows/query.yml')"
   ]
  },
  {
   "cell_type": "code",
   "execution_count": null,
   "id": "difficult-complement",
   "metadata": {
    "slideshow": {
     "slide_type": "slide"
    },
    "tags": []
   },
   "outputs": [],
   "source": [
    "f.plot('search.png')"
   ]
  },
  {
   "cell_type": "markdown",
   "id": "federal-conversion",
   "metadata": {},
   "source": [
    "This will activate the REST API.\n",
    "\n",
    "You can use [Jinabox.js](https://jina.ai/jinabox.js/) to find the Pokemon which matches most clearly. Just set the endpoint to `http://127.0.0.1:45678/api/search` and drag from the thumbnails on the left or from your file manager."
   ]
  },
  {
   "cell_type": "code",
   "execution_count": null,
   "id": "legislative-sunglasses",
   "metadata": {
    "tags": []
   },
   "outputs": [],
   "source": [
    "with f:\n",
    "    f.block()"
   ]
  },
  {
   "cell_type": "markdown",
   "id": "elder-trouble",
   "metadata": {},
   "source": [
    "# Questions?"
   ]
  },
  {
   "cell_type": "markdown",
   "id": "brief-south",
   "metadata": {},
   "source": [
    "# Advanced Topics\n",
    "\n",
    "\n",
    "**NOTE**: After configuring these, you will need to re-index your data and search again. \n",
    "\n",
    "## 1. Changing Encoders\n",
    "\n",
    "We can switch the `Encoder` easily.\n",
    "\n",
    "This is the component that is the actual **model**. This encodes the images into a vector space upon which you can perform cosine similarity (or other linear algebra operations).\n",
    "\n",
    "\n",
    "`pods/encode.yml`:\n",
    "\n",
    "```yaml\n",
    "!ImageKerasEncoder\n",
    "with:\n",
    "  model_name: ResNet50V2 # any model could go here\n",
    "  pool_strategy: avg\n",
    "  channel_axis: -1\n",
    "```\n",
    "\n",
    "## 2. Changing Crafters\n",
    "\n",
    "These are the components that transform your data. In this case, we crop and resize the image. You can try out other alterations to the images and see if you get better results.\n",
    "\n",
    "In `pods/craft.yml`:\n",
    "\n",
    "- remove `target_size: 96` from `ImageNormalizer`\n",
    "\n",
    "```yaml\n",
    "- !CenterImageCropper\n",
    "with:\n",
    "  target_size: 96\n",
    "  channel_axis: -1\n",
    "metas:\n",
    "  name: img_cropper\n",
    "```\n",
    "\n",
    "We also need to specify the request paths, both for `IndexRequest` and for `SearchRequest`:\n",
    "\n",
    "```yaml\n",
    "      - !CraftDriver\n",
    "        with:\n",
    "          traversal_paths: ['r']\n",
    "          executor: img_cropper\n",
    "```\n",
    "\n",
    "We can save an intermediary file to examine the cropped image to see if everything looks as expected. Add this to the `IndexRequest`:\n",
    "\n",
    "```yaml\n",
    "      - !PngToDiskDriver\n",
    "        with:\n",
    "          prefix: 'crop'\n",
    "```\n",
    "\n",
    "Now you can find the intermediary forms of the file in `workspace/`, under the folders with the given prefix.\n"
   ]
  },
  {
   "cell_type": "markdown",
   "id": "elder-horse",
   "metadata": {},
   "source": [
    "# Questions?"
   ]
  },
  {
   "attachments": {
    "1a98c688-569b-4b08-aa1d-3dbb7fadd38f.png": {
     "image/png": "[encoded data removed]"
    },
    "cb8f8cf6-92f7-4b7f-9a75-43029261979b.png": {
     "image/png": "[encoded data removed]"
    }
   },
   "cell_type": "markdown",
   "id": "accessory-indiana",
   "metadata": {},
   "source": [
    "\n",
    "## 3. Optimization\n",
    "\n",
    "In every Flow that is build with Jina, there are quite some parameters to set.\n",
    "For example, if you use a pre-trained model for encoding, there is no obvious best choice for a given dataset.\n",
    "Jina allows you to try out a lot of different parameters automatically in order to get the best results.\n",
    "\n",
    "Therefor, you need to provide Jina some sort of evaluation metric.\n",
    "In the pokemon dataset, there are two edition with the same pokemon, but different images: `red-blue` and `red-green`.\n",
    "\n",
    "![1.png](attachment:cb8f8cf6-92f7-4b7f-9a75-43029261979b.png)![1.png](attachment:1a98c688-569b-4b08-aa1d-3dbb7fadd38f.png)\n",
    "\n",
    "Thus, we will setup the following evaluation metric:\n",
    "Index one edition and search with the other edition.\n",
    "We have a success, if the right pokemon is at the first place in the search results.\n",
    "\n",
    "We need to do the following steps:\n",
    "\n",
    "- A) build an `index` and a `search` Flow, which are repeaditly runnable\n",
    "- B) use the `red-blue` dataset for `index` and the `red-green` for `search`\n",
    "- C) implement an `EvaluationCallback` which will calculate, if the right pokemon is in the first place\n",
    "- D) set the needed `OptimizationParameter` via a `parameter.yml` file\n",
    "- E) setup the optimization process itself\n",
    "\n",
    "**NOTE**: Under the hood, we use [optuna](https://optuna.readthedocs.io/en/stable/) for hyperparameter optimization.\n",
    "\n",
    "### Do the imports"
   ]
  },
  {
   "cell_type": "code",
   "execution_count": null,
   "id": "excellent-paragraph",
   "metadata": {},
   "outputs": [],
   "source": [
    "import glob\n",
    "from jina import Document\n",
    "from jina.optimizers.flow_runner import SingleFlowRunner, MultiFlowRunner\n",
    "from jina.optimizers import FlowOptimizer, MeanEvaluationCallback"
   ]
  },
  {
   "cell_type": "markdown",
   "id": "black-partnership",
   "metadata": {},
   "source": [
    "### A) & B)\n",
    "\n",
    "Jina provides the \n",
    "- `SingleFlowRunner` for making a Flow repeaditly runnable and the \n",
    "- `MultiFlowRunner` to chain multiple `SingleFlowRunner` for the `FlowOptimizer`\n",
    "\n",
    "For setup you need:\n",
    "- `flow_yaml`: the definition of a Flow\n",
    "- `documents`: the Documents, which are send to the Flow in each optimization step\n",
    "- `execution_method`: tell the Flow, whether `index` or `search` should be used\n",
    "\n",
    "Beware, that we introduce `JINA_MODEL_NAME_VAR: ${{JINA_MODEL_NAME}}` in the two new Flow definition.\n",
    "This variable will allow us to change the model in the Flow in each optimization step."
   ]
  },
  {
   "cell_type": "code",
   "execution_count": null,
   "id": "regulation-thomas",
   "metadata": {},
   "outputs": [],
   "source": [
    "def get_input_iterator(edition, full_document):\n",
    "    image_src = f'data/pokemon/main-sprites/{edition}/*.png'\n",
    "    for filename in glob.iglob(image_src, recursive=True):\n",
    "        if full_document:\n",
    "            with open(filename, 'rb') as fp:\n",
    "                yield Document(buffer=fp.read(), tags={'filename': filename})\n",
    "        else:\n",
    "            yield filename\n",
    "\n",
    "def get_flows():\n",
    "    index_flow = SingleFlowRunner(\n",
    "        flow_yaml='flows/index_opt.yml',\n",
    "        documents=get_input_iterator('red-blue', True),\n",
    "        request_size=64,\n",
    "        execution_method='index',\n",
    "        overwrite_workspace=True\n",
    "    )\n",
    "\n",
    "    search_flow = SingleFlowRunner(\n",
    "        flow_yaml='flows/query_opt.yml',\n",
    "        documents=get_input_iterator('red-green', False),\n",
    "        request_size=64,\n",
    "        execution_method='search'\n",
    "    )\n",
    "\n",
    "    multi_flow = MultiFlowRunner([index_flow, search_flow])\n",
    "    return multi_flow\n"
   ]
  },
  {
   "cell_type": "markdown",
   "id": "usual-mirror",
   "metadata": {},
   "source": [
    "### C) implement an `EvaluationCallback` which will calculate, if the right pokemon is in the first place\n",
    "\n",
    "Since the files are named the same for both editions, we use the filename as an identifier, whether we found the right pokemon.\n",
    "The `PokemonCallback` checks for each Document, whether the correct result is in the first position."
   ]
  },
  {
   "cell_type": "code",
   "execution_count": null,
   "id": "embedded-sapphire",
   "metadata": {},
   "outputs": [],
   "source": [
    "def get_id(filename):\n",
    "    return filename.split('/')[-1].split('.')[0]\n",
    "\n",
    "class PokemonCallback(MeanEvaluationCallback):\n",
    "\n",
    "    def __init__(self, *args, **kwargs):\n",
    "        super().__init__(*args, **kwargs)\n",
    "        self._eval_name = \"pokedex_eval\"\n",
    "\n",
    "    def get_empty_copy(self):\n",
    "        return PokemonCallback(self._eval_name)\n",
    "    \n",
    "    def __call__(self, response):\n",
    "        self._n_docs += len(response.search.docs)\n",
    "        for doc in response.search.docs:\n",
    "            if doc.matches:\n",
    "                document_id = get_id(doc.uri)\n",
    "                first_match_id = get_id(str(doc.matches[0].tags.fields['filename']))\n",
    "                if document_id == first_match_id:\n",
    "                    self._evaluation_values[self._eval_name] += 1"
   ]
  },
  {
   "cell_type": "markdown",
   "id": "olympic-contents",
   "metadata": {},
   "source": [
    "### D) set the needed `OptimizationParameter` via a `parameter.yml` file\n",
    "\n",
    "We defined in the `parameter_few.yml` the models, that the optimizer should try out.\n",
    "For demonstation purpose, we just added three models, in order to make the optimizer run rather short.\n",
    "If you want to try mode models, please use the `parameter.yml` file and increase `n_trials` parameter in the `FlowOptimizer` below"
   ]
  },
  {
   "cell_type": "markdown",
   "id": "activated-detector",
   "metadata": {},
   "source": [
    "### E) setup the optimization process itself\n",
    "\n",
    "Finally, we build the `FlowOptimizer` object.\n",
    "It needs:\n",
    "- `flow_runner`: the repeaditly runnable Flow object\n",
    "- `parameter_yaml`: the parameters which the optimizer can change\n",
    "- `evaluation_callback`: our previously defined evaluation function\n",
    "- `workspace_base_dir`: A directory for temporary data\n",
    "- `n_trials`: The amount of optimization steps, that should be performed\n",
    "- `sampler`: the way, the `FlowOptimizer` should sample new values in each step. For more info please look at the [optuna docs](https://optuna.readthedocs.io/en/stable/reference/generated/optuna.samplers.RandomSampler.html#optuna.samplers.RandomSampler)."
   ]
  },
  {
   "cell_type": "code",
   "execution_count": null,
   "id": "golden-buffalo",
   "metadata": {
    "tags": []
   },
   "outputs": [],
   "source": [
    "\n",
    "def optimize(flows):\n",
    "    optimizer = FlowOptimizer(\n",
    "        flow_runner=flows,\n",
    "        parameter_yaml='optimize/parameters_few.yml',\n",
    "        evaluation_callback=PokemonCallback(eval_name='correct'),\n",
    "        workspace_base_dir='workspace',\n",
    "        n_trials=3,\n",
    "        sampler='RandomSampler'\n",
    "    )\n",
    "    result = optimizer.optimize_flow()\n",
    "    result.save_parameters('optimize/best_config.yml')\n",
    "\n",
    "flows = get_flows()\n",
    "optimize(flows)"
   ]
  },
  {
   "cell_type": "code",
   "execution_count": null,
   "id": "regular-beverage",
   "metadata": {},
   "outputs": [],
   "source": []
  }
 ],
 "metadata": {
  "kernelspec": {
   "display_name": "Python 3",
   "language": "python",
   "name": "python3"
  },
  "language_info": {
   "codemirror_mode": {
    "name": "ipython",
    "version": 3
   },
   "file_extension": ".py",
   "mimetype": "text/x-python",
   "name": "python",
   "nbconvert_exporter": "python",
   "pygments_lexer": "ipython3",
   "version": "3.7.10"
  }
 },
 "nbformat": 4,
 "nbformat_minor": 5
}
