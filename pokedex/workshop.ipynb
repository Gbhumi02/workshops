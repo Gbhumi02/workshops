{
 "cells": [
  {
   "cell_type": "markdown",
   "id": "organized-oxygen",
   "metadata": {
    "slideshow": {
     "slide_type": "slide"
    },
    "tags": []
   },
   "source": [
    "# Jina Workshop @ EuroPython: Building a Neural Image Search Engine"
   ]
  },
  {
   "cell_type": "markdown",
   "id": "civic-makeup",
   "metadata": {
    "slideshow": {
     "slide_type": "slide"
    },
    "tags": []
   },
   "source": [
    "In this workshop we will build a neural search engine for images of Pokemons."
   ]
  },
  {
   "cell_type": "markdown",
   "id": "4cbcfb36-6c1a-4fc2-a397-d28a0b5e2b89",
   "metadata": {},
   "source": [
    "# TABLE OF CONTENTS\n",
    "\n",
    "...\n",
    "\n"
   ]
  },
  {
   "cell_type": "markdown",
   "id": "orange-compression",
   "metadata": {},
   "source": [
    "# Downloading data and model\n",
    "\n",
    "Skip this if you've already downloaded them.\n",
    "\n",
    "## Download and Extract Data\n",
    "\n",
    "For this example we're using Pokemon sprites from [veekun.com](https://veekun.com/dex/downloads). To download them run:\n",
    "\n",
    "```sh\n",
    "sh ./get_data.sh\n",
    "```\n",
    "\n",
    "## Download and Extract Pretrained Model\n",
    "\n",
    "In this example we use [BiT (Big Transfer) model](https://github.com/google-research/big_transfer), To download it:\n",
    "\n",
    "```sh\n",
    "sh ./download.sh\n",
    "```"
   ]
  },
  {
   "attachments": {
    "07a57670-02d0-4b37-89d4-e40fa91fe617.png": {
     "image/png": "[encoded data removed]"
    },
    "4fdcaf41-1adb-4eef-9770-94a112369dfe.png": {
     "image/png": "[encoded data removed]"
    },
    "dd9fe45f-6be4-4822-ae92-2d281b56c0ff.png": {
     "image/png": "[encoded data removed]"
    }
   },
   "cell_type": "markdown",
   "id": "steady-singapore",
   "metadata": {},
   "source": [
    "# The problem\n",
    "\n",
    "We want to search Pokemon by pictures! For example \n",
    "\n",
    "![1.png](attachment:07a57670-02d0-4b37-89d4-e40fa91fe617.png)\n",
    "\n",
    "May return\n",
    "\n",
    "![2.png](attachment:4fdcaf41-1adb-4eef-9770-94a112369dfe.png) ![3.png](attachment:dd9fe45f-6be4-4822-ae92-2d281b56c0ff.png)"
   ]
  },
  {
   "cell_type": "markdown",
   "id": "minimal-badge",
   "metadata": {},
   "source": [
    "# Code"
   ]
  },
  {
   "cell_type": "markdown",
   "id": "16633ae0-807e-43e4-b661-c19e785aefca",
   "metadata": {},
   "source": [
    "Automatically reload changed files when running code."
   ]
  },
  {
   "cell_type": "code",
   "execution_count": 1,
   "id": "e7d3c463-54a0-4a4d-9f7f-c80315a5ad49",
   "metadata": {},
   "outputs": [],
   "source": [
    "%load_ext autoreload\n",
    "%autoreload 2"
   ]
  },
  {
   "cell_type": "markdown",
   "id": "7eb0ffd6-d445-4bb0-8524-6d45c986195c",
   "metadata": {},
   "source": [
    "Remove (some) warnings from TF and Torch"
   ]
  },
  {
   "cell_type": "code",
   "execution_count": 2,
   "id": "c9eb2af7-8924-442a-ac6a-1db4124706a2",
   "metadata": {},
   "outputs": [],
   "source": [
    "import warnings\n",
    "warnings.filterwarnings(\"ignore\")"
   ]
  },
  {
   "cell_type": "markdown",
   "id": "1d4864ed-c1ea-47c3-a16b-b95d7eb2411a",
   "metadata": {},
   "source": [
    "Required imports"
   ]
  },
  {
   "cell_type": "code",
   "execution_count": 3,
   "id": "1a0a1e19-f923-446f-be1b-8e21e67b88b6",
   "metadata": {},
   "outputs": [
    {
     "name": "stderr",
     "output_type": "stream",
     "text": [
      "2021-07-09 12:25:54.534091: W tensorflow/stream_executor/platform/default/dso_loader.cc:64] Could not load dynamic library 'libcudart.so.11.0'; dlerror: libcudart.so.11.0: cannot open shared object file: No such file or directory\n",
      "2021-07-09 12:25:54.534131: I tensorflow/stream_executor/cuda/cudart_stub.cc:29] Ignore above cudart dlerror if you do not have a GPU set up on your machine.\n"
     ]
    }
   ],
   "source": [
    "import os\n",
    "import sys\n",
    "from shutil import rmtree\n",
    "from glob import glob\n",
    "import numpy as np\n",
    "from matplotlib import pyplot as plt\n",
    "from matplotlib.pyplot import imshow\n",
    "from PIL import Image\n",
    "\n",
    "from jina import Flow, DocumentArray, Document\n",
    "\n",
    "from jinahub.image.normalizer import ImageNormalizer\n",
    "from jinahub.image.encoder.big_transfer import BigTransferEncoder\n",
    "from jinahub.image.encoder.torch_encoder import ImageTorchEncoder\n",
    "\n",
    "from components import MemMapIndexer"
   ]
  },
  {
   "cell_type": "markdown",
   "id": "banned-policy",
   "metadata": {},
   "source": [
    "Some configuration options.\n",
    "\n",
    "- restrict the nr of docs we index\n",
    "- the path to the images"
   ]
  },
  {
   "cell_type": "code",
   "execution_count": 4,
   "id": "exposed-letters",
   "metadata": {},
   "outputs": [],
   "source": [
    "# TODO adapt nr of image. pre-index dataset before workshop\n",
    "num_docs = int(os.environ.get('JINA_MAX_DOCS', 5))\n",
    "image_src = 'data/**/*.png'"
   ]
  },
  {
   "cell_type": "markdown",
   "id": "protective-outside",
   "metadata": {},
   "source": [
    "Environment variables\n",
    "\n",
    "- workspace (folder where the encoded data will be stored)\n",
    "- port we will listen on"
   ]
  },
  {
   "cell_type": "code",
   "execution_count": 5,
   "id": "later-format",
   "metadata": {},
   "outputs": [],
   "source": [
    "workspace = './workspace'\n",
    "os.environ['JINA_WORKSPACE'] = workspace\n",
    "os.environ['JINA_PORT'] = os.environ.get('JINA_PORT', str(45678))"
   ]
  },
  {
   "cell_type": "markdown",
   "id": "failing-ceramic",
   "metadata": {},
   "source": [
    "We need to make sure to not index on top of an existing workspace. \n",
    "\n",
    "This can cause problems if you are using different configuration options between the two runs."
   ]
  },
  {
   "cell_type": "code",
   "execution_count": 6,
   "id": "commercial-sight",
   "metadata": {
    "tags": []
   },
   "outputs": [],
   "source": [
    "if os.path.exists(workspace):\n",
    "    print(f'Workspace at {workspace} exists. Will delete')\n",
    "    rmtree(workspace)"
   ]
  },
  {
   "cell_type": "markdown",
   "id": "rough-conspiracy",
   "metadata": {},
   "source": [
    "# Flows"
   ]
  },
  {
   "cell_type": "markdown",
   "id": "reasonable-sullivan",
   "metadata": {},
   "source": [
    "The Flow is the main pipeline in Jina. It describes the way data should be loaded, processed, stored etc. within the system. \n",
    "\n",
    "It is made up of components (called Executors), which are the ones doing the specific task.\n",
    "\n",
    "Ex. we have a crafter Executor, which preprocesses the data; an Encoder Executor, which loads the model and *encodes* that data;  Indexer Executor, which stores and retrieves the data etc."
   ]
  },
  {
   "cell_type": "markdown",
   "id": "statistical-thomson",
   "metadata": {},
   "source": [
    "## Index\n",
    "\n",
    "This is the Flow we use to perform operations on our data."
   ]
  },
  {
   "cell_type": "code",
   "execution_count": 7,
   "id": "central-stupid",
   "metadata": {},
   "outputs": [],
   "source": [
    "f = Flow.load_config('flows/flow.yml')"
   ]
  },
  {
   "cell_type": "markdown",
   "id": "578e6b0e-26ac-41bb-8223-c788ac74676a",
   "metadata": {},
   "source": [
    "We can plot it."
   ]
  },
  {
   "cell_type": "code",
   "execution_count": 8,
   "id": "correct-giant",
   "metadata": {
    "tags": []
   },
   "outputs": [
    {
     "data": {
      "text/html": [
       "<img src=\"https://mermaid.ink/svg/JSV7aW5pdDogeyd0aGVtZSc6ICdiYXNlJywgJ3RoZW1lVmFyaWFibGVzJzogeyAncHJpbWFyeUNvbG9yJzogJyMzMkM4Q0QnLCAnZWRnZUxhYmVsQmFja2dyb3VuZCc6JyNmZmYnLCAnY2x1c3RlckJrZyc6ICcjRkZDQzY2J319fSUlCmdyYXBoIExSCmdhdGV3YXkoZ2F0ZXdheSk6OjpHQVRFV0FZIC0tPiBjcmFmdGVyKGNyYWZ0ZXIpOjo6UE9ECmNyYWZ0ZXIoY3JhZnRlcik6OjpQT0QgLS0+IGVuY29kZXIoZW5jb2Rlcik6OjpQT0QKZW5jb2RlcihlbmNvZGVyKTo6OlBPRCAtLT4gaW5kZXhlcihpbmRleGVyKTo6OlBPRAppbmRleGVyKGluZGV4ZXIpOjo6UE9EIC0tPiBnYXRld2F5X0VORChnYXRld2F5KTo6OkdBVEVXQVkKY2xhc3NEZWYgUE9EIGZpbGw6IzMyQzhDRCxzdHJva2U6IzAwOTk5OQpjbGFzc0RlZiBJTlNQRUNUIGZpbGw6I2ZmNjY2Nixjb2xvcjojZmZmCmNsYXNzRGVmIEpPSU5fSU5TUEVDVCBmaWxsOiNmZjY2NjYsY29sb3I6I2ZmZgpjbGFzc0RlZiBHQVRFV0FZIGZpbGw6IzZFNzI3OCxjb2xvcjojZmZmCmNsYXNzRGVmIElOU1BFQ1RfQVVYX1BBU1MgZmlsbDojZmZmLGNvbG9yOiMwMDAsc3Ryb2tlLWRhc2hhcnJheTogNSA1CmNsYXNzRGVmIHBlYSBmaWxsOiMwMDk5OTksc3Ryb2tlOiMxRTZFNzM=\"/>"
      ],
      "text/plain": [
       "<IPython.core.display.Image object>"
      ]
     },
     "metadata": {},
     "output_type": "display_data"
    }
   ],
   "source": [
    "f.plot('index.png')"
   ]
  },
  {
   "cell_type": "markdown",
   "id": "considerable-details",
   "metadata": {},
   "source": [
    "The Flow is a context manager (like a file handler). Within the context, it starts all the Executors within their processes / threads.\n",
    "\n",
    "We load data into the pipeline from the directory we provided above. \n",
    "\n",
    "`request_size` dictates how many images should be sent in one request (~batching)."
   ]
  },
  {
   "cell_type": "code",
   "execution_count": 9,
   "id": "73dfc880-acb9-4b58-9ca7-1995ae61913b",
   "metadata": {},
   "outputs": [],
   "source": [
    "def get_docs(image_src, num_docs):\n",
    "    docs = DocumentArray()\n",
    "\n",
    "    for file in glob(image_src, recursive=True):\n",
    "        # Uniform Resource Identifier\n",
    "        doc = Document(uri=file)\n",
    "        doc.convert_image_uri_to_blob()\n",
    "        doc.tags['filename'] = file\n",
    "        docs.append(doc)\n",
    "        if len(docs) == num_docs:\n",
    "            break\n",
    "            \n",
    "    return docs"
   ]
  },
  {
   "cell_type": "code",
   "execution_count": 10,
   "id": "c88e07c3-ff42-4211-9670-17ae230ef060",
   "metadata": {
    "tags": []
   },
   "outputs": [],
   "source": [
    "docs = get_docs(image_src, num_docs)"
   ]
  },
  {
   "cell_type": "code",
   "execution_count": 11,
   "id": "47ca4748-fda2-4e49-be5f-a517bc3e33b9",
   "metadata": {
    "tags": []
   },
   "outputs": [
    {
     "name": "stdout",
     "output_type": "stream",
     "text": [
      "\u001b[32m        crafter@45812[L]:ready and listening\u001b[0m\n",
      "\u001b[33mBigTransferEncoder@45846[W]:You tried to use a GPU but no GPU was found on your system. Defaulting to CPU!\u001b[0m\n",
      "BigTransferEncoder@45846[I]:BiT model path: pretrained\u001b[0m\n"
     ]
    },
    {
     "name": "stderr",
     "output_type": "stream",
     "text": [
      "2021-07-09 12:25:57.089076: W tensorflow/stream_executor/platform/default/dso_loader.cc:64] Could not load dynamic library 'libcuda.so.1'; dlerror: libcuda.so.1: cannot open shared object file: No such file or directory\n",
      "2021-07-09 12:25:57.089117: W tensorflow/stream_executor/cuda/cuda_driver.cc:326] failed call to cuInit: UNKNOWN ERROR (303)\n",
      "2021-07-09 12:25:57.089330: I tensorflow/stream_executor/cuda/cuda_diagnostics.cc:156] kernel driver does not appear to be running on this host (x1): /proc/driver/nvidia/version does not exist\n"
     ]
    },
    {
     "name": "stdout",
     "output_type": "stream",
     "text": [
      "WARNING:tensorflow:SavedModel saved prior to TF 2.5 detected when loading Keras model. Please ensure that you are saving the model with model.save() or tf.keras.models.save_model(), *NOT* tf.saved_model.save(). To confirm, there should be a file named \"keras_metadata.pb\" in the SavedModel directory.\n"
     ]
    },
    {
     "name": "stderr",
     "output_type": "stream",
     "text": [
      "2021-07-09 12:25:57.393400: I tensorflow/core/platform/cpu_feature_guard.cc:142] This TensorFlow binary is optimized with oneAPI Deep Neural Network Library (oneDNN) to use the following CPU instructions in performance-critical operations:  AVX2 FMA\n",
      "To enable them in other operations, rebuild TensorFlow with the appropriate compiler flags.\n"
     ]
    },
    {
     "name": "stdout",
     "output_type": "stream",
     "text": [
      "WARNING:tensorflow:No training configuration found in save file, so the model was *not* compiled. Compile it manually.\n",
      "\u001b[32m        encoder@45812[L]:ready and listening\u001b[0m\n",
      "\u001b[32m        indexer@45812[L]:ready and listening\u001b[0m\n",
      "\u001b[32m        gateway@45812[L]:ready and listening\u001b[0m\n",
      "           Flow@45812[I]:🎉 Flow is ready to use!\n",
      "\t🔗 Protocol: \t\t\u001b[1mGRPC\u001b[0m\n",
      "\t🏠 Local access:\t\u001b[4m\u001b[36m0.0.0.0:44069\u001b[0m\n",
      "\t🔒 Private network:\t\u001b[4m\u001b[36m192.168.178.144:44069\u001b[0m\n",
      "\t🌐 Public address:\t\u001b[4m\u001b[36m2001:16b8:46c7:e200:2608:d9f9:7d3d:a4f6:44069\u001b[0m\u001b[0m\n"
     ]
    },
    {
     "name": "stderr",
     "output_type": "stream",
     "text": [
      "2021-07-09 12:26:12.041769: I tensorflow/compiler/mlir/mlir_graph_optimization_pass.cc:176] None of the MLIR Optimization Passes are enabled (registered 2)\n",
      "2021-07-09 12:26:12.123299: I tensorflow/core/platform/profile_utils/cpu_utils.cc:114] CPU Frequency: 2299965000 Hz\n"
     ]
    },
    {
     "name": "stdout",
     "output_type": "stream",
     "text": [
      "\u001b[31m           JINA@45852[E]:all gateway tasks are cancelled\u001b[0m\n",
      "\u001b[31m        gateway@45852[E]:Received message is empty.\u001b[0m\n"
     ]
    }
   ],
   "source": [
    "with f:\n",
    "    f.post(\n",
    "        on='/index',\n",
    "        inputs=docs,\n",
    "        request_size=64,\n",
    "    )"
   ]
  },
  {
   "cell_type": "markdown",
   "id": "1da2fb59-f0e3-4d7f-9593-2e204830c586",
   "metadata": {},
   "source": [
    "# Questions?\n",
    "\n",
    "---"
   ]
  },
  {
   "cell_type": "markdown",
   "id": "static-moderator",
   "metadata": {},
   "source": [
    "## Searching"
   ]
  },
  {
   "cell_type": "markdown",
   "id": "be61c13a-1593-49fc-95c7-7ca6dee606ec",
   "metadata": {},
   "source": [
    "We load the first image in the dataset"
   ]
  },
  {
   "cell_type": "code",
   "execution_count": 12,
   "id": "258a1b30-b8ba-4635-bf84-44d5c93092fd",
   "metadata": {},
   "outputs": [
    {
     "data": {
      "text/plain": [
       "<matplotlib.image.AxesImage at 0x7f33d5984850>"
      ]
     },
     "execution_count": 12,
     "metadata": {},
     "output_type": "execute_result"
    },
    {
     "data": {
      "image/png": "[encoded data removed]",
      "text/plain": [
       "<Figure size 432x288 with 1 Axes>"
      ]
     },
     "metadata": {
      "needs_background": "light"
     },
     "output_type": "display_data"
    }
   ],
   "source": [
    "search_image = list(glob(image_src, recursive=True))[0]\n",
    "\n",
    "# Let's plot the image\n",
    "\n",
    "pil_im = Image.open(search_image)\n",
    "imshow(pil_im)"
   ]
  },
  {
   "cell_type": "markdown",
   "id": "61831869-c4a3-43f8-a24b-97a40221700b",
   "metadata": {},
   "source": [
    "We build a Document with that image"
   ]
  },
  {
   "cell_type": "code",
   "execution_count": 13,
   "id": "1f068941-159d-470e-a7ef-82d80dc42a33",
   "metadata": {},
   "outputs": [],
   "source": [
    "query_docs = get_docs(image_src, 1)"
   ]
  },
  {
   "cell_type": "code",
   "execution_count": 14,
   "id": "f807c080-0798-47b0-bdd8-8bb6e7084050",
   "metadata": {},
   "outputs": [
    {
     "data": {
      "text/plain": [
       "<jina.types.struct.StructView filename=data/pokemon/main-sprites/heartgold-soulsilver/72.png at 139856497267024>"
      ]
     },
     "execution_count": 14,
     "metadata": {},
     "output_type": "execute_result"
    }
   ],
   "source": [
    "query_docs[0].tags"
   ]
  },
  {
   "cell_type": "code",
   "execution_count": 15,
   "id": "convinced-reliance",
   "metadata": {
    "tags": []
   },
   "outputs": [
    {
     "name": "stdout",
     "output_type": "stream",
     "text": [
      "\u001b[32m        crafter@45812[L]:ready and listening\u001b[0m\n",
      "\u001b[33mBigTransferEncoder@45951[W]:You tried to use a GPU but no GPU was found on your system. Defaulting to CPU!\u001b[0m\n",
      "BigTransferEncoder@45951[I]:BiT model path: pretrained\u001b[0m\n"
     ]
    },
    {
     "name": "stderr",
     "output_type": "stream",
     "text": [
      "2021-07-09 12:26:14.100390: W tensorflow/stream_executor/platform/default/dso_loader.cc:64] Could not load dynamic library 'libcuda.so.1'; dlerror: libcuda.so.1: cannot open shared object file: No such file or directory\n",
      "2021-07-09 12:26:14.100450: W tensorflow/stream_executor/cuda/cuda_driver.cc:326] failed call to cuInit: UNKNOWN ERROR (303)\n",
      "2021-07-09 12:26:14.100485: I tensorflow/stream_executor/cuda/cuda_diagnostics.cc:156] kernel driver does not appear to be running on this host (x1): /proc/driver/nvidia/version does not exist\n"
     ]
    },
    {
     "name": "stdout",
     "output_type": "stream",
     "text": [
      "WARNING:tensorflow:SavedModel saved prior to TF 2.5 detected when loading Keras model. Please ensure that you are saving the model with model.save() or tf.keras.models.save_model(), *NOT* tf.saved_model.save(). To confirm, there should be a file named \"keras_metadata.pb\" in the SavedModel directory.\n"
     ]
    },
    {
     "name": "stderr",
     "output_type": "stream",
     "text": [
      "2021-07-09 12:26:14.412787: I tensorflow/core/platform/cpu_feature_guard.cc:142] This TensorFlow binary is optimized with oneAPI Deep Neural Network Library (oneDNN) to use the following CPU instructions in performance-critical operations:  AVX2 FMA\n",
      "To enable them in other operations, rebuild TensorFlow with the appropriate compiler flags.\n"
     ]
    },
    {
     "name": "stdout",
     "output_type": "stream",
     "text": [
      "WARNING:tensorflow:No training configuration found in save file, so the model was *not* compiled. Compile it manually.\n",
      "\u001b[32m        encoder@45812[L]:ready and listening\u001b[0m\n",
      "\u001b[32m        indexer@45812[L]:ready and listening\u001b[0m\n",
      "\u001b[32m        gateway@45812[L]:ready and listening\u001b[0m\n",
      "           Flow@45812[I]:🎉 Flow is ready to use!\n",
      "\t🔗 Protocol: \t\t\u001b[1mGRPC\u001b[0m\n",
      "\t🏠 Local access:\t\u001b[4m\u001b[36m0.0.0.0:46539\u001b[0m\n",
      "\t🔒 Private network:\t\u001b[4m\u001b[36m192.168.178.144:46539\u001b[0m\n",
      "\t🌐 Public address:\t\u001b[4m\u001b[36m2001:16b8:46c7:e200:2608:d9f9:7d3d:a4f6:46539\u001b[0m\u001b[0m\n"
     ]
    },
    {
     "name": "stderr",
     "output_type": "stream",
     "text": [
      "2021-07-09 12:26:30.084314: I tensorflow/compiler/mlir/mlir_graph_optimization_pass.cc:176] None of the MLIR Optimization Passes are enabled (registered 2)\n",
      "2021-07-09 12:26:30.171352: I tensorflow/core/platform/profile_utils/cpu_utils.cc:114] CPU Frequency: 2299965000 Hz\n"
     ]
    },
    {
     "name": "stdout",
     "output_type": "stream",
     "text": [
      "\u001b[31m           JINA@45957[E]:all gateway tasks are cancelled\u001b[0m\n",
      "\u001b[31m        gateway@45957[E]:Received message is empty.\u001b[0m\n"
     ]
    }
   ],
   "source": [
    "with f:\n",
    "    return_docs = f.post(\n",
    "        on='/search',\n",
    "        inputs=query_docs,\n",
    "        parameters={'top_k': 5},\n",
    "        return_results=True\n",
    "    )"
   ]
  },
  {
   "cell_type": "markdown",
   "id": "7dbd61ee-ec07-4e37-a434-d00f4ef1c15e",
   "metadata": {},
   "source": [
    "Retrieving tags (image path)"
   ]
  },
  {
   "cell_type": "code",
   "execution_count": 16,
   "id": "fa2190a0-153f-40ed-b8c8-0f13f7143dae",
   "metadata": {},
   "outputs": [],
   "source": [
    "# top match is the same image\n",
    "assert return_docs[0].docs[0].matches[0].tags['filename'] == return_docs[0].docs[0].tags['filename']"
   ]
  },
  {
   "cell_type": "markdown",
   "id": "4e156b9b-4a67-4a11-bd13-88c4bac34928",
   "metadata": {},
   "source": [
    "Reconstructing the original image from the Document content"
   ]
  },
  {
   "cell_type": "code",
   "execution_count": 17,
   "id": "e3f6b1ff-0fb3-4385-9e5c-12f790a3b6ae",
   "metadata": {},
   "outputs": [
    {
     "data": {
      "image/png": "[encoded data removed]",
      "text/plain": [
       "<Figure size 432x288 with 1 Axes>"
      ]
     },
     "metadata": {
      "needs_background": "light"
     },
     "output_type": "display_data"
    },
    {
     "data": {
      "image/png": "[encoded data removed]",
      "text/plain": [
       "<Figure size 432x288 with 1 Axes>"
      ]
     },
     "metadata": {
      "needs_background": "light"
     },
     "output_type": "display_data"
    },
    {
     "data": {
      "image/png": "[encoded data removed]",
      "text/plain": [
       "<Figure size 432x288 with 1 Axes>"
      ]
     },
     "metadata": {
      "needs_background": "light"
     },
     "output_type": "display_data"
    },
    {
     "data": {
      "image/png": "[encoded data removed]",
      "text/plain": [
       "<Figure size 432x288 with 1 Axes>"
      ]
     },
     "metadata": {
      "needs_background": "light"
     },
     "output_type": "display_data"
    },
    {
     "data": {
      "image/png": "[encoded data removed]",
      "text/plain": [
       "<Figure size 432x288 with 1 Axes>"
      ]
     },
     "metadata": {
      "needs_background": "light"
     },
     "output_type": "display_data"
    }
   ],
   "source": [
    "for match in return_docs[0].docs[0].matches:\n",
    "    content = match.content*255\n",
    "    img_array = content.astype(np.uint8)\n",
    "    img = Image.fromarray(img_array)\n",
    "    imshow(img)\n",
    "    plt.title(match.tags['filename'])\n",
    "    plt.show()"
   ]
  },
  {
   "cell_type": "markdown",
   "id": "virtual-think",
   "metadata": {},
   "source": [
    "# Questions?\n",
    "\n",
    "---"
   ]
  },
  {
   "cell_type": "markdown",
   "id": "848fd1d2-f13a-4683-a044-17e5795ba316",
   "metadata": {},
   "source": [
    "# Advanced Topics\n",
    "\n",
    "\n",
    "**NOTE**: After configuring these, you will need to re-index your data and search again. "
   ]
  },
  {
   "cell_type": "markdown",
   "id": "f45c02a2-382d-499f-a183-923039a4e9c8",
   "metadata": {},
   "source": [
    "## 1. Changing Encoders\n",
    "\n",
    "We can switch the `Encoder` easily.\n",
    "\n",
    "This is the component that is the actual **model**. This encodes the images into a vector space upon which you can perform cosine similarity (or other linear algebra operations).\n",
    "\n",
    "\n",
    "`flows/flow.yml`:\n",
    "\n",
    "```yaml\n",
    "...\n",
    "  - name: encoder\n",
    "    timeout_ready: 600000\n",
    "    uses:\n",
    "        jtype: ImageTorchEncoder\n",
    "        with:\n",
    "          on_gpu: true\n",
    "...\n",
    "```"
   ]
  },
  {
   "cell_type": "code",
   "execution_count": 18,
   "id": "0a4c2aae-7341-4a2d-bc2c-c949c4e28311",
   "metadata": {},
   "outputs": [],
   "source": [
    "from jinahub.image.encoder.torch_encoder import ImageTorchEncoder"
   ]
  },
  {
   "cell_type": "markdown",
   "id": "99dd3646-cdbb-448c-a4c2-07c98d1b2945",
   "metadata": {},
   "source": [
    "Now we re-run the cells above with the new Flow. Make sure to **delete the workspace**."
   ]
  },
  {
   "cell_type": "markdown",
   "id": "3bbbdeb3-d77e-4efc-a222-bbb2531de02f",
   "metadata": {},
   "source": [
    "# Questions?\n",
    "\n",
    "---"
   ]
  },
  {
   "cell_type": "markdown",
   "id": "ea9f4771-956f-463a-9666-9a1120abe180",
   "metadata": {},
   "source": [
    "## 2. Your own custom Executor\n",
    "\n",
    "Next let's delve one level deeper into Jina.\n",
    "\n",
    "So far we have looked at the Flow (top level) and the Document (one element of data).\n",
    "\n",
    "The intermediate level is the Executor (which is a component in the pipeline of the Flow).\n",
    "\n",
    "Let's create an Executor which \"logs\" the query results.\n",
    "\n",
    "OPTIONAL It's parallel.\n",
    "\n",
    "OPTIONAL It's hanging."
   ]
  },
  {
   "cell_type": "markdown",
   "id": "charming-imagination",
   "metadata": {},
   "source": [
    "# Questions?\n",
    "\n",
    "---"
   ]
  },
  {
   "attachments": {
    "1a98c688-569b-4b08-aa1d-3dbb7fadd38f.png": {
     "image/png": "[encoded data removed]"
    },
    "cb8f8cf6-92f7-4b7f-9a75-43029261979b.png": {
     "image/png": "[encoded data removed]"
    }
   },
   "cell_type": "markdown",
   "id": "supported-martin",
   "metadata": {},
   "source": [
    "## 3. Optimization\n",
    "\n",
    "In every Flow that is build with Jina, there are quite some parameters to set.\n",
    "For example, if you use a pre-trained model for encoding, there is no obvious best choice for a given dataset.\n",
    "Jina allows you to try out a lot of different parameters automatically in order to get the best results.\n",
    "\n",
    "Therefor, you need to provide Jina some sort of evaluation metric.\n",
    "In the pokemon dataset, there are two edition with the same pokemon, but different images: `red-blue` and `red-green`.\n",
    "\n",
    "![1.png](attachment:cb8f8cf6-92f7-4b7f-9a75-43029261979b.png)![1.png](attachment:1a98c688-569b-4b08-aa1d-3dbb7fadd38f.png)\n",
    "\n",
    "Thus, we will setup the following evaluation metric:\n",
    "Index one edition and search with the other edition.\n",
    "We have a success, if the right pokemon is at the first place in the search results.\n",
    "\n",
    "We need to do the following steps:\n",
    "\n",
    "- A) build an `index` and a `search` Flow, which are repeaditly runnable\n",
    "- B) use the `red-blue` dataset for `index` and the `red-green` for `search`\n",
    "- C) implement an `EvaluationCallback` which will calculate, if the right pokemon is in the first place\n",
    "- D) set the needed `OptimizationParameter` via a `parameter.yml` file\n",
    "- E) setup the optimization process itself\n",
    "\n",
    "**NOTE**: Under the hood, we use [optuna](https://optuna.readthedocs.io/en/stable/) for hyperparameter optimization.\n",
    "\n",
    "### Do the imports"
   ]
  },
  {
   "cell_type": "code",
   "execution_count": 19,
   "id": "cooperative-realtor",
   "metadata": {},
   "outputs": [],
   "source": [
    "from glob import iglob\n",
    "from jina import Document\n",
    "from jina.optimizers.flow_runner import SingleFlowRunner, MultiFlowRunner\n",
    "from jina.optimizers import FlowOptimizer, EvaluationCallback"
   ]
  },
  {
   "cell_type": "markdown",
   "id": "alien-fossil",
   "metadata": {},
   "source": [
    "### A) & B)\n",
    "\n",
    "Jina provides the \n",
    "- `SingleFlowRunner` for making a Flow repeaditly runnable and the \n",
    "- `MultiFlowRunner` to chain multiple `SingleFlowRunner` for the `FlowOptimizer`\n",
    "\n",
    "For setup you need:\n",
    "- `flow_yaml`: the definition of a Flow\n",
    "- `documents`: the Documents, which are send to the Flow in each optimization step\n",
    "- `execution_method`: tell the Flow, whether `index` or `search` should be used\n",
    "\n",
    "Beware, that we introduce `JINA_MODEL_NAME_VAR: ${{JINA_MODEL_NAME}}` in the two new Flow definition.\n",
    "This variable will allow us to change the model in the Flow in each optimization step."
   ]
  },
  {
   "cell_type": "code",
   "execution_count": 20,
   "id": "italic-mounting",
   "metadata": {},
   "outputs": [],
   "source": [
    "def get_input_iterator(edition, full_document):\n",
    "    image_src = f'data/pokemon/main-sprites/{edition}/*.png'\n",
    "    for filename in iglob(image_src, recursive=True):\n",
    "        doc = Document(uri=filename)\n",
    "        doc.convert_image_uri_to_blob()\n",
    "\n",
    "        doc.blob = doc.blob.astype(np.uint8)\n",
    "        doc.tags['filename'] = filename\n",
    "        yield doc\n",
    "\n",
    "def get_flows():\n",
    "    index_flow = SingleFlowRunner(\n",
    "        flow_yaml='flows/flow_opt.yml',\n",
    "        documents=get_input_iterator('red-blue', True),\n",
    "        request_size=64,\n",
    "        execution_endpoint='/index',\n",
    "        overwrite_workspace=True\n",
    "    )\n",
    "\n",
    "    search_flow = SingleFlowRunner(\n",
    "        flow_yaml='flows/flow_opt.yml',\n",
    "        documents=get_input_iterator('red-green', False),\n",
    "        request_size=64,\n",
    "        execution_endpoint='/search'\n",
    "    )\n",
    "\n",
    "    multi_flow = MultiFlowRunner([index_flow, search_flow])\n",
    "    return multi_flow\n"
   ]
  },
  {
   "cell_type": "markdown",
   "id": "global-database",
   "metadata": {},
   "source": [
    "### C) implement an `EvaluationCallback` which will calculate, if the right pokemon is in the first place\n",
    "\n",
    "Since the files are named the same for both editions, we use the filename as an identifier, whether we found the right pokemon.\n",
    "The `PokemonCallback` checks for each Document, whether the correct result is in the first position."
   ]
  },
  {
   "cell_type": "code",
   "execution_count": 21,
   "id": "technical-airfare",
   "metadata": {},
   "outputs": [],
   "source": [
    "def get_id(filename):\n",
    "    return filename.split('/')[-1].split('.')[0]\n",
    "\n",
    "class PokemonCallback(EvaluationCallback):\n",
    "\n",
    "    def __init__(self, *args, **kwargs):\n",
    "        super().__init__(*args, **kwargs)\n",
    "        self._eval_name = \"pokedex_eval\"\n",
    "\n",
    "    def get_empty_copy(self):\n",
    "        return PokemonCallback(self._eval_name)\n",
    "    \n",
    "    def __call__(self, response):\n",
    "        self._n_docs += len(response.data.docs)\n",
    "        for doc in response.data.docs:\n",
    "            if doc.matches:\n",
    "                document_id = get_id(str(doc.tags.fields['filename']))\n",
    "                first_match_id = get_id(str(doc.matches[0].tags.fields['filename']))\n",
    "                if document_id == first_match_id:\n",
    "                    self._evaluation_values[self._eval_name].append(1)\n",
    "                else:\n",
    "                    self._evaluation_values[self._eval_name].append(0)\n",
    "                    "
   ]
  },
  {
   "cell_type": "markdown",
   "id": "bridal-dispatch",
   "metadata": {},
   "source": [
    "### D) set the needed `OptimizationParameter` via a `parameter.yml` file\n",
    "\n",
    "We defined in the `parameter_few.yml` the models, that the optimizer should try out.\n",
    "For demonstation purpose, we just added three models, in order to make the optimizer run rather short.\n",
    "If you want to try mode models, please use the `parameter.yml` file and increase `n_trials` parameter in the `FlowOptimizer` below"
   ]
  },
  {
   "cell_type": "markdown",
   "id": "christian-brooklyn",
   "metadata": {},
   "source": [
    "### E) setup the optimization process itself\n",
    "\n",
    "Finally, we build the `FlowOptimizer` object.\n",
    "It needs:\n",
    "- `flow_runner`: the repeaditly runnable Flow object\n",
    "- `parameter_yaml`: the parameters which the optimizer can change\n",
    "- `evaluation_callback`: our previously defined evaluation function\n",
    "- `workspace_base_dir`: A directory for temporary data\n",
    "- `n_trials`: The amount of optimization steps, that should be performed\n",
    "- `sampler`: the way, the `FlowOptimizer` should sample new values in each step. For more info please look at the [optuna docs](https://optuna.readthedocs.io/en/stable/reference/generated/optuna.samplers.RandomSampler.html#optuna.samplers.RandomSampler)."
   ]
  },
  {
   "cell_type": "code",
   "execution_count": 22,
   "id": "623308f2-a996-43ad-953f-c50ae21da496",
   "metadata": {
    "tags": []
   },
   "outputs": [],
   "source": [
    "def optimize(flows):\n",
    "    optimizer = FlowOptimizer(\n",
    "        flow_runner=flows,\n",
    "        parameter_yaml='optimize/parameters_few.yml',\n",
    "        evaluation_callback=PokemonCallback(eval_name='correct'),\n",
    "        workspace_base_dir='workspace',\n",
    "        n_trials=3,\n",
    "        sampler='RandomSampler',\n",
    "        # to guarantee reproducibility in the sampling\n",
    "        seed=1\n",
    "    )\n",
    "    result = optimizer.optimize_flow()\n",
    "    result.save_parameters('optimize/best_config.yml')"
   ]
  },
  {
   "cell_type": "code",
   "execution_count": 23,
   "id": "c1e46b5f-af02-4973-a817-49206185e221",
   "metadata": {
    "tags": []
   },
   "outputs": [
    {
     "name": "stderr",
     "output_type": "stream",
     "text": [
      "\u001b[32m[I 2021-07-09 12:26:33,470]\u001b[0m A new study created in memory with name: no-name-5d243c08-7a12-4cc6-b31a-588fd15b7216\u001b[0m\n"
     ]
    },
    {
     "name": "stdout",
     "output_type": "stream",
     "text": [
      "\u001b[32m        encoder@45812[L]:ready and listening\u001b[0m\n",
      "\u001b[32m  embedding_idx@45812[L]:ready and listening\u001b[0m\n",
      "\u001b[32m        gateway@45812[L]:ready and listening\u001b[0m\n",
      "           Flow@45812[I]:🎉 Flow is ready to use!\n",
      "\t🔗 Protocol: \t\t\u001b[1mGRPC\u001b[0m\n",
      "\t🏠 Local access:\t\u001b[4m\u001b[36m0.0.0.0:57877\u001b[0m\n",
      "\t🔒 Private network:\t\u001b[4m\u001b[36m192.168.178.144:57877\u001b[0m\n",
      "\t🌐 Public address:\t\u001b[4m\u001b[36m2001:16b8:46c7:e200:2608:d9f9:7d3d:a4f6:57877\u001b[0m\u001b[0m\n",
      "\u001b[31m           JINA@46224[E]:all gateway tasks are cancelled\u001b[0m\n",
      "\u001b[31m        gateway@46224[E]:Received message is empty.\u001b[0m\n",
      "\u001b[33m           JINA@45812[W]:\u001b[31mWorkspace workspace/JINA_WORKSPACE_alexnet already exists. Please set ``overwrite_workspace=True`` for replacing it.\u001b[0m\u001b[0m\n",
      "\u001b[32m        encoder@45812[L]:ready and listening\u001b[0m\n",
      "\u001b[32m  embedding_idx@45812[L]:ready and listening\u001b[0m\n",
      "\u001b[32m        gateway@45812[L]:ready and listening\u001b[0m\n",
      "           Flow@45812[I]:🎉 Flow is ready to use!\n",
      "\t🔗 Protocol: \t\t\u001b[1mGRPC\u001b[0m\n",
      "\t🏠 Local access:\t\u001b[4m\u001b[36m0.0.0.0:39023\u001b[0m\n",
      "\t🔒 Private network:\t\u001b[4m\u001b[36m192.168.178.144:39023\u001b[0m\n",
      "\t🌐 Public address:\t\u001b[4m\u001b[36m2001:16b8:46c7:e200:2608:d9f9:7d3d:a4f6:39023\u001b[0m\u001b[0m\n",
      "\u001b[31m           JINA@46282[E]:all gateway tasks are cancelled\u001b[0m\n",
      "\u001b[31m        gateway@46282[E]:Received message is empty.\u001b[0m\n",
      "           JINA@45812[I]:\u001b[32mEvaluation Score: 0.6821192052980133\u001b[0m\u001b[0m\n"
     ]
    },
    {
     "name": "stderr",
     "output_type": "stream",
     "text": [
      "\u001b[32m[I 2021-07-09 12:26:42,582]\u001b[0m Trial 0 finished with value: 0.6821192052980133 and parameters: {'JINA_MODEL_NAME': 'alexnet'}. Best is trial 0 with value: 0.6821192052980133.\u001b[0m\n"
     ]
    },
    {
     "name": "stdout",
     "output_type": "stream",
     "text": [
      "\u001b[32m        encoder@45812[L]:ready and listening\u001b[0m\n",
      "\u001b[32m  embedding_idx@45812[L]:ready and listening\u001b[0m\n",
      "\u001b[32m        gateway@45812[L]:ready and listening\u001b[0m\n",
      "           Flow@45812[I]:🎉 Flow is ready to use!\n",
      "\t🔗 Protocol: \t\t\u001b[1mGRPC\u001b[0m\n",
      "\t🏠 Local access:\t\u001b[4m\u001b[36m0.0.0.0:42753\u001b[0m\n",
      "\t🔒 Private network:\t\u001b[4m\u001b[36m192.168.178.144:42753\u001b[0m\n",
      "\t🌐 Public address:\t\u001b[4m\u001b[36m2001:16b8:46c7:e200:2608:d9f9:7d3d:a4f6:42753\u001b[0m\u001b[0m\n",
      "\u001b[31m           JINA@46358[E]:all gateway tasks are cancelled\u001b[0m\n",
      "\u001b[31m        gateway@46358[E]:Received message is empty.\u001b[0m\n",
      "\u001b[33m           JINA@45812[W]:\u001b[31mWorkspace workspace/JINA_WORKSPACE_resnet18 already exists. Please set ``overwrite_workspace=True`` for replacing it.\u001b[0m\u001b[0m\n",
      "\u001b[32m        encoder@45812[L]:ready and listening\u001b[0m\n",
      "\u001b[32m  embedding_idx@45812[L]:ready and listening\u001b[0m\n",
      "\u001b[32m        gateway@45812[L]:ready and listening\u001b[0m\n",
      "           Flow@45812[I]:🎉 Flow is ready to use!\n",
      "\t🔗 Protocol: \t\t\u001b[1mGRPC\u001b[0m\n",
      "\t🏠 Local access:\t\u001b[4m\u001b[36m0.0.0.0:53131\u001b[0m\n",
      "\t🔒 Private network:\t\u001b[4m\u001b[36m192.168.178.144:53131\u001b[0m\n",
      "\t🌐 Public address:\t\u001b[4m\u001b[36m2001:16b8:46c7:e200:2608:d9f9:7d3d:a4f6:53131\u001b[0m\u001b[0m\n",
      "\u001b[31m           JINA@46501[E]:all gateway tasks are cancelled\u001b[0m\n",
      "\u001b[31m        gateway@46501[E]:Received message is empty.\u001b[0m\n",
      "           JINA@45812[I]:\u001b[32mEvaluation Score: 0.5960264900662252\u001b[0m\u001b[0m\n"
     ]
    },
    {
     "name": "stderr",
     "output_type": "stream",
     "text": [
      "\u001b[32m[I 2021-07-09 12:26:57,606]\u001b[0m Trial 1 finished with value: 0.5960264900662252 and parameters: {'JINA_MODEL_NAME': 'resnet18'}. Best is trial 0 with value: 0.6821192052980133.\u001b[0m\n"
     ]
    },
    {
     "name": "stdout",
     "output_type": "stream",
     "text": [
      "\u001b[32m        encoder@45812[L]:ready and listening\u001b[0m\n",
      "\u001b[32m  embedding_idx@45812[L]:ready and listening\u001b[0m\n",
      "\u001b[32m        gateway@45812[L]:ready and listening\u001b[0m\n",
      "           Flow@45812[I]:🎉 Flow is ready to use!\n",
      "\t🔗 Protocol: \t\t\u001b[1mGRPC\u001b[0m\n",
      "\t🏠 Local access:\t\u001b[4m\u001b[36m0.0.0.0:57477\u001b[0m\n",
      "\t🔒 Private network:\t\u001b[4m\u001b[36m192.168.178.144:57477\u001b[0m\n",
      "\t🌐 Public address:\t\u001b[4m\u001b[36m2001:16b8:46c7:e200:2608:d9f9:7d3d:a4f6:57477\u001b[0m\u001b[0m\n",
      "\u001b[31m           JINA@46819[E]:all gateway tasks are cancelled\u001b[0m\n",
      "\u001b[31m        gateway@46819[E]:Received message is empty.\u001b[0m\n",
      "\u001b[33m           JINA@45812[W]:\u001b[31mWorkspace workspace/JINA_WORKSPACE_squeezenet1_0 already exists. Please set ``overwrite_workspace=True`` for replacing it.\u001b[0m\u001b[0m\n",
      "\u001b[32m        encoder@45812[L]:ready and listening\u001b[0m\n",
      "\u001b[32m  embedding_idx@45812[L]:ready and listening\u001b[0m\n",
      "\u001b[32m        gateway@45812[L]:ready and listening\u001b[0m\n",
      "           Flow@45812[I]:🎉 Flow is ready to use!\n",
      "\t🔗 Protocol: \t\t\u001b[1mGRPC\u001b[0m\n",
      "\t🏠 Local access:\t\u001b[4m\u001b[36m0.0.0.0:36857\u001b[0m\n",
      "\t🔒 Private network:\t\u001b[4m\u001b[36m192.168.178.144:36857\u001b[0m\n",
      "\t🌐 Public address:\t\u001b[4m\u001b[36m2001:16b8:46c7:e200:2608:d9f9:7d3d:a4f6:36857\u001b[0m\u001b[0m\n",
      "\u001b[31m           JINA@46944[E]:all gateway tasks are cancelled\u001b[0m\n",
      "\u001b[31m        gateway@46944[E]:Received message is empty.\u001b[0m\n",
      "           JINA@45812[I]:\u001b[32mEvaluation Score: 0.7748344370860927\u001b[0m\u001b[0m\n"
     ]
    },
    {
     "name": "stderr",
     "output_type": "stream",
     "text": [
      "\u001b[32m[I 2021-07-09 12:27:07,786]\u001b[0m Trial 2 finished with value: 0.7748344370860927 and parameters: {'JINA_MODEL_NAME': 'squeezenet1_0'}. Best is trial 2 with value: 0.7748344370860927.\u001b[0m\n"
     ]
    },
    {
     "name": "stdout",
     "output_type": "stream",
     "text": [
      "           JINA@45812[I]:\u001b[32mNumber of finished trials: 3\u001b[0m\u001b[0m\n",
      "           JINA@45812[I]:\u001b[32mBest trial: {'JINA_MODEL_NAME': 'squeezenet1_0'}\u001b[0m\u001b[0m\n",
      "           JINA@45812[I]:\u001b[32mTime to finish: 0:00:10.174707\u001b[0m\u001b[0m\n"
     ]
    }
   ],
   "source": [
    "flows = get_flows()\n",
    "optimize(flows)"
   ]
  },
  {
   "cell_type": "markdown",
   "id": "e53cc612-e292-4e70-a0d4-d367175fe241",
   "metadata": {},
   "source": [
    "We can now check `optimize/best_config.yml` to see our best configuration."
   ]
  },
  {
   "cell_type": "code",
   "execution_count": null,
   "id": "acknowledged-student",
   "metadata": {},
   "outputs": [],
   "source": []
  }
 ],
 "metadata": {
  "kernelspec": {
   "display_name": "Python 3",
   "language": "python",
   "name": "python3"
  },
  "language_info": {
   "codemirror_mode": {
    "name": "ipython",
    "version": 3
   },
   "file_extension": ".py",
   "mimetype": "text/x-python",
   "name": "python",
   "nbconvert_exporter": "python",
   "pygments_lexer": "ipython3",
   "version": "3.7.11"
  }
 },
 "nbformat": 4,
 "nbformat_minor": 5
}
