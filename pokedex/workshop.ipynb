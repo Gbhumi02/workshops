{
 "cells": [
  {
   "cell_type": "markdown",
   "id": "organized-oxygen",
   "metadata": {
    "slideshow": {
     "slide_type": "slide"
    },
    "tags": []
   },
   "source": [
    "# Jina Workshop @ EuroPython: Building a Neural Image Search Engine"
   ]
  },
  {
   "cell_type": "markdown",
   "id": "civic-makeup",
   "metadata": {
    "slideshow": {
     "slide_type": "slide"
    },
    "tags": []
   },
   "source": [
    "In this workshop we will build a neural search engine for images of Pokemons."
   ]
  },
  {
   "cell_type": "markdown",
   "id": "4cbcfb36-6c1a-4fc2-a397-d28a0b5e2b89",
   "metadata": {},
   "source": [
    "---\n",
    "\n",
    "# TABLE OF CONTENTS\n",
    "\n",
    "## 1. Document - the data\n",
    "## 2. Flow - the pipeline\n",
    "### 2.1 Indexing \n",
    "### 2.2 Searching\n",
    "## 3. The Executor - the pipeline hops\n",
    "### 3.1 Replacing\n",
    "### 3.2 Creating\n",
    "## 4. Optimizing the pipeline\n",
    "\n"
   ]
  },
  {
   "cell_type": "markdown",
   "id": "orange-compression",
   "metadata": {},
   "source": [
    "---\n",
    "\n",
    "## Pre-requisites\n",
    "\n",
    "Skip this if you've already downloaded them.\n",
    "\n",
    "### Download and Extract Data\n",
    "\n",
    "For this example we're using Pokemon sprites from [veekun.com](https://veekun.com/dex/downloads). To download them run:\n",
    "\n",
    "```sh\n",
    "sh ./get_data.sh\n",
    "```\n",
    "\n",
    "### Download and Extract Pretrained Model\n",
    "\n",
    "In this example we will first the use [BiT (Big Transfer) model](https://github.com/google-research/big_transfer), To download it:\n",
    "\n",
    "```sh\n",
    "sh ./download.sh\n",
    "```"
   ]
  },
  {
   "attachments": {
    "07a57670-02d0-4b37-89d4-e40fa91fe617.png": {
     "image/png": "[encoded data removed]"
    },
    "4fdcaf41-1adb-4eef-9770-94a112369dfe.png": {
     "image/png": "[encoded data removed]"
    },
    "dd9fe45f-6be4-4822-ae92-2d281b56c0ff.png": {
     "image/png": "[encoded data removed]"
    }
   },
   "cell_type": "markdown",
   "id": "steady-singapore",
   "metadata": {},
   "source": [
    "---\n",
    "\n",
    "# The problem\n",
    "\n",
    "We want to search Pokemon by pictures! For example \n",
    "\n",
    "![1.png](attachment:07a57670-02d0-4b37-89d4-e40fa91fe617.png)\n",
    "\n",
    "May return\n",
    "\n",
    "![2.png](attachment:4fdcaf41-1adb-4eef-9770-94a112369dfe.png) ![3.png](attachment:dd9fe45f-6be4-4822-ae92-2d281b56c0ff.png)"
   ]
  },
  {
   "cell_type": "markdown",
   "id": "minimal-badge",
   "metadata": {},
   "source": [
    "---\n",
    "\n",
    "# Code"
   ]
  },
  {
   "cell_type": "markdown",
   "id": "16633ae0-807e-43e4-b661-c19e785aefca",
   "metadata": {},
   "source": [
    "Automatically reload changed files when running code."
   ]
  },
  {
   "cell_type": "code",
   "execution_count": 1,
   "id": "e7d3c463-54a0-4a4d-9f7f-c80315a5ad49",
   "metadata": {},
   "outputs": [],
   "source": [
    "%load_ext autoreload\n",
    "%autoreload 2"
   ]
  },
  {
   "cell_type": "markdown",
   "id": "7eb0ffd6-d445-4bb0-8524-6d45c986195c",
   "metadata": {},
   "source": [
    "Remove (some) warnings from TF and Torch"
   ]
  },
  {
   "cell_type": "code",
   "execution_count": 2,
   "id": "c9eb2af7-8924-442a-ac6a-1db4124706a2",
   "metadata": {},
   "outputs": [],
   "source": [
    "import warnings\n",
    "warnings.filterwarnings(\"ignore\")"
   ]
  },
  {
   "cell_type": "markdown",
   "id": "1d4864ed-c1ea-47c3-a16b-b95d7eb2411a",
   "metadata": {},
   "source": [
    "Required imports"
   ]
  },
  {
   "cell_type": "code",
   "execution_count": 3,
   "id": "1a0a1e19-f923-446f-be1b-8e21e67b88b6",
   "metadata": {},
   "outputs": [
    {
     "name": "stderr",
     "output_type": "stream",
     "text": [
      "2021-07-20 17:03:42.251328: W tensorflow/stream_executor/platform/default/dso_loader.cc:64] Could not load dynamic library 'libcudart.so.11.0'; dlerror: libcudart.so.11.0: cannot open shared object file: No such file or directory\n",
      "2021-07-20 17:03:42.251351: I tensorflow/stream_executor/cuda/cudart_stub.cc:29] Ignore above cudart dlerror if you do not have a GPU set up on your machine.\n"
     ]
    }
   ],
   "source": [
    "import os\n",
    "import sys\n",
    "from shutil import rmtree\n",
    "from glob import glob\n",
    "import numpy as np\n",
    "from matplotlib import pyplot as plt\n",
    "from matplotlib.pyplot import imshow\n",
    "from PIL import Image\n",
    "\n",
    "from jina import Flow, DocumentArray, Document\n",
    "\n",
    "from jinahub.image.normalizer import ImageNormalizer\n",
    "from jinahub.image.encoder.big_transfer import BigTransferEncoder\n",
    "from jinahub.image.encoder.torch_encoder import ImageTorchEncoder\n",
    "\n",
    "from components import MemMapIndexer"
   ]
  },
  {
   "cell_type": "markdown",
   "id": "126b317e-59fb-4360-87be-61939c82c469",
   "metadata": {},
   "source": [
    "# Document\n",
    "\n",
    "Here we prepare the data we want to search through.\n",
    "\n",
    "Jina provides two abstractions:\n",
    "\n",
    "- `Document`\n",
    "- `DocumentArray`"
   ]
  },
  {
   "cell_type": "markdown",
   "id": "bff8f114-2cda-40b7-a361-c8b00230d11c",
   "metadata": {},
   "source": [
    "Some configuration options.\n",
    "\n",
    "- restrict the nr of docs we index\n",
    "- the path to the images"
   ]
  },
  {
   "cell_type": "code",
   "execution_count": 4,
   "id": "71dae908-4628-4806-9ae0-0b993be3b2a4",
   "metadata": {},
   "outputs": [],
   "source": [
    "num_docs = int(os.environ.get('JINA_MAX_DOCS', 100))\n",
    "image_src = sorted(list(glob('data/pokemon/main-sprites/red-green/*.png')))"
   ]
  },
  {
   "cell_type": "code",
   "execution_count": 5,
   "id": "a7d7c993-e3a2-4ee6-8c9e-8fbb35d09c6d",
   "metadata": {},
   "outputs": [
    {
     "data": {
      "image/png": "[encoded data removed]",
      "text/plain": [
       "<Figure size 432x288 with 1 Axes>"
      ]
     },
     "metadata": {
      "needs_background": "light"
     },
     "output_type": "display_data"
    },
    {
     "data": {
      "image/png": "[encoded data removed]",
      "text/plain": [
       "<Figure size 432x288 with 1 Axes>"
      ]
     },
     "metadata": {
      "needs_background": "light"
     },
     "output_type": "display_data"
    },
    {
     "data": {
      "image/png": "[encoded data removed]",
      "text/plain": [
       "<Figure size 432x288 with 1 Axes>"
      ]
     },
     "metadata": {
      "needs_background": "light"
     },
     "output_type": "display_data"
    },
    {
     "data": {
      "image/png": "[encoded data removed]",
      "text/plain": [
       "<Figure size 432x288 with 1 Axes>"
      ]
     },
     "metadata": {
      "needs_background": "light"
     },
     "output_type": "display_data"
    },
    {
     "data": {
      "image/png": "[encoded data removed]",
      "text/plain": [
       "<Figure size 432x288 with 1 Axes>"
      ]
     },
     "metadata": {
      "needs_background": "light"
     },
     "output_type": "display_data"
    }
   ],
   "source": [
    "for img_path in image_src[:5]:\n",
    "    img = Image.open(img_path)\n",
    "    imshow(img)\n",
    "    plt.title(img_path)\n",
    "    plt.show()"
   ]
  },
  {
   "cell_type": "code",
   "execution_count": 6,
   "id": "bcc1c26b-f875-4b70-80e2-0a5ffcc80fdd",
   "metadata": {},
   "outputs": [],
   "source": [
    "def get_docs(image_src, num_docs):\n",
    "    docs = DocumentArray()\n",
    "\n",
    "    for file in image_src:\n",
    "        # Uniform Resource Identifier\n",
    "        doc = Document(uri=file)\n",
    "        doc.convert_image_uri_to_blob()\n",
    "        doc.tags['filename'] = file\n",
    "        docs.append(doc)\n",
    "        if len(docs) == num_docs:\n",
    "            break\n",
    "            \n",
    "    return docs"
   ]
  },
  {
   "cell_type": "code",
   "execution_count": 7,
   "id": "f768ff37-d723-45dc-a48a-759132843caa",
   "metadata": {
    "tags": []
   },
   "outputs": [],
   "source": [
    "docs = get_docs(image_src, num_docs)"
   ]
  },
  {
   "cell_type": "code",
   "execution_count": 8,
   "id": "1432dde0-a54a-46e1-b7d0-273032351de4",
   "metadata": {},
   "outputs": [
    {
     "data": {
      "text/plain": [
       "100"
      ]
     },
     "execution_count": 8,
     "metadata": {},
     "output_type": "execute_result"
    }
   ],
   "source": [
    "len(docs)"
   ]
  },
  {
   "cell_type": "markdown",
   "id": "rough-conspiracy",
   "metadata": {},
   "source": [
    "# Flows"
   ]
  },
  {
   "cell_type": "markdown",
   "id": "3b45fcf2-2a41-4264-88e3-bc35c279af42",
   "metadata": {},
   "source": [
    "Environment variables\n",
    "\n",
    "- workspace (folder where the encoded data will be stored)\n",
    "- port we will listen on"
   ]
  },
  {
   "cell_type": "code",
   "execution_count": 9,
   "id": "225b73d4-8a3f-4065-8391-9da5a2823350",
   "metadata": {},
   "outputs": [],
   "source": [
    "workspace = './workspace'\n",
    "os.environ['JINA_WORKSPACE'] = workspace\n",
    "os.environ['JINA_PORT'] = os.environ.get('JINA_PORT', str(45678))"
   ]
  },
  {
   "cell_type": "markdown",
   "id": "fbda8c29-5eae-4e8a-899b-d7a2178b54d4",
   "metadata": {},
   "source": [
    "We need to make sure to not index on top of an existing workspace. \n",
    "\n",
    "This can cause problems if you are using different configuration options between the two runs."
   ]
  },
  {
   "cell_type": "markdown",
   "id": "statistical-thomson",
   "metadata": {},
   "source": [
    "## Index\n",
    "\n",
    "This is the Flow we use to perform operations on our data."
   ]
  },
  {
   "cell_type": "code",
   "execution_count": 10,
   "id": "central-stupid",
   "metadata": {},
   "outputs": [],
   "source": [
    "f = Flow.load_config('flows/flow.yml')"
   ]
  },
  {
   "cell_type": "code",
   "execution_count": 11,
   "id": "343c9d5d-3589-4ea3-9bb5-b7e3940ce2eb",
   "metadata": {
    "tags": []
   },
   "outputs": [
    {
     "name": "stdout",
     "output_type": "stream",
     "text": [
      "Workspace at ./workspace exists. Will delete\n"
     ]
    }
   ],
   "source": [
    "if os.path.exists(workspace):\n",
    "    print(f'Workspace at {workspace} exists. Will delete')\n",
    "    rmtree(workspace)"
   ]
  },
  {
   "cell_type": "markdown",
   "id": "578e6b0e-26ac-41bb-8223-c788ac74676a",
   "metadata": {},
   "source": [
    "We can plot it."
   ]
  },
  {
   "cell_type": "code",
   "execution_count": 12,
   "id": "correct-giant",
   "metadata": {
    "tags": []
   },
   "outputs": [
    {
     "data": {
      "text/html": [
       "<img src=\"https://mermaid.ink/svg/JSV7aW5pdDogeyd0aGVtZSc6ICdiYXNlJywgJ3RoZW1lVmFyaWFibGVzJzogeyAncHJpbWFyeUNvbG9yJzogJyMzMkM4Q0QnLCAnZWRnZUxhYmVsQmFja2dyb3VuZCc6JyNmZmYnLCAnY2x1c3RlckJrZyc6ICcjRkZDQzY2J319fSUlCmdyYXBoIExSCmdhdGV3YXkoZ2F0ZXdheSk6OjpHQVRFV0FZIC0tPiBjcmFmdGVyKGNyYWZ0ZXIpOjo6UE9ECmNyYWZ0ZXIoY3JhZnRlcik6OjpQT0QgLS0+IGVuY29kZXIoZW5jb2Rlcik6OjpQT0QKZW5jb2RlcihlbmNvZGVyKTo6OlBPRCAtLT4gaW5kZXhlcihpbmRleGVyKTo6OlBPRAppbmRleGVyKGluZGV4ZXIpOjo6UE9EIC0tPiBnYXRld2F5X0VORChnYXRld2F5KTo6OkdBVEVXQVkKY2xhc3NEZWYgUE9EIGZpbGw6IzMyQzhDRCxzdHJva2U6IzAwOTk5OQpjbGFzc0RlZiBJTlNQRUNUIGZpbGw6I2ZmNjY2Nixjb2xvcjojZmZmCmNsYXNzRGVmIEpPSU5fSU5TUEVDVCBmaWxsOiNmZjY2NjYsY29sb3I6I2ZmZgpjbGFzc0RlZiBHQVRFV0FZIGZpbGw6IzZFNzI3OCxjb2xvcjojZmZmCmNsYXNzRGVmIElOU1BFQ1RfQVVYX1BBU1MgZmlsbDojZmZmLGNvbG9yOiMwMDAsc3Ryb2tlLWRhc2hhcnJheTogNSA1CmNsYXNzRGVmIHBlYSBmaWxsOiMwMDk5OTksc3Ryb2tlOiMxRTZFNzM=\"/>"
      ],
      "text/plain": [
       "<IPython.core.display.Image object>"
      ]
     },
     "metadata": {},
     "output_type": "display_data"
    }
   ],
   "source": [
    "f.plot('index.png')"
   ]
  },
  {
   "cell_type": "markdown",
   "id": "910c317c-0f0a-4755-a54d-0b24a4f37577",
   "metadata": {},
   "source": [
    "The Flow is the main pipeline in Jina. It describes the way data should be loaded, processed, stored etc. within the system. \n",
    "\n",
    "It is made up of components (called Executors), which are the ones doing the specific task.\n",
    "\n",
    "Ex. we have a crafter Executor, which preprocesses the data; an Encoder Executor, which loads the model and *encodes* that data;  Indexer Executor, which stores and retrieves the data etc."
   ]
  },
  {
   "cell_type": "markdown",
   "id": "considerable-details",
   "metadata": {},
   "source": [
    "The Flow is a context manager (like a file handler). Within the context, it starts all the Executors within their processes / threads.\n",
    "\n",
    "We load data into the pipeline from the directory we provided above. \n",
    "\n",
    "`request_size` dictates how many images should be sent in one request (~batching)."
   ]
  },
  {
   "cell_type": "code",
   "execution_count": 13,
   "id": "47ca4748-fda2-4e49-be5f-a517bc3e33b9",
   "metadata": {
    "tags": []
   },
   "outputs": [
    {
     "name": "stdout",
     "output_type": "stream",
     "text": [
      "\u001b[32m        crafter@73447[L]:ready and listening\u001b[0m\n",
      "\u001b[33mBigTransferEncoder@73482[W]:You tried to use a GPU but no GPU was found on your system. Defaulting to CPU!\u001b[0m\n",
      "BigTransferEncoder@73482[I]:BiT model path: pretrained\u001b[0m\n"
     ]
    },
    {
     "name": "stderr",
     "output_type": "stream",
     "text": [
      "2021-07-20 17:03:45.151021: W tensorflow/stream_executor/platform/default/dso_loader.cc:64] Could not load dynamic library 'libcuda.so.1'; dlerror: libcuda.so.1: cannot open shared object file: No such file or directory\n",
      "2021-07-20 17:03:45.151072: W tensorflow/stream_executor/cuda/cuda_driver.cc:326] failed call to cuInit: UNKNOWN ERROR (303)\n",
      "2021-07-20 17:03:45.151113: I tensorflow/stream_executor/cuda/cuda_diagnostics.cc:156] kernel driver does not appear to be running on this host (x1): /proc/driver/nvidia/version does not exist\n"
     ]
    },
    {
     "name": "stdout",
     "output_type": "stream",
     "text": [
      "WARNING:tensorflow:SavedModel saved prior to TF 2.5 detected when loading Keras model. Please ensure that you are saving the model with model.save() or tf.keras.models.save_model(), *NOT* tf.saved_model.save(). To confirm, there should be a file named \"keras_metadata.pb\" in the SavedModel directory.\n"
     ]
    },
    {
     "name": "stderr",
     "output_type": "stream",
     "text": [
      "2021-07-20 17:03:45.463932: I tensorflow/core/platform/cpu_feature_guard.cc:142] This TensorFlow binary is optimized with oneAPI Deep Neural Network Library (oneDNN) to use the following CPU instructions in performance-critical operations:  AVX2 FMA\n",
      "To enable them in other operations, rebuild TensorFlow with the appropriate compiler flags.\n"
     ]
    },
    {
     "name": "stdout",
     "output_type": "stream",
     "text": [
      "WARNING:tensorflow:No training configuration found in save file, so the model was *not* compiled. Compile it manually.\n",
      "\u001b[32m        encoder@73447[L]:ready and listening\u001b[0m\n",
      "\u001b[32m        indexer@73447[L]:ready and listening\u001b[0m\n",
      "\u001b[32m        gateway@73447[L]:ready and listening\u001b[0m\n",
      "           Flow@73447[I]:🎉 Flow is ready to use!\n",
      "\t🔗 Protocol: \t\t\u001b[1mGRPC\u001b[0m\n",
      "\t🏠 Local access:\t\u001b[4m\u001b[36m0.0.0.0:46835\u001b[0m\n",
      "\t🔒 Private network:\t\u001b[4m\u001b[36m192.168.178.144:46835\u001b[0m\n",
      "\t🌐 Public address:\t\u001b[4m\u001b[36m2001:16b8:4612:6300:b130:de59:46ea:a4ad:46835\u001b[0m\u001b[0m\n"
     ]
    },
    {
     "name": "stderr",
     "output_type": "stream",
     "text": [
      "2021-07-20 17:04:02.922279: I tensorflow/compiler/mlir/mlir_graph_optimization_pass.cc:176] None of the MLIR Optimization Passes are enabled (registered 2)\n",
      "2021-07-20 17:04:03.012441: I tensorflow/core/platform/profile_utils/cpu_utils.cc:114] CPU Frequency: 2299965000 Hz\n"
     ]
    }
   ],
   "source": [
    "with f:\n",
    "    f.post(\n",
    "        on='/index',\n",
    "        inputs=docs,\n",
    "        request_size=64,\n",
    "    )"
   ]
  },
  {
   "cell_type": "markdown",
   "id": "1da2fb59-f0e3-4d7f-9593-2e204830c586",
   "metadata": {},
   "source": [
    "# Questions?\n",
    "\n",
    "---"
   ]
  },
  {
   "cell_type": "markdown",
   "id": "static-moderator",
   "metadata": {},
   "source": [
    "## Searching"
   ]
  },
  {
   "cell_type": "markdown",
   "id": "be61c13a-1593-49fc-95c7-7ca6dee606ec",
   "metadata": {},
   "source": [
    "We load the first image in the dataset"
   ]
  },
  {
   "cell_type": "markdown",
   "id": "3ad798f7-3231-4b33-9403-55674e16ee1a",
   "metadata": {},
   "source": [
    "Search by outline - \"Who's that Pokemon?\""
   ]
  },
  {
   "cell_type": "code",
   "execution_count": 14,
   "id": "32012642-3b1d-44d4-b0f4-38e4e2248260",
   "metadata": {},
   "outputs": [
    {
     "data": {
      "text/plain": [
       "<matplotlib.image.AxesImage at 0x7f2214e1dbd0>"
      ]
     },
     "execution_count": 14,
     "metadata": {},
     "output_type": "execute_result"
    },
    {
     "data": {
      "image/png": "[encoded data removed]",
      "text/plain": [
       "<Figure size 432x288 with 1 Axes>"
      ]
     },
     "metadata": {
      "needs_background": "light"
     },
     "output_type": "display_data"
    }
   ],
   "source": [
    "outline = \"outline.png\"\n",
    "\n",
    "query_docs = get_docs([outline], 1)\n",
    "\n",
    "plt.imshow(Image.fromarray(query_docs[0].content.astype(np.uint8)))"
   ]
  },
  {
   "cell_type": "markdown",
   "id": "e34bed63-3a71-481a-a037-a57724df1868",
   "metadata": {},
   "source": [
    "OR Search across editions"
   ]
  },
  {
   "cell_type": "code",
   "execution_count": 15,
   "id": "d790dacc-0e01-45bf-b903-90fe769c5184",
   "metadata": {},
   "outputs": [
    {
     "data": {
      "text/plain": [
       "<matplotlib.image.AxesImage at 0x7f2214d8ead0>"
      ]
     },
     "execution_count": 15,
     "metadata": {},
     "output_type": "execute_result"
    },
    {
     "data": {
      "image/png": "[encoded data removed]",
      "text/plain": [
       "<Figure size 432x288 with 1 Axes>"
      ]
     },
     "metadata": {
      "needs_background": "light"
     },
     "output_type": "display_data"
    }
   ],
   "source": [
    "red_blue = sorted(list(glob('data/pokemon/main-sprites/red-blue/*.png', recursive=False)))\n",
    "\n",
    "query_docs = get_docs(red_blue, 1)\n",
    "\n",
    "plt.imshow(Image.fromarray(query_docs[0].content.astype(np.uint8)))"
   ]
  },
  {
   "cell_type": "markdown",
   "id": "cc666686-fe4e-495c-b418-c7d11dc38ec6",
   "metadata": {},
   "source": [
    "Let's examine the tags"
   ]
  },
  {
   "cell_type": "code",
   "execution_count": 16,
   "id": "f807c080-0798-47b0-bdd8-8bb6e7084050",
   "metadata": {},
   "outputs": [
    {
     "data": {
      "text/plain": [
       "<jina.types.struct.StructView filename=data/pokemon/main-sprites/red-blue/1.png at 139784354967056>"
      ]
     },
     "execution_count": 16,
     "metadata": {},
     "output_type": "execute_result"
    }
   ],
   "source": [
    "query_docs[0].tags"
   ]
  },
  {
   "cell_type": "markdown",
   "id": "aaf3e3f1-42b8-4bc5-a486-e28cfebf510f",
   "metadata": {},
   "source": [
    "Tags can store any relevant meta-data about the Document (ex. price, URL, category, etc.)"
   ]
  },
  {
   "cell_type": "code",
   "execution_count": 17,
   "id": "convinced-reliance",
   "metadata": {
    "tags": []
   },
   "outputs": [
    {
     "name": "stdout",
     "output_type": "stream",
     "text": [
      "\u001b[32m        crafter@73447[L]:ready and listening\u001b[0m\n",
      "\u001b[33mBigTransferEncoder@73572[W]:You tried to use a GPU but no GPU was found on your system. Defaulting to CPU!\u001b[0m\n",
      "BigTransferEncoder@73572[I]:BiT model path: pretrained\u001b[0m\n"
     ]
    },
    {
     "name": "stderr",
     "output_type": "stream",
     "text": [
      "2021-07-20 17:04:16.307642: W tensorflow/stream_executor/platform/default/dso_loader.cc:64] Could not load dynamic library 'libcuda.so.1'; dlerror: libcuda.so.1: cannot open shared object file: No such file or directory\n",
      "2021-07-20 17:04:16.307692: W tensorflow/stream_executor/cuda/cuda_driver.cc:326] failed call to cuInit: UNKNOWN ERROR (303)\n",
      "2021-07-20 17:04:16.307724: I tensorflow/stream_executor/cuda/cuda_diagnostics.cc:156] kernel driver does not appear to be running on this host (x1): /proc/driver/nvidia/version does not exist\n"
     ]
    },
    {
     "name": "stdout",
     "output_type": "stream",
     "text": [
      "WARNING:tensorflow:SavedModel saved prior to TF 2.5 detected when loading Keras model. Please ensure that you are saving the model with model.save() or tf.keras.models.save_model(), *NOT* tf.saved_model.save(). To confirm, there should be a file named \"keras_metadata.pb\" in the SavedModel directory.\n"
     ]
    },
    {
     "name": "stderr",
     "output_type": "stream",
     "text": [
      "2021-07-20 17:04:16.757995: I tensorflow/core/platform/cpu_feature_guard.cc:142] This TensorFlow binary is optimized with oneAPI Deep Neural Network Library (oneDNN) to use the following CPU instructions in performance-critical operations:  AVX2 FMA\n",
      "To enable them in other operations, rebuild TensorFlow with the appropriate compiler flags.\n"
     ]
    },
    {
     "name": "stdout",
     "output_type": "stream",
     "text": [
      "WARNING:tensorflow:No training configuration found in save file, so the model was *not* compiled. Compile it manually.\n",
      "\u001b[32m        encoder@73447[L]:ready and listening\u001b[0m\n",
      "\u001b[32m        indexer@73447[L]:ready and listening\u001b[0m\n",
      "\u001b[32m        gateway@73447[L]:ready and listening\u001b[0m\n",
      "           Flow@73447[I]:🎉 Flow is ready to use!\n",
      "\t🔗 Protocol: \t\t\u001b[1mGRPC\u001b[0m\n",
      "\t🏠 Local access:\t\u001b[4m\u001b[36m0.0.0.0:45089\u001b[0m\n",
      "\t🔒 Private network:\t\u001b[4m\u001b[36m192.168.178.144:45089\u001b[0m\n",
      "\t🌐 Public address:\t\u001b[4m\u001b[36m2001:16b8:4612:6300:b130:de59:46ea:a4ad:45089\u001b[0m\u001b[0m\n"
     ]
    },
    {
     "name": "stderr",
     "output_type": "stream",
     "text": [
      "2021-07-20 17:04:33.800521: I tensorflow/compiler/mlir/mlir_graph_optimization_pass.cc:176] None of the MLIR Optimization Passes are enabled (registered 2)\n",
      "2021-07-20 17:04:33.888497: I tensorflow/core/platform/profile_utils/cpu_utils.cc:114] CPU Frequency: 2299965000 Hz\n"
     ]
    }
   ],
   "source": [
    "# searching\n",
    "with f:\n",
    "    return_docs = f.post(\n",
    "        on='/search',\n",
    "        inputs=query_docs,\n",
    "        parameters={'top_k': 5},\n",
    "        return_results=True\n",
    "    )"
   ]
  },
  {
   "cell_type": "markdown",
   "id": "7dbd61ee-ec07-4e37-a434-d00f4ef1c15e",
   "metadata": {},
   "source": [
    "Retrieving tags (image path)"
   ]
  },
  {
   "cell_type": "markdown",
   "id": "6069f868-e314-44fd-874d-387e2c1b9ccc",
   "metadata": {},
   "source": [
    "**Results**\n",
    "\n",
    "Reconstructing the original image from the Document content.\n",
    "\n",
    "Top match should be the corresponding Pokemon in the other edition."
   ]
  },
  {
   "cell_type": "code",
   "execution_count": 18,
   "id": "e3f6b1ff-0fb3-4385-9e5c-12f790a3b6ae",
   "metadata": {},
   "outputs": [
    {
     "data": {
      "image/png": "[encoded data removed]",
      "text/plain": [
       "<Figure size 432x288 with 1 Axes>"
      ]
     },
     "metadata": {
      "needs_background": "light"
     },
     "output_type": "display_data"
    },
    {
     "data": {
      "image/png": "[encoded data removed]",
      "text/plain": [
       "<Figure size 432x288 with 1 Axes>"
      ]
     },
     "metadata": {
      "needs_background": "light"
     },
     "output_type": "display_data"
    },
    {
     "data": {
      "image/png": "[encoded data removed]",
      "text/plain": [
       "<Figure size 432x288 with 1 Axes>"
      ]
     },
     "metadata": {
      "needs_background": "light"
     },
     "output_type": "display_data"
    },
    {
     "data": {
      "image/png": "[encoded data removed]",
      "text/plain": [
       "<Figure size 432x288 with 1 Axes>"
      ]
     },
     "metadata": {
      "needs_background": "light"
     },
     "output_type": "display_data"
    },
    {
     "data": {
      "image/png": "[encoded data removed]",
      "text/plain": [
       "<Figure size 432x288 with 1 Axes>"
      ]
     },
     "metadata": {
      "needs_background": "light"
     },
     "output_type": "display_data"
    }
   ],
   "source": [
    "for match in return_docs[0].docs[0].matches:\n",
    "    filename = match.tags['filename']\n",
    "    img = Image.open(filename)\n",
    "    imshow(img)\n",
    "    plt.title(match.tags['filename'])\n",
    "    plt.show()"
   ]
  },
  {
   "cell_type": "markdown",
   "id": "virtual-think",
   "metadata": {},
   "source": [
    "# Questions?\n",
    "\n",
    "---"
   ]
  },
  {
   "cell_type": "markdown",
   "id": "848fd1d2-f13a-4683-a044-17e5795ba316",
   "metadata": {},
   "source": [
    "# Advanced Topics\n",
    "\n",
    "\n",
    "**NOTE**: After configuring these, you will need to re-index your data and search again. "
   ]
  },
  {
   "cell_type": "markdown",
   "id": "f45c02a2-382d-499f-a183-923039a4e9c8",
   "metadata": {},
   "source": [
    "## 1. Changing Encoders\n",
    "\n",
    "We can switch the `Encoder` easily.\n",
    "\n",
    "This is the component that is the actual **model**. This encodes the images into a vector space upon which you can perform cosine similarity (or other linear algebra operations).\n",
    "\n",
    "\n",
    "`flows/flow.yml`:\n",
    "\n",
    "```yaml\n",
    "...\n",
    "  - name: encoder\n",
    "    timeout_ready: 600000\n",
    "    uses:\n",
    "        jtype: ImageTorchEncoder\n",
    "...\n",
    "```\n",
    "\n",
    "We also need to make sure the class is discoverable in the current runtime:\n",
    "\n",
    "By default it uses `resnet18`. We can change this with\n",
    "\n",
    "```yaml\n",
    "...\n",
    "  - name: encoder\n",
    "    timeout_ready: 600000\n",
    "    uses:\n",
    "        jtype: ImageTorchEncoder\n",
    "        with:\n",
    "            model_name: resnet101\n",
    "...\n",
    "```\n"
   ]
  },
  {
   "cell_type": "code",
   "execution_count": 19,
   "id": "0a4c2aae-7341-4a2d-bc2c-c949c4e28311",
   "metadata": {},
   "outputs": [],
   "source": [
    "from jinahub.image.encoder.torch_encoder import ImageTorchEncoder"
   ]
  },
  {
   "cell_type": "markdown",
   "id": "18054f0a-c4a8-4472-907d-7f0febbede85",
   "metadata": {},
   "source": [
    "Either edit the `flows/flow.yml` file to add it, or use the pre-written `flows/flow-torch.yml`"
   ]
  },
  {
   "cell_type": "markdown",
   "id": "99dd3646-cdbb-448c-a4c2-07c98d1b2945",
   "metadata": {},
   "source": [
    "Now we re-run the cells above with the new Flow. Make sure to **delete the workspace**."
   ]
  },
  {
   "cell_type": "markdown",
   "id": "98afa8f0-f815-4dc3-a137-d83eabe5174b",
   "metadata": {},
   "source": [
    "**RESULTS** Notice that TorchEncoder returns different results."
   ]
  },
  {
   "cell_type": "markdown",
   "id": "3bbbdeb3-d77e-4efc-a222-bbb2531de02f",
   "metadata": {},
   "source": [
    "# Questions?\n",
    "\n",
    "---"
   ]
  },
  {
   "cell_type": "markdown",
   "id": "ea9f4771-956f-463a-9666-9a1120abe180",
   "metadata": {},
   "source": [
    "## 2. Your own custom Executor\n",
    "\n",
    "Next let's delve one level deeper into Jina.\n",
    "\n",
    "So far we have looked at the Flow (top level) and the Document (one element of data).\n",
    "\n",
    "The intermediate level is the Executor (which is a component in the pipeline of the Flow).\n",
    "\n",
    "Let's create an Executor which \"logs\" the query results."
   ]
  },
  {
   "cell_type": "code",
   "execution_count": 20,
   "id": "e56c4acb-4d46-4dd2-95f9-97fc7ea011fa",
   "metadata": {},
   "outputs": [],
   "source": [
    "from components import RequestLogger"
   ]
  },
  {
   "cell_type": "markdown",
   "id": "d656e42b-a580-4794-918e-317e375871da",
   "metadata": {},
   "source": [
    "Either edit the `flows/flow.yml` file to add it, or use the pre-written `flows/flow-torch-logger.yml`"
   ]
  },
  {
   "cell_type": "markdown",
   "id": "b0816afe-ed37-4f87-9788-fcf694b0205d",
   "metadata": {},
   "source": [
    "### Model comparison\n",
    "\n",
    "![](models.png)"
   ]
  },
  {
   "cell_type": "markdown",
   "id": "charming-imagination",
   "metadata": {},
   "source": [
    "# Questions?\n",
    "\n",
    "---"
   ]
  },
  {
   "attachments": {
    "1a98c688-569b-4b08-aa1d-3dbb7fadd38f.png": {
     "image/png": "[encoded data removed]"
    },
    "cb8f8cf6-92f7-4b7f-9a75-43029261979b.png": {
     "image/png": "[encoded data removed]"
    }
   },
   "cell_type": "markdown",
   "id": "supported-martin",
   "metadata": {},
   "source": [
    "## 3. Optimization\n",
    "\n",
    "In every Flow that is build with Jina, there are quite some parameters to set.\n",
    "For example, if you use a pre-trained model for encoding, there is no obvious best choice for a given dataset.\n",
    "Jina allows you to try out a lot of different parameters automatically in order to get the best results.\n",
    "\n",
    "Therefor, you need to provide Jina some sort of evaluation metric.\n",
    "In the pokemon dataset, there are two edition with the same pokemon, but different images: `red-blue` and `red-green`.\n",
    "\n",
    "![1.png](attachment:cb8f8cf6-92f7-4b7f-9a75-43029261979b.png)![1.png](attachment:1a98c688-569b-4b08-aa1d-3dbb7fadd38f.png)\n",
    "\n",
    "Thus, we will setup the following evaluation metric:\n",
    "Index one edition and search with the other edition.\n",
    "We have a success, if the right pokemon is at the first place in the search results.\n",
    "\n",
    "We need to do the following steps:\n",
    "\n",
    "- A) build an `index` and a `search` Flow, which are repeaditly runnable\n",
    "- B) use the `red-blue` dataset for `index` and the `red-green` for `search`\n",
    "- C) implement an `EvaluationCallback` which will calculate, if the right pokemon is in the first place\n",
    "- D) set the needed `OptimizationParameter` via a `parameter.yml` file\n",
    "- E) setup the optimization process itself\n",
    "\n",
    "**NOTE**: Under the hood, we use [optuna](https://optuna.readthedocs.io/en/stable/) for hyperparameter optimization.\n",
    "\n",
    "### Do the imports"
   ]
  },
  {
   "cell_type": "code",
   "execution_count": 21,
   "id": "cooperative-realtor",
   "metadata": {},
   "outputs": [],
   "source": [
    "from glob import iglob\n",
    "from jina import Document\n",
    "from jina.optimizers.flow_runner import SingleFlowRunner, MultiFlowRunner\n",
    "from jina.optimizers import FlowOptimizer, EvaluationCallback"
   ]
  },
  {
   "cell_type": "markdown",
   "id": "alien-fossil",
   "metadata": {},
   "source": [
    "### A) & B)\n",
    "\n",
    "Jina provides the \n",
    "- `SingleFlowRunner` for making a Flow repeaditly runnable and the \n",
    "- `MultiFlowRunner` to chain multiple `SingleFlowRunner` for the `FlowOptimizer`\n",
    "\n",
    "For setup you need:\n",
    "- `flow_yaml`: the definition of a Flow\n",
    "- `documents`: the Documents, which are send to the Flow in each optimization step\n",
    "- `execution_method`: tell the Flow, whether `index` or `search` should be used\n",
    "\n",
    "Beware, that we introduce `JINA_MODEL_NAME_VAR: ${{JINA_MODEL_NAME}}` in the two new Flow definition.\n",
    "This variable will allow us to change the model in the Flow in each optimization step."
   ]
  },
  {
   "cell_type": "code",
   "execution_count": 22,
   "id": "italic-mounting",
   "metadata": {},
   "outputs": [],
   "source": [
    "def get_input_iterator(edition, full_document):\n",
    "    image_src = f'data/pokemon/main-sprites/{edition}/*.png'\n",
    "    for filename in iglob(image_src, recursive=True):\n",
    "        doc = Document(uri=filename)\n",
    "        doc.convert_image_uri_to_blob()\n",
    "\n",
    "        doc.blob = doc.blob.astype(np.uint8)\n",
    "        doc.tags['filename'] = filename\n",
    "        yield doc\n",
    "\n",
    "def get_flows():\n",
    "    index_flow = SingleFlowRunner(\n",
    "        flow_yaml='flows/flow_opt.yml',\n",
    "        documents=get_input_iterator('red-blue', True),\n",
    "        request_size=64,\n",
    "        execution_endpoint='/index',\n",
    "        overwrite_workspace=True\n",
    "    )\n",
    "\n",
    "    search_flow = SingleFlowRunner(\n",
    "        flow_yaml='flows/flow_opt.yml',\n",
    "        documents=get_input_iterator('red-green', False),\n",
    "        request_size=64,\n",
    "        execution_endpoint='/search'\n",
    "    )\n",
    "\n",
    "    multi_flow = MultiFlowRunner([index_flow, search_flow])\n",
    "    return multi_flow\n"
   ]
  },
  {
   "cell_type": "markdown",
   "id": "global-database",
   "metadata": {},
   "source": [
    "### C) implement an `EvaluationCallback` which will calculate, if the right pokemon is in the first place\n",
    "\n",
    "Since the files are named the same for both editions, we use the filename as an identifier, whether we found the right pokemon.\n",
    "The `PokemonCallback` checks for each Document, whether the correct result is in the first position."
   ]
  },
  {
   "cell_type": "code",
   "execution_count": 23,
   "id": "technical-airfare",
   "metadata": {},
   "outputs": [],
   "source": [
    "def get_id(filename):\n",
    "    return filename.split('/')[-1].split('.')[0]\n",
    "\n",
    "class PokemonCallback(EvaluationCallback):\n",
    "\n",
    "    def __init__(self, *args, **kwargs):\n",
    "        super().__init__(*args, **kwargs)\n",
    "        self._eval_name = \"pokedex_eval\"\n",
    "\n",
    "    def get_empty_copy(self):\n",
    "        return PokemonCallback(self._eval_name)\n",
    "    \n",
    "    def __call__(self, response):\n",
    "        self._n_docs += len(response.data.docs)\n",
    "        for doc in response.data.docs:\n",
    "            if doc.matches:\n",
    "                document_id = get_id(str(doc.tags.fields['filename']))\n",
    "                first_match_id = get_id(str(doc.matches[0].tags.fields['filename']))\n",
    "                if document_id == first_match_id:\n",
    "                    self._evaluation_values[self._eval_name].append(1)\n",
    "                else:\n",
    "                    self._evaluation_values[self._eval_name].append(0)\n",
    "                    "
   ]
  },
  {
   "cell_type": "markdown",
   "id": "bridal-dispatch",
   "metadata": {},
   "source": [
    "### D) set the needed `OptimizationParameter` via a `parameter.yml` file\n",
    "\n",
    "We defined in the `parameter_few.yml` the models, that the optimizer should try out.\n",
    "For demonstation purpose, we just added three models, in order to make the optimizer run rather short.\n",
    "If you want to try mode models, please use the `parameter.yml` file and increase `n_trials` parameter in the `FlowOptimizer` below"
   ]
  },
  {
   "cell_type": "markdown",
   "id": "christian-brooklyn",
   "metadata": {},
   "source": [
    "### E) setup the optimization process itself\n",
    "\n",
    "Finally, we build the `FlowOptimizer` object.\n",
    "It needs:\n",
    "- `flow_runner`: the repeaditly runnable Flow object\n",
    "- `parameter_yaml`: the parameters which the optimizer can change\n",
    "- `evaluation_callback`: our previously defined evaluation function\n",
    "- `workspace_base_dir`: A directory for temporary data\n",
    "- `n_trials`: The amount of optimization steps, that should be performed\n",
    "- `sampler`: the way, the `FlowOptimizer` should sample new values in each step. For more info please look at the [optuna docs](https://optuna.readthedocs.io/en/stable/reference/generated/optuna.samplers.RandomSampler.html#optuna.samplers.RandomSampler)."
   ]
  },
  {
   "cell_type": "code",
   "execution_count": 24,
   "id": "623308f2-a996-43ad-953f-c50ae21da496",
   "metadata": {
    "tags": []
   },
   "outputs": [],
   "source": [
    "def optimize(flows):\n",
    "    optimizer = FlowOptimizer(\n",
    "        flow_runner=flows,\n",
    "        parameter_yaml='optimize/parameters_few.yml',\n",
    "        evaluation_callback=PokemonCallback(eval_name='correct'),\n",
    "        workspace_base_dir='workspace',\n",
    "        n_trials=3,\n",
    "        sampler='RandomSampler',\n",
    "        # to guarantee reproducibility in the sampling\n",
    "        seed=1\n",
    "    )\n",
    "    result = optimizer.optimize_flow()\n",
    "    result.save_parameters('optimize/best_config.yml')"
   ]
  },
  {
   "cell_type": "code",
   "execution_count": 25,
   "id": "c1e46b5f-af02-4973-a817-49206185e221",
   "metadata": {
    "tags": []
   },
   "outputs": [
    {
     "name": "stderr",
     "output_type": "stream",
     "text": [
      "\u001b[32m[I 2021-07-20 17:04:36,720]\u001b[0m A new study created in memory with name: no-name-8a8b2353-f10d-4833-ab88-d8e915a9b099\u001b[0m\n"
     ]
    },
    {
     "name": "stdout",
     "output_type": "stream",
     "text": [
      "\u001b[32m        encoder@73447[L]:ready and listening\u001b[0m\n",
      "\u001b[32m  embedding_idx@73447[L]:ready and listening\u001b[0m\n",
      "\u001b[32m        gateway@73447[L]:ready and listening\u001b[0m\n",
      "           Flow@73447[I]:🎉 Flow is ready to use!\n",
      "\t🔗 Protocol: \t\t\u001b[1mGRPC\u001b[0m\n",
      "\t🏠 Local access:\t\u001b[4m\u001b[36m0.0.0.0:35719\u001b[0m\n",
      "\t🔒 Private network:\t\u001b[4m\u001b[36m192.168.178.144:35719\u001b[0m\n",
      "\t🌐 Public address:\t\u001b[4m\u001b[36m2001:16b8:4612:6300:b130:de59:46ea:a4ad:35719\u001b[0m\u001b[0m\n",
      "\u001b[33m           JINA@73447[W]:\u001b[31mWorkspace workspace/JINA_WORKSPACE_alexnet already exists. Please set ``overwrite_workspace=True`` for replacing it.\u001b[0m\u001b[0m\n",
      "\u001b[32m        encoder@73447[L]:ready and listening\u001b[0m\n",
      "\u001b[32m  embedding_idx@73447[L]:ready and listening\u001b[0m\n",
      "\u001b[32m        gateway@73447[L]:ready and listening\u001b[0m\n",
      "           Flow@73447[I]:🎉 Flow is ready to use!\n",
      "\t🔗 Protocol: \t\t\u001b[1mGRPC\u001b[0m\n",
      "\t🏠 Local access:\t\u001b[4m\u001b[36m0.0.0.0:58081\u001b[0m\n",
      "\t🔒 Private network:\t\u001b[4m\u001b[36m192.168.178.144:58081\u001b[0m\n",
      "\t🌐 Public address:\t\u001b[4m\u001b[36m2001:16b8:4612:6300:b130:de59:46ea:a4ad:58081\u001b[0m\u001b[0m\n",
      "           JINA@73447[I]:\u001b[32mEvaluation Score: 0.6821192052980133\u001b[0m\u001b[0m\n"
     ]
    },
    {
     "name": "stderr",
     "output_type": "stream",
     "text": [
      "\u001b[32m[I 2021-07-20 17:04:43,915]\u001b[0m Trial 0 finished with value: 0.6821192052980133 and parameters: {'JINA_MODEL_NAME': 'alexnet'}. Best is trial 0 with value: 0.6821192052980133.\u001b[0m\n"
     ]
    },
    {
     "name": "stdout",
     "output_type": "stream",
     "text": [
      "\u001b[32m        encoder@73447[L]:ready and listening\u001b[0m\n",
      "\u001b[32m  embedding_idx@73447[L]:ready and listening\u001b[0m\n",
      "\u001b[32m        gateway@73447[L]:ready and listening\u001b[0m\n",
      "           Flow@73447[I]:🎉 Flow is ready to use!\n",
      "\t🔗 Protocol: \t\t\u001b[1mGRPC\u001b[0m\n",
      "\t🏠 Local access:\t\u001b[4m\u001b[36m0.0.0.0:53947\u001b[0m\n",
      "\t🔒 Private network:\t\u001b[4m\u001b[36m192.168.178.144:53947\u001b[0m\n",
      "\t🌐 Public address:\t\u001b[4m\u001b[36m2001:16b8:4612:6300:b130:de59:46ea:a4ad:53947\u001b[0m\u001b[0m\n",
      "\u001b[33m           JINA@73447[W]:\u001b[31mWorkspace workspace/JINA_WORKSPACE_resnet18 already exists. Please set ``overwrite_workspace=True`` for replacing it.\u001b[0m\u001b[0m\n",
      "\u001b[32m        encoder@73447[L]:ready and listening\u001b[0m\n",
      "\u001b[32m  embedding_idx@73447[L]:ready and listening\u001b[0m\n",
      "\u001b[32m        gateway@73447[L]:ready and listening\u001b[0m\n",
      "           Flow@73447[I]:🎉 Flow is ready to use!\n",
      "\t🔗 Protocol: \t\t\u001b[1mGRPC\u001b[0m\n",
      "\t🏠 Local access:\t\u001b[4m\u001b[36m0.0.0.0:35415\u001b[0m\n",
      "\t🔒 Private network:\t\u001b[4m\u001b[36m192.168.178.144:35415\u001b[0m\n",
      "\t🌐 Public address:\t\u001b[4m\u001b[36m2001:16b8:4612:6300:b130:de59:46ea:a4ad:35415\u001b[0m\u001b[0m\n",
      "           JINA@73447[I]:\u001b[32mEvaluation Score: 0.5960264900662252\u001b[0m\u001b[0m\n"
     ]
    },
    {
     "name": "stderr",
     "output_type": "stream",
     "text": [
      "\u001b[32m[I 2021-07-20 17:04:58,272]\u001b[0m Trial 1 finished with value: 0.5960264900662252 and parameters: {'JINA_MODEL_NAME': 'resnet18'}. Best is trial 0 with value: 0.6821192052980133.\u001b[0m\n"
     ]
    },
    {
     "name": "stdout",
     "output_type": "stream",
     "text": [
      "\u001b[32m        encoder@73447[L]:ready and listening\u001b[0m\n",
      "\u001b[32m  embedding_idx@73447[L]:ready and listening\u001b[0m\n",
      "\u001b[32m        gateway@73447[L]:ready and listening\u001b[0m\n",
      "           Flow@73447[I]:🎉 Flow is ready to use!\n",
      "\t🔗 Protocol: \t\t\u001b[1mGRPC\u001b[0m\n",
      "\t🏠 Local access:\t\u001b[4m\u001b[36m0.0.0.0:48395\u001b[0m\n",
      "\t🔒 Private network:\t\u001b[4m\u001b[36m192.168.178.144:48395\u001b[0m\n",
      "\t🌐 Public address:\t\u001b[4m\u001b[36m2001:16b8:4612:6300:b130:de59:46ea:a4ad:48395\u001b[0m\u001b[0m\n",
      "\u001b[33m           JINA@73447[W]:\u001b[31mWorkspace workspace/JINA_WORKSPACE_squeezenet1_0 already exists. Please set ``overwrite_workspace=True`` for replacing it.\u001b[0m\u001b[0m\n",
      "\u001b[32m        encoder@73447[L]:ready and listening\u001b[0m\n",
      "\u001b[32m  embedding_idx@73447[L]:ready and listening\u001b[0m\n",
      "\u001b[32m        gateway@73447[L]:ready and listening\u001b[0m\n",
      "           Flow@73447[I]:🎉 Flow is ready to use!\n",
      "\t🔗 Protocol: \t\t\u001b[1mGRPC\u001b[0m\n",
      "\t🏠 Local access:\t\u001b[4m\u001b[36m0.0.0.0:44783\u001b[0m\n",
      "\t🔒 Private network:\t\u001b[4m\u001b[36m192.168.178.144:44783\u001b[0m\n",
      "\t🌐 Public address:\t\u001b[4m\u001b[36m2001:16b8:4612:6300:b130:de59:46ea:a4ad:44783\u001b[0m\u001b[0m\n",
      "           JINA@73447[I]:\u001b[32mEvaluation Score: 0.7748344370860927\u001b[0m\u001b[0m\n"
     ]
    },
    {
     "name": "stderr",
     "output_type": "stream",
     "text": [
      "\u001b[32m[I 2021-07-20 17:05:11,110]\u001b[0m Trial 2 finished with value: 0.7748344370860927 and parameters: {'JINA_MODEL_NAME': 'squeezenet1_0'}. Best is trial 2 with value: 0.7748344370860927.\u001b[0m\n"
     ]
    },
    {
     "name": "stdout",
     "output_type": "stream",
     "text": [
      "           JINA@73447[I]:\u001b[32mNumber of finished trials: 3\u001b[0m\u001b[0m\n",
      "           JINA@73447[I]:\u001b[32mBest trial: {'JINA_MODEL_NAME': 'squeezenet1_0'}\u001b[0m\u001b[0m\n",
      "           JINA@73447[I]:\u001b[32mTime to finish: 0:00:12.837243\u001b[0m\u001b[0m\n"
     ]
    }
   ],
   "source": [
    "flows = get_flows()\n",
    "optimize(flows)"
   ]
  },
  {
   "cell_type": "markdown",
   "id": "e53cc612-e292-4e70-a0d4-d367175fe241",
   "metadata": {},
   "source": [
    "We can now check `optimize/best_config.yml` to see our best configuration."
   ]
  },
  {
   "cell_type": "code",
   "execution_count": null,
   "id": "acknowledged-student",
   "metadata": {},
   "outputs": [],
   "source": []
  }
 ],
 "metadata": {
  "kernelspec": {
   "display_name": "Python 3",
   "language": "python",
   "name": "python3"
  },
  "language_info": {
   "codemirror_mode": {
    "name": "ipython",
    "version": 3
   },
   "file_extension": ".py",
   "mimetype": "text/x-python",
   "name": "python",
   "nbconvert_exporter": "python",
   "pygments_lexer": "ipython3",
   "version": "3.7.11"
  }
 },
 "nbformat": 4,
 "nbformat_minor": 5
}
